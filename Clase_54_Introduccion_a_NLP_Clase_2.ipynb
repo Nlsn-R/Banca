{
  "nbformat": 4,
  "nbformat_minor": 0,
  "metadata": {
    "colab": {
      "provenance": [],
      "collapsed_sections": [
        "eB-FMmvvOh90",
        "RrNKtx8EPrr1",
        "Lq1Cev75Qjy5",
        "27Owz6clRAe2",
        "WPyUzf66RL-V",
        "qzhKZ2n_TEv4",
        "asrthaXMT1j0"
      ],
      "include_colab_link": true
    },
    "kernelspec": {
      "name": "python3",
      "display_name": "Python 3"
    },
    "language_info": {
      "name": "python"
    }
  },
  "cells": [
    {
      "cell_type": "markdown",
      "metadata": {
        "id": "view-in-github",
        "colab_type": "text"
      },
      "source": [
        "<a href=\"https://colab.research.google.com/github/Nlsn-R/Banca/blob/main/Clase_54_Introduccion_a_NLP_Clase_2.ipynb\" target=\"_parent\"><img src=\"https://colab.research.google.com/assets/colab-badge.svg\" alt=\"Open In Colab\"/></a>"
      ]
    },
    {
      "cell_type": "markdown",
      "source": [
        "# Uso de spaCY"
      ],
      "metadata": {
        "id": "8UtDTjZ4M3hn"
      }
    },
    {
      "cell_type": "code",
      "source": [
        "!python -m spacy download es_core_news_sm\n",
        "! pip install -U symspellpy\n",
        "import nltk # importar natural language toolkit\n",
        "nltk.download('punkt') \n",
        "nltk.download('stopwords') # modulo para descargar stopwords en diferentes idiomas\n",
        "nltk.download('wordnet')\n",
        "from nltk.corpus import stopwords\n",
        "import pandas as pd\n",
        "import numpy  as np\n",
        "import re\n",
        "import string\n",
        "import plotly\n",
        "import matplotlib.pyplot as plt\n",
        "from nltk.stem import PorterStemmer \n",
        "import time\n",
        "import spacy\n",
        "import es_core_news_sm\n",
        "from nltk.corpus import stopwords\n",
        "from nltk.tokenize import word_tokenize\n",
        "from nltk.tokenize import sent_tokenize\n",
        "from sklearn.feature_extraction.text import CountVectorizer\n",
        "from sklearn.feature_extraction.text import TfidfTransformer\n",
        "from nltk.probability import FreqDist\n",
        "from wordcloud import WordCloud\n",
        "import pickle\n",
        "from symspellpy import SymSpell\n",
        "import pkg_resources\n",
        "from symspellpy import SymSpell, Verbosity"
      ],
      "metadata": {
        "colab": {
          "base_uri": "https://localhost:8080/"
        },
        "id": "qHIBPJTYOBwx",
        "outputId": "e83f5dd3-ba43-4ab1-b468-b9e3e8e7e9ed"
      },
      "execution_count": null,
      "outputs": [
        {
          "output_type": "stream",
          "name": "stdout",
          "text": [
            "Looking in indexes: https://pypi.org/simple, https://us-python.pkg.dev/colab-wheels/public/simple/\n",
            "Collecting es_core_news_sm==2.2.5\n",
            "  Downloading https://github.com/explosion/spacy-models/releases/download/es_core_news_sm-2.2.5/es_core_news_sm-2.2.5.tar.gz (16.2 MB)\n",
            "\u001b[K     |████████████████████████████████| 16.2 MB 5.2 MB/s \n",
            "\u001b[?25hRequirement already satisfied: spacy>=2.2.2 in /usr/local/lib/python3.7/dist-packages (from es_core_news_sm==2.2.5) (2.2.4)\n",
            "Requirement already satisfied: cymem<2.1.0,>=2.0.2 in /usr/local/lib/python3.7/dist-packages (from spacy>=2.2.2->es_core_news_sm==2.2.5) (2.0.6)\n",
            "Requirement already satisfied: preshed<3.1.0,>=3.0.2 in /usr/local/lib/python3.7/dist-packages (from spacy>=2.2.2->es_core_news_sm==2.2.5) (3.0.6)\n",
            "Requirement already satisfied: plac<1.2.0,>=0.9.6 in /usr/local/lib/python3.7/dist-packages (from spacy>=2.2.2->es_core_news_sm==2.2.5) (1.1.3)\n",
            "Requirement already satisfied: wasabi<1.1.0,>=0.4.0 in /usr/local/lib/python3.7/dist-packages (from spacy>=2.2.2->es_core_news_sm==2.2.5) (0.9.1)\n",
            "Requirement already satisfied: catalogue<1.1.0,>=0.0.7 in /usr/local/lib/python3.7/dist-packages (from spacy>=2.2.2->es_core_news_sm==2.2.5) (1.0.0)\n",
            "Requirement already satisfied: numpy>=1.15.0 in /usr/local/lib/python3.7/dist-packages (from spacy>=2.2.2->es_core_news_sm==2.2.5) (1.21.6)\n",
            "Requirement already satisfied: requests<3.0.0,>=2.13.0 in /usr/local/lib/python3.7/dist-packages (from spacy>=2.2.2->es_core_news_sm==2.2.5) (2.23.0)\n",
            "Requirement already satisfied: tqdm<5.0.0,>=4.38.0 in /usr/local/lib/python3.7/dist-packages (from spacy>=2.2.2->es_core_news_sm==2.2.5) (4.64.0)\n",
            "Requirement already satisfied: murmurhash<1.1.0,>=0.28.0 in /usr/local/lib/python3.7/dist-packages (from spacy>=2.2.2->es_core_news_sm==2.2.5) (1.0.7)\n",
            "Requirement already satisfied: srsly<1.1.0,>=1.0.2 in /usr/local/lib/python3.7/dist-packages (from spacy>=2.2.2->es_core_news_sm==2.2.5) (1.0.5)\n",
            "Requirement already satisfied: blis<0.5.0,>=0.4.0 in /usr/local/lib/python3.7/dist-packages (from spacy>=2.2.2->es_core_news_sm==2.2.5) (0.4.1)\n",
            "Requirement already satisfied: thinc==7.4.0 in /usr/local/lib/python3.7/dist-packages (from spacy>=2.2.2->es_core_news_sm==2.2.5) (7.4.0)\n",
            "Requirement already satisfied: setuptools in /usr/local/lib/python3.7/dist-packages (from spacy>=2.2.2->es_core_news_sm==2.2.5) (57.4.0)\n",
            "Requirement already satisfied: importlib-metadata>=0.20 in /usr/local/lib/python3.7/dist-packages (from catalogue<1.1.0,>=0.0.7->spacy>=2.2.2->es_core_news_sm==2.2.5) (4.11.3)\n",
            "Requirement already satisfied: zipp>=0.5 in /usr/local/lib/python3.7/dist-packages (from importlib-metadata>=0.20->catalogue<1.1.0,>=0.0.7->spacy>=2.2.2->es_core_news_sm==2.2.5) (3.8.0)\n",
            "Requirement already satisfied: typing-extensions>=3.6.4 in /usr/local/lib/python3.7/dist-packages (from importlib-metadata>=0.20->catalogue<1.1.0,>=0.0.7->spacy>=2.2.2->es_core_news_sm==2.2.5) (4.2.0)\n",
            "Requirement already satisfied: urllib3!=1.25.0,!=1.25.1,<1.26,>=1.21.1 in /usr/local/lib/python3.7/dist-packages (from requests<3.0.0,>=2.13.0->spacy>=2.2.2->es_core_news_sm==2.2.5) (1.24.3)\n",
            "Requirement already satisfied: chardet<4,>=3.0.2 in /usr/local/lib/python3.7/dist-packages (from requests<3.0.0,>=2.13.0->spacy>=2.2.2->es_core_news_sm==2.2.5) (3.0.4)\n",
            "Requirement already satisfied: idna<3,>=2.5 in /usr/local/lib/python3.7/dist-packages (from requests<3.0.0,>=2.13.0->spacy>=2.2.2->es_core_news_sm==2.2.5) (2.10)\n",
            "Requirement already satisfied: certifi>=2017.4.17 in /usr/local/lib/python3.7/dist-packages (from requests<3.0.0,>=2.13.0->spacy>=2.2.2->es_core_news_sm==2.2.5) (2022.5.18.1)\n",
            "Building wheels for collected packages: es-core-news-sm\n",
            "  Building wheel for es-core-news-sm (setup.py) ... \u001b[?25l\u001b[?25hdone\n",
            "  Created wheel for es-core-news-sm: filename=es_core_news_sm-2.2.5-py3-none-any.whl size=16172933 sha256=917e7d20c5f7f523b6fd6345df341e0f78a96c11fde073a00548603124eab74b\n",
            "  Stored in directory: /tmp/pip-ephem-wheel-cache-l6s3j56i/wheels/21/8d/a9/6c1a2809c55dd22cd9644ae503a52ba6206b04aa57ba83a3d8\n",
            "Successfully built es-core-news-sm\n",
            "Installing collected packages: es-core-news-sm\n",
            "Successfully installed es-core-news-sm-2.2.5\n",
            "\u001b[38;5;2m✔ Download and installation successful\u001b[0m\n",
            "You can now load the model via spacy.load('es_core_news_sm')\n",
            "Looking in indexes: https://pypi.org/simple, https://us-python.pkg.dev/colab-wheels/public/simple/\n",
            "Collecting symspellpy\n",
            "  Downloading symspellpy-6.7.6-py3-none-any.whl (2.6 MB)\n",
            "\u001b[K     |████████████████████████████████| 2.6 MB 5.3 MB/s \n",
            "\u001b[?25hCollecting editdistpy>=0.1.3\n",
            "  Downloading editdistpy-0.1.3-cp37-cp37m-manylinux_2_5_x86_64.manylinux1_x86_64.manylinux_2_17_x86_64.manylinux2014_x86_64.whl (125 kB)\n",
            "\u001b[K     |████████████████████████████████| 125 kB 52.2 MB/s \n",
            "\u001b[?25hInstalling collected packages: editdistpy, symspellpy\n",
            "Successfully installed editdistpy-0.1.3 symspellpy-6.7.6\n",
            "[nltk_data] Downloading package punkt to /root/nltk_data...\n",
            "[nltk_data]   Unzipping tokenizers/punkt.zip.\n",
            "[nltk_data] Downloading package stopwords to /root/nltk_data...\n",
            "[nltk_data]   Unzipping corpora/stopwords.zip.\n",
            "[nltk_data] Downloading package wordnet to /root/nltk_data...\n",
            "[nltk_data]   Unzipping corpora/wordnet.zip.\n"
          ]
        }
      ]
    },
    {
      "cell_type": "code",
      "source": [
        "!python -m spacy download es_core_news_md"
      ],
      "metadata": {
        "colab": {
          "base_uri": "https://localhost:8080/"
        },
        "id": "Pd-DOmGVOF0t",
        "outputId": "a8e321c8-9935-45f0-8186-ffdd23d5a00f"
      },
      "execution_count": null,
      "outputs": [
        {
          "output_type": "stream",
          "name": "stdout",
          "text": [
            "Collecting es_core_news_md==2.2.5\n",
            "  Downloading https://github.com/explosion/spacy-models/releases/download/es_core_news_md-2.2.5/es_core_news_md-2.2.5.tar.gz (78.4 MB)\n",
            "\u001b[K     |████████████████████████████████| 78.4 MB 1.1 MB/s \n",
            "\u001b[?25hRequirement already satisfied: spacy>=2.2.2 in /usr/local/lib/python3.7/dist-packages (from es_core_news_md==2.2.5) (2.2.4)\n",
            "Requirement already satisfied: blis<0.5.0,>=0.4.0 in /usr/local/lib/python3.7/dist-packages (from spacy>=2.2.2->es_core_news_md==2.2.5) (0.4.1)\n",
            "Requirement already satisfied: tqdm<5.0.0,>=4.38.0 in /usr/local/lib/python3.7/dist-packages (from spacy>=2.2.2->es_core_news_md==2.2.5) (4.64.0)\n",
            "Requirement already satisfied: murmurhash<1.1.0,>=0.28.0 in /usr/local/lib/python3.7/dist-packages (from spacy>=2.2.2->es_core_news_md==2.2.5) (1.0.7)\n",
            "Requirement already satisfied: setuptools in /usr/local/lib/python3.7/dist-packages (from spacy>=2.2.2->es_core_news_md==2.2.5) (57.4.0)\n",
            "Requirement already satisfied: preshed<3.1.0,>=3.0.2 in /usr/local/lib/python3.7/dist-packages (from spacy>=2.2.2->es_core_news_md==2.2.5) (3.0.6)\n",
            "Requirement already satisfied: thinc==7.4.0 in /usr/local/lib/python3.7/dist-packages (from spacy>=2.2.2->es_core_news_md==2.2.5) (7.4.0)\n",
            "Requirement already satisfied: numpy>=1.15.0 in /usr/local/lib/python3.7/dist-packages (from spacy>=2.2.2->es_core_news_md==2.2.5) (1.21.6)\n",
            "Requirement already satisfied: requests<3.0.0,>=2.13.0 in /usr/local/lib/python3.7/dist-packages (from spacy>=2.2.2->es_core_news_md==2.2.5) (2.23.0)\n",
            "Requirement already satisfied: wasabi<1.1.0,>=0.4.0 in /usr/local/lib/python3.7/dist-packages (from spacy>=2.2.2->es_core_news_md==2.2.5) (0.9.1)\n",
            "Requirement already satisfied: srsly<1.1.0,>=1.0.2 in /usr/local/lib/python3.7/dist-packages (from spacy>=2.2.2->es_core_news_md==2.2.5) (1.0.5)\n",
            "Requirement already satisfied: plac<1.2.0,>=0.9.6 in /usr/local/lib/python3.7/dist-packages (from spacy>=2.2.2->es_core_news_md==2.2.5) (1.1.3)\n",
            "Requirement already satisfied: cymem<2.1.0,>=2.0.2 in /usr/local/lib/python3.7/dist-packages (from spacy>=2.2.2->es_core_news_md==2.2.5) (2.0.6)\n",
            "Requirement already satisfied: catalogue<1.1.0,>=0.0.7 in /usr/local/lib/python3.7/dist-packages (from spacy>=2.2.2->es_core_news_md==2.2.5) (1.0.0)\n",
            "Requirement already satisfied: importlib-metadata>=0.20 in /usr/local/lib/python3.7/dist-packages (from catalogue<1.1.0,>=0.0.7->spacy>=2.2.2->es_core_news_md==2.2.5) (4.11.3)\n",
            "Requirement already satisfied: zipp>=0.5 in /usr/local/lib/python3.7/dist-packages (from importlib-metadata>=0.20->catalogue<1.1.0,>=0.0.7->spacy>=2.2.2->es_core_news_md==2.2.5) (3.8.0)\n",
            "Requirement already satisfied: typing-extensions>=3.6.4 in /usr/local/lib/python3.7/dist-packages (from importlib-metadata>=0.20->catalogue<1.1.0,>=0.0.7->spacy>=2.2.2->es_core_news_md==2.2.5) (4.2.0)\n",
            "Requirement already satisfied: certifi>=2017.4.17 in /usr/local/lib/python3.7/dist-packages (from requests<3.0.0,>=2.13.0->spacy>=2.2.2->es_core_news_md==2.2.5) (2021.10.8)\n",
            "Requirement already satisfied: urllib3!=1.25.0,!=1.25.1,<1.26,>=1.21.1 in /usr/local/lib/python3.7/dist-packages (from requests<3.0.0,>=2.13.0->spacy>=2.2.2->es_core_news_md==2.2.5) (1.24.3)\n",
            "Requirement already satisfied: chardet<4,>=3.0.2 in /usr/local/lib/python3.7/dist-packages (from requests<3.0.0,>=2.13.0->spacy>=2.2.2->es_core_news_md==2.2.5) (3.0.4)\n",
            "Requirement already satisfied: idna<3,>=2.5 in /usr/local/lib/python3.7/dist-packages (from requests<3.0.0,>=2.13.0->spacy>=2.2.2->es_core_news_md==2.2.5) (2.10)\n",
            "\u001b[38;5;2m✔ Download and installation successful\u001b[0m\n",
            "You can now load the model via spacy.load('es_core_news_md')\n"
          ]
        }
      ]
    },
    {
      "cell_type": "code",
      "execution_count": null,
      "metadata": {
        "id": "vsxa_DTEMtNC"
      },
      "outputs": [],
      "source": [
        "import es_core_news_md\n",
        "nlp = es_core_news_md.load()"
      ]
    },
    {
      "cell_type": "markdown",
      "source": [
        "# Leer un string"
      ],
      "metadata": {
        "id": "2uB1-2VbOeRt"
      }
    },
    {
      "cell_type": "code",
      "source": [
        "texto= ('Este es un tutorial acerca de Procesamiento de lenguaje usando Python con spaCy')\n",
        "doc = nlp(texto)\n",
        "#tokenizar\n",
        "print([token.text for token in doc])"
      ],
      "metadata": {
        "colab": {
          "base_uri": "https://localhost:8080/"
        },
        "id": "ht5U8hbEM6pA",
        "outputId": "0e31fd03-3c5f-4fa0-8f08-20ce28ca5783"
      },
      "execution_count": null,
      "outputs": [
        {
          "output_type": "stream",
          "name": "stdout",
          "text": [
            "['Este', 'es', 'un', 'tutorial', 'acerca', 'de', 'Procesamiento', 'de', 'lenguaje', 'usando', 'Python', 'con', 'spaCy']\n"
          ]
        }
      ]
    },
    {
      "cell_type": "markdown",
      "source": [
        "# Deteccion de oraciones"
      ],
      "metadata": {
        "id": "eB-FMmvvOh90"
      }
    },
    {
      "cell_type": "code",
      "source": [
        "text=('Gus es un desarrollador en Python actualmente trabajando para una compañia Fintech en Londres Inglaterra. Se encuentra interesado en aprender NLP.')\n",
        "t=nlp(text)\n",
        "oraciones= list(t.sents)\n",
        "print(len(oraciones))\n",
        "for x in oraciones:\n",
        "  print(x)"
      ],
      "metadata": {
        "colab": {
          "base_uri": "https://localhost:8080/"
        },
        "id": "teHetL6wOmGc",
        "outputId": "32f4d97d-6355-4adc-8433-721706c7b3e0"
      },
      "execution_count": null,
      "outputs": [
        {
          "output_type": "stream",
          "name": "stdout",
          "text": [
            "2\n",
            "Gus es un desarrollador en Python actualmente trabajando para una compañia Fintech en Londres Inglaterra.\n",
            "Se encuentra interesado en aprender NLP.\n"
          ]
        }
      ]
    },
    {
      "cell_type": "markdown",
      "source": [
        "# Tokenizacion"
      ],
      "metadata": {
        "id": "RrNKtx8EPrr1"
      }
    },
    {
      "cell_type": "code",
      "source": [
        "for token in t:\n",
        "  print(token, token.idx)"
      ],
      "metadata": {
        "colab": {
          "base_uri": "https://localhost:8080/"
        },
        "id": "RROu30nCPs11",
        "outputId": "4773ec60-bee9-459f-86be-b230e7965ea5"
      },
      "execution_count": null,
      "outputs": [
        {
          "output_type": "stream",
          "name": "stdout",
          "text": [
            "Gus 0\n",
            "es 4\n",
            "un 7\n",
            "desarrollador 10\n",
            "en 24\n",
            "Python 27\n",
            "actualmente 34\n",
            "trabajando 46\n",
            "para 57\n",
            "una 62\n",
            "compañia 66\n",
            "Fintech 75\n",
            "en 83\n",
            "Londres 86\n",
            "Inglaterra 94\n",
            ". 104\n",
            "Se 106\n",
            "encuentra 109\n",
            "interesado 119\n",
            "en 130\n",
            "aprender 133\n",
            "NLP 142\n",
            ". 145\n"
          ]
        }
      ]
    },
    {
      "cell_type": "code",
      "source": [
        "for token in t:\n",
        "  print(token, token.idx, token.text_with_ws,\n",
        "        token.is_alpha, token.is_punct, token.is_space,\n",
        "        token.shape_, token.is_stop)"
      ],
      "metadata": {
        "colab": {
          "base_uri": "https://localhost:8080/"
        },
        "id": "Rhv5on_BP9Jt",
        "outputId": "5e73a8b8-c0a6-44b5-89dc-5432c9db9071"
      },
      "execution_count": null,
      "outputs": [
        {
          "output_type": "stream",
          "name": "stdout",
          "text": [
            "Gus 0 Gus  True False False Xxx False\n",
            "es 4 es  True False False xx True\n",
            "un 7 un  True False False xx True\n",
            "desarrollador 10 desarrollador  True False False xxxx False\n",
            "en 24 en  True False False xx True\n",
            "Python 27 Python  True False False Xxxxx False\n",
            "actualmente 34 actualmente  True False False xxxx True\n",
            "trabajando 46 trabajando  True False False xxxx False\n",
            "para 57 para  True False False xxxx True\n",
            "una 62 una  True False False xxx True\n",
            "compañia 66 compañia  True False False xxxx False\n",
            "Fintech 75 Fintech  True False False Xxxxx False\n",
            "en 83 en  True False False xx True\n",
            "Londres 86 Londres  True False False Xxxxx False\n",
            "Inglaterra 94 Inglaterra True False False Xxxxx False\n",
            ". 104 .  False True False . False\n",
            "Se 106 Se  True False False Xx True\n",
            "encuentra 109 encuentra  True False False xxxx True\n",
            "interesado 119 interesado  True False False xxxx False\n",
            "en 130 en  True False False xx True\n",
            "aprender 133 aprender  True False False xxxx False\n",
            "NLP 142 NLP True False False XXX False\n",
            ". 145 . False True False . False\n"
          ]
        }
      ]
    },
    {
      "cell_type": "markdown",
      "source": [
        "En este ejemplo tenemos:\n",
        "\n",
        "- text_with_ws imprime el texto del token \n",
        "- is_alpha detecta si el token consiste en caracteres alfa numericos o no\n",
        "- is_punct detecta si el token es un simbolo de puntuacion.\n",
        "- is_space detecta si el token es un espacio o no.\n",
        "- shape_ imprime el output shape de la palabra.\n",
        "- is_stop detecta si es una stopword o no"
      ],
      "metadata": {
        "id": "v6FvUx-UQFoz"
      }
    },
    {
      "cell_type": "markdown",
      "source": [
        "# Stopwords"
      ],
      "metadata": {
        "id": "Lq1Cev75Qjy5"
      }
    },
    {
      "cell_type": "code",
      "source": [
        "import spacy\n",
        "spacy_stopwords = spacy.lang.es.stop_words.STOP_WORDS\n",
        "print(len(spacy_stopwords))\n",
        "for stop_word in list(spacy_stopwords)[:10]:\n",
        "  print(stop_word)"
      ],
      "metadata": {
        "colab": {
          "base_uri": "https://localhost:8080/"
        },
        "id": "_h2N2XmmQmaC",
        "outputId": "329adf96-1b13-4b92-8c1e-93b3d6df645d"
      },
      "execution_count": null,
      "outputs": [
        {
          "output_type": "stream",
          "name": "stdout",
          "text": [
            "551\n",
            "sea\n",
            "siguiente\n",
            "informo\n",
            "tampoco\n",
            "dan\n",
            "estuvo\n",
            "enseguida\n",
            "habia\n",
            "ninguno\n",
            "ocho\n"
          ]
        }
      ]
    },
    {
      "cell_type": "code",
      "source": [
        "for token in t:\n",
        "  if not token.is_stop:\n",
        "    print(token)"
      ],
      "metadata": {
        "colab": {
          "base_uri": "https://localhost:8080/"
        },
        "id": "PF9yA7o7Qu-5",
        "outputId": "296aa79f-e135-4fd6-e33f-ea5e2b5cea2d"
      },
      "execution_count": null,
      "outputs": [
        {
          "output_type": "stream",
          "name": "stdout",
          "text": [
            "Gus\n",
            "desarrollador\n",
            "Python\n",
            "trabajando\n",
            "compañia\n",
            "Fintech\n",
            "Londres\n",
            "Inglaterra\n",
            ".\n",
            "interesado\n",
            "aprender\n",
            "NLP\n",
            ".\n"
          ]
        }
      ]
    },
    {
      "cell_type": "code",
      "source": [
        "# Creacion adicional de stopwrods\n",
        "documento_sin_stopword = [token for token in t if not token.is_stop]\n",
        "print(documento_sin_stopword)"
      ],
      "metadata": {
        "colab": {
          "base_uri": "https://localhost:8080/"
        },
        "id": "XZqDOi_qQ1td",
        "outputId": "2e6b41a6-6e11-43a9-ab8b-2c7b670bdf3e"
      },
      "execution_count": null,
      "outputs": [
        {
          "output_type": "stream",
          "name": "stdout",
          "text": [
            "[Gus, desarrollador, Python, trabajando, compañia, Fintech, Londres, Inglaterra, ., interesado, aprender, NLP, .]\n"
          ]
        }
      ]
    },
    {
      "cell_type": "markdown",
      "source": [
        "# Lemantizacion"
      ],
      "metadata": {
        "id": "27Owz6clRAe2"
      }
    },
    {
      "cell_type": "code",
      "source": [
        "for token in t:\n",
        "  print(token, '-', token.lemma_)"
      ],
      "metadata": {
        "colab": {
          "base_uri": "https://localhost:8080/"
        },
        "id": "siLYeWXjRDl6",
        "outputId": "c6af8fa3-0409-402b-95a1-c5e256ea694b"
      },
      "execution_count": null,
      "outputs": [
        {
          "output_type": "stream",
          "name": "stdout",
          "text": [
            "Gus - Gus\n",
            "es - ser\n",
            "un - uno\n",
            "desarrollador - desarrollador\n",
            "en - en\n",
            "Python - Python\n",
            "actualmente - actualmente\n",
            "trabajando - trabajar\n",
            "para - parir\n",
            "una - uno\n",
            "compañia - compañia\n",
            "Fintech - Fintech\n",
            "en - en\n",
            "Londres - Londres\n",
            "Inglaterra - Inglaterra\n",
            ". - .\n",
            "Se - Se\n",
            "encuentra - encontrar\n",
            "interesado - interesar\n",
            "en - en\n",
            "aprender - aprender\n",
            "NLP - NLP\n",
            ". - .\n"
          ]
        }
      ]
    },
    {
      "cell_type": "markdown",
      "source": [
        "# Word Frequency"
      ],
      "metadata": {
        "id": "WPyUzf66RL-V"
      }
    },
    {
      "cell_type": "code",
      "source": [
        "texto= '''\n",
        "La FIFA responde así a una denuncia interpuesta por la Federación de Chile ante esa Comisión Disciplinaria, en la que presentaba alegaciones sobre la posible falsificación de los documentos que conceden la nacionalidad ecuatoriana Byron Castillo.\n",
        "\n",
        "La selección de Ecuador se clasificó de forma directa para el Mundial, junto con las de Brasil, Argentina y Uruguay, al contrario que las de Chile y Perú. El combinado peruano, que terminó quinto por detrás del ecuatoriano, disputará una repesca.\n",
        "\n",
        "El defensa fue alineado por el seleccionador ecuatoriano Gustavo Alfaro para los dos partidos contra Paraguay y Chile y en una ocasión ante Uruguay, Bolivia, Venezuela y Argentina, partidos clave para que el equipo lograse uno de los cupos directos para el Mundial.\n",
        "\n",
        "\"Innumerables pruebas de que nació en Colombia\"\n",
        "La Federación de Chile denunció el pasado día 5 que hay \"innumerables pruebas de que el jugador nació en Colombia\".\n",
        "\n",
        "\"Las investigaciones realizadas en Ecuador, entre ellas, un informe jurídico de la Dirección Nacional de Registro Civil, declararon la existencia de inconsistencias en el certificado de nacimiento presentado por el jugador\", afirmó este organismo, que acusó a la Federación Ecuatoriana de tener \"total conocimiento\" de las irregularidades.\n",
        "\n",
        "Una posible sanción de la FIFA podría implicar la resta de puntos a Ecuador por los partidos que Castillo jugó, lo que alteraría la nómina de clasificados.\n",
        "\n",
        "Un informe técnico jurídico de la dirección nacional del registro civil de Ecuador afirma que la inscripción de nacimiento de Byron Castillo en la ciudad ecuatoriana de Guayas no consta en el tomo, la página y el acta solicitado, según un documento oficial.\n",
        "'''"
      ],
      "metadata": {
        "id": "a_P6U9n1RNUo"
      },
      "execution_count": null,
      "outputs": []
    },
    {
      "cell_type": "code",
      "source": [
        "type(texto)"
      ],
      "metadata": {
        "colab": {
          "base_uri": "https://localhost:8080/"
        },
        "id": "OVFSTmTCSbUI",
        "outputId": "d57fe1df-0380-4867-96cd-c117691fe361"
      },
      "execution_count": null,
      "outputs": [
        {
          "output_type": "execute_result",
          "data": {
            "text/plain": [
              "str"
            ]
          },
          "metadata": {},
          "execution_count": 49
        }
      ]
    },
    {
      "cell_type": "code",
      "source": [
        "import re\n",
        "texto1 = re.sub('\\n', '', texto) #remover saltos de linea\n",
        "print(type(texto))\n",
        "str(texto1)"
      ],
      "metadata": {
        "colab": {
          "base_uri": "https://localhost:8080/",
          "height": 123
        },
        "id": "YJEqi4TuSNHZ",
        "outputId": "a2e6d4b3-f4e7-4dbc-b305-aeb48c854f25"
      },
      "execution_count": null,
      "outputs": [
        {
          "output_type": "stream",
          "name": "stdout",
          "text": [
            "<class 'str'>\n"
          ]
        },
        {
          "output_type": "execute_result",
          "data": {
            "text/plain": [
              "'La FIFA responde así a una denuncia interpuesta por la Federación de Chile ante esa Comisión Disciplinaria, en la que presentaba alegaciones sobre la posible falsificación de los documentos que conceden la nacionalidad ecuatoriana Byron Castillo.La selección de Ecuador se clasificó de forma directa para el Mundial, junto con las de Brasil, Argentina y Uruguay, al contrario que las de Chile y Perú. El combinado peruano, que terminó quinto por detrás del ecuatoriano, disputará una repesca.El defensa fue alineado por el seleccionador ecuatoriano Gustavo Alfaro para los dos partidos contra Paraguay y Chile y en una ocasión ante Uruguay, Bolivia, Venezuela y Argentina, partidos clave para que el equipo lograse uno de los cupos directos para el Mundial.\"Innumerables pruebas de que nació en Colombia\"La Federación de Chile denunció el pasado día 5 que hay \"innumerables pruebas de que el jugador nació en Colombia\".\"Las investigaciones realizadas en Ecuador, entre ellas, un informe jurídico de la Dirección Nacional de Registro Civil, declararon la existencia de inconsistencias en el certificado de nacimiento presentado por el jugador\", afirmó este organismo, que acusó a la Federación Ecuatoriana de tener \"total conocimiento\" de las irregularidades.Una posible sanción de la FIFA podría implicar la resta de puntos a Ecuador por los partidos que Castillo jugó, lo que alteraría la nómina de clasificados.Un informe técnico jurídico de la dirección nacional del registro civil de Ecuador afirma que la inscripción de nacimiento de Byron Castillo en la ciudad ecuatoriana de Guayas no consta en el tomo, la página y el acta solicitado, según un documento oficial.'"
            ],
            "application/vnd.google.colaboratory.intrinsic+json": {
              "type": "string"
            }
          },
          "metadata": {},
          "execution_count": 51
        }
      ]
    },
    {
      "cell_type": "code",
      "source": [
        "doc= nlp(texto1)\n",
        "# Remover stopwrods\n",
        "words= [token.text for token in doc if not token.is_stop and not token.is_punct]\n",
        "from collections import Counter\n",
        "word_freq= Counter(words)\n",
        "# Sacar las 5 mas frecuentes y sus frecuencias\n",
        "common_words= word_freq.most_common(5)\n",
        "print(common_words)\n",
        "unique_words = [word for (word, freq) in word_freq.items() if freq == 1]\n",
        "print(unique_words)"
      ],
      "metadata": {
        "colab": {
          "base_uri": "https://localhost:8080/"
        },
        "id": "BaFYahOoRd6h",
        "outputId": "7b82df60-ad71-4ef2-f8ad-a8d2856c8bdf"
      },
      "execution_count": null,
      "outputs": [
        {
          "output_type": "stream",
          "name": "stdout",
          "text": [
            "[('y', 6), ('Chile', 4), ('Ecuador', 4), ('a', 3), ('Federación', 3)]\n",
            "['responde', 'denuncia', 'interpuesta', 'Comisión', 'Disciplinaria', 'presentaba', 'alegaciones', 'falsificación', 'documentos', 'conceden', 'nacionalidad', 'selección', 'clasificó', 'forma', 'directa', 'Brasil', 'contrario', 'Perú', 'combinado', 'peruano', 'terminó', 'quinto', 'disputará', 'repesca', 'defensa', 'alineado', 'seleccionador', 'Gustavo', 'Alfaro', 'Paraguay', 'ocasión', 'Bolivia', 'Venezuela', 'clave', 'equipo', 'lograse', 'cupos', 'directos', '\"Innumerables', 'Colombia\"La', 'denunció', '5', 'innumerables', 'Colombia\"', '\"Las', 'investigaciones', 'realizadas', 'Dirección', 'Nacional', 'Registro', 'Civil', 'declararon', 'existencia', 'inconsistencias', 'certificado', 'presentado', 'organismo', 'acusó', 'Ecuatoriana', 'conocimiento', 'irregularidades', 'sanción', 'implicar', 'resta', 'puntos', 'jugó', 'alteraría', 'nómina', 'clasificados', 'técnico', 'dirección', 'nacional', 'registro', 'civil', 'afirma', 'inscripción', 'ciudad', 'Guayas', 'consta', 'tomo', 'página', 'acta', 'solicitado', 'documento', 'oficial']\n"
          ]
        }
      ]
    },
    {
      "cell_type": "markdown",
      "source": [
        "# POS Tagging"
      ],
      "metadata": {
        "id": "qzhKZ2n_TEv4"
      }
    },
    {
      "cell_type": "code",
      "source": [
        "for token in doc:\n",
        "  print(token,' -', token.tag_, ' -', token.pos_,' -' ,spacy.explain(token.tag_))"
      ],
      "metadata": {
        "colab": {
          "base_uri": "https://localhost:8080/"
        },
        "id": "KEF70sIAS-1d",
        "outputId": "a023495b-4956-47f3-e997-77899a3ecedd"
      },
      "execution_count": null,
      "outputs": [
        {
          "output_type": "stream",
          "name": "stdout",
          "text": [
            "La  - DET__Definite=Def|Gender=Fem|Number=Sing|PronType=Art  - DET  - None\n",
            "FIFA  - PROPN___  - PROPN  - None\n",
            "responde  - VERB__Mood=Ind|Number=Sing|Person=3|Tense=Pres|VerbForm=Fin  - VERB  - None\n",
            "así  - ADV___  - ADV  - None\n",
            "a  - ADP__AdpType=Prep  - ADP  - None\n",
            "una  - DET__Definite=Ind|Gender=Fem|Number=Sing|PronType=Art  - DET  - None\n",
            "denuncia  - NOUN__Gender=Fem|Number=Sing  - NOUN  - None\n",
            "interpuesta  - ADJ__Gender=Fem|Number=Sing|VerbForm=Part  - ADJ  - None\n",
            "por  - ADP__AdpType=Prep  - ADP  - None\n",
            "la  - DET__Definite=Def|Gender=Fem|Number=Sing|PronType=Art  - DET  - None\n",
            "Federación  - PROPN___  - PROPN  - None\n",
            "de  - ADP__AdpType=Prep  - ADP  - None\n",
            "Chile  - PROPN___  - PROPN  - None\n",
            "ante  - ADP__AdpType=Prep  - ADP  - None\n",
            "esa  - DET__Gender=Fem|Number=Sing|PronType=Dem  - DET  - None\n",
            "Comisión  - PROPN___  - PROPN  - None\n",
            "Disciplinaria  - PROPN___  - PROPN  - None\n",
            ",  - PUNCT__PunctType=Comm  - PUNCT  - None\n",
            "en  - ADP__AdpType=Prep  - ADP  - None\n",
            "la  - DET__Definite=Def|Gender=Fem|Number=Sing|PronType=Art  - DET  - None\n",
            "que  - PRON__PronType=Rel  - PRON  - None\n",
            "presentaba  - VERB__Mood=Ind|Number=Sing|Person=3|Tense=Imp|VerbForm=Fin  - VERB  - None\n",
            "alegaciones  - NOUN__Gender=Fem|Number=Plur  - NOUN  - None\n",
            "sobre  - ADP__AdpType=Prep  - ADP  - None\n",
            "la  - DET__Definite=Def|Gender=Fem|Number=Sing|PronType=Art  - DET  - None\n",
            "posible  - ADJ__Number=Sing  - ADJ  - None\n",
            "falsificación  - NOUN__Gender=Fem|Number=Sing  - NOUN  - None\n",
            "de  - ADP__AdpType=Prep  - ADP  - None\n",
            "los  - DET__Definite=Def|Gender=Masc|Number=Plur|PronType=Art  - DET  - None\n",
            "documentos  - NOUN__Gender=Masc|Number=Plur  - NOUN  - None\n",
            "que  - PRON__PronType=Rel  - PRON  - None\n",
            "conceden  - VERB__Mood=Ind|Number=Plur|Person=3|Tense=Pres|VerbForm=Fin  - VERB  - None\n",
            "la  - DET__Definite=Def|Gender=Fem|Number=Sing|PronType=Art  - DET  - None\n",
            "nacionalidad  - NOUN__Gender=Fem|Number=Sing  - NOUN  - None\n",
            "ecuatoriana  - ADJ__Gender=Fem|Number=Sing  - ADJ  - None\n",
            "Byron  - PROPN___  - PROPN  - None\n",
            "Castillo  - PROPN___  - PROPN  - None\n",
            ".  - PUNCT__PunctType=Peri  - PUNCT  - None\n",
            "La  - DET__Definite=Def|Gender=Fem|Number=Sing|PronType=Art  - DET  - None\n",
            "selección  - NOUN__Gender=Fem|Number=Sing  - NOUN  - None\n",
            "de  - ADP__AdpType=Prep  - ADP  - None\n",
            "Ecuador  - PROPN___  - PROPN  - None\n",
            "se  - PRON__Person=3  - PRON  - None\n",
            "clasificó  - VERB__Mood=Ind|Number=Sing|Person=3|Tense=Past|VerbForm=Fin  - VERB  - None\n",
            "de  - ADP__AdpType=Prep  - ADP  - None\n",
            "forma  - NOUN__Gender=Fem|Number=Sing  - NOUN  - None\n",
            "directa  - ADJ__Gender=Fem|Number=Sing  - ADJ  - None\n",
            "para  - ADP__AdpType=Prep  - ADP  - None\n",
            "el  - DET__Definite=Def|Gender=Masc|Number=Sing|PronType=Art  - DET  - None\n",
            "Mundial  - PROPN___  - PROPN  - None\n",
            ",  - PUNCT__PunctType=Comm  - PUNCT  - None\n",
            "junto  - ADJ__AdpType=Prep  - ADJ  - None\n",
            "con  - ADP__AdpType=Prep  - ADP  - None\n",
            "las  - DET__Definite=Def|Gender=Fem|Number=Plur|PronType=Art  - DET  - None\n",
            "de  - ADP__AdpType=Prep  - ADP  - None\n",
            "Brasil  - PROPN___  - PROPN  - None\n",
            ",  - PUNCT__PunctType=Comm  - PUNCT  - None\n",
            "Argentina  - PROPN___  - PROPN  - None\n",
            "y  - CCONJ___  - CONJ  - None\n",
            "Uruguay  - PROPN___  - PROPN  - None\n",
            ",  - PUNCT__PunctType=Comm  - PUNCT  - None\n",
            "al  - ADP__AdpType=Preppron|Gender=Masc|Number=Sing  - ADP  - None\n",
            "contrario  - NOUN___  - NOUN  - None\n",
            "que  - SCONJ___  - SCONJ  - None\n",
            "las  - DET__Definite=Def|Gender=Fem|Number=Plur|PronType=Art  - DET  - None\n",
            "de  - ADP__AdpType=Prep  - ADP  - None\n",
            "Chile  - PROPN___  - PROPN  - None\n",
            "y  - CCONJ___  - CONJ  - None\n",
            "Perú  - PROPN___  - PROPN  - None\n",
            ".  - PUNCT__PunctType=Peri  - PUNCT  - None\n",
            "El  - DET__Definite=Def|Gender=Masc|Number=Sing|PronType=Art  - DET  - None\n",
            "combinado  - NOUN__Gender=Masc|Number=Sing  - NOUN  - None\n",
            "peruano  - ADJ__Gender=Masc|Number=Sing  - ADJ  - None\n",
            ",  - PUNCT__PunctType=Comm  - PUNCT  - None\n",
            "que  - PRON__PronType=Rel  - PRON  - None\n",
            "terminó  - VERB__Mood=Ind|Number=Sing|Person=3|Tense=Past|VerbForm=Fin  - VERB  - None\n",
            "quinto  - ADJ__Gender=Masc|Number=Sing|NumType=Ord  - ADJ  - None\n",
            "por  - ADP__AdpType=Prep  - ADP  - None\n",
            "detrás  - ADV__AdpType=Preppron|Gender=Masc|Number=Sing  - ADV  - None\n",
            "del  - ADP__AdpType=Preppron|Gender=Masc|Number=Sing  - ADP  - None\n",
            "ecuatoriano  - NOUN__Gender=Masc|Number=Sing  - NOUN  - None\n",
            ",  - PUNCT__PunctType=Comm  - PUNCT  - None\n",
            "disputará  - VERB__Mood=Ind|Number=Sing|Person=3|Tense=Fut|VerbForm=Fin  - VERB  - None\n",
            "una  - DET__Definite=Ind|Gender=Fem|Number=Sing|PronType=Art  - DET  - None\n",
            "repesca  - NOUN__Gender=Fem|Number=Sing  - NOUN  - None\n",
            ".  - PUNCT__PunctType=Peri  - PUNCT  - None\n",
            "El  - DET__Definite=Def|Gender=Masc|Number=Sing|PronType=Art  - DET  - None\n",
            "defensa  - NOUN__Number=Sing  - NOUN  - None\n",
            "fue  - AUX__Mood=Ind|Number=Sing|Person=3|Tense=Past|VerbForm=Fin  - AUX  - None\n",
            "alineado  - VERB__Gender=Masc|Number=Sing|Tense=Past|VerbForm=Part  - VERB  - None\n",
            "por  - ADP__AdpType=Prep  - ADP  - None\n",
            "el  - DET__Definite=Def|Gender=Masc|Number=Sing|PronType=Art  - DET  - None\n",
            "seleccionador  - NOUN__Gender=Masc|Number=Sing  - NOUN  - None\n",
            "ecuatoriano  - ADJ__Gender=Masc|Number=Sing  - ADJ  - None\n",
            "Gustavo  - PROPN___  - PROPN  - None\n",
            "Alfaro  - PROPN___  - PROPN  - None\n",
            "para  - ADP__AdpType=Prep  - ADP  - None\n",
            "los  - DET__Definite=Def|Gender=Masc|Number=Plur|PronType=Art  - DET  - None\n",
            "dos  - NUM__Number=Plur|NumType=Card  - NUM  - None\n",
            "partidos  - NOUN__Gender=Masc|Number=Plur  - NOUN  - None\n",
            "contra  - ADP__AdpType=Prep  - ADP  - None\n",
            "Paraguay  - PROPN___  - PROPN  - None\n",
            "y  - CCONJ___  - CONJ  - None\n",
            "Chile  - PROPN___  - PROPN  - None\n",
            "y  - CCONJ___  - CONJ  - None\n",
            "en  - ADP__AdpType=Prep  - ADP  - None\n",
            "una  - DET__Definite=Ind|Gender=Fem|Number=Sing|PronType=Art  - DET  - None\n",
            "ocasión  - NOUN__Gender=Fem|Number=Sing  - NOUN  - None\n",
            "ante  - ADP__AdpType=Prep  - ADP  - None\n",
            "Uruguay  - PROPN___  - PROPN  - None\n",
            ",  - PUNCT__PunctType=Comm  - PUNCT  - None\n",
            "Bolivia  - PROPN___  - PROPN  - None\n",
            ",  - PUNCT__PunctType=Comm  - PUNCT  - None\n",
            "Venezuela  - PROPN___  - PROPN  - None\n",
            "y  - CCONJ___  - CONJ  - None\n",
            "Argentina  - PROPN___  - PROPN  - None\n",
            ",  - PUNCT__PunctType=Comm  - PUNCT  - None\n",
            "partidos  - NOUN__Gender=Masc|Number=Plur  - NOUN  - None\n",
            "clave  - NOUN__Gender=Fem|Number=Sing  - NOUN  - None\n",
            "para  - ADP__AdpType=Prep  - ADP  - None\n",
            "que  - SCONJ___  - SCONJ  - None\n",
            "el  - DET__Definite=Def|Gender=Masc|Number=Sing|PronType=Art  - DET  - None\n",
            "equipo  - NOUN__Gender=Masc|Number=Sing  - NOUN  - None\n",
            "lograse  - VERB__Mood=Sub|Number=Sing|Person=3|Tense=Imp|VerbForm=Fin  - VERB  - None\n",
            "uno  - PRON__Gender=Masc|Number=Sing|PronType=Ind  - PRON  - None\n",
            "de  - ADP__AdpType=Prep  - ADP  - None\n",
            "los  - DET__Definite=Def|Gender=Masc|Number=Plur|PronType=Art  - DET  - None\n",
            "cupos  - NOUN__Gender=Masc|Number=Plur  - NOUN  - None\n",
            "directos  - ADJ__Gender=Masc|Number=Plur  - ADJ  - None\n",
            "para  - ADP__AdpType=Prep  - ADP  - None\n",
            "el  - DET__Definite=Def|Gender=Masc|Number=Sing|PronType=Art  - DET  - None\n",
            "Mundial  - PROPN___  - PROPN  - None\n",
            ".  - PUNCT__PunctType=Peri  - PUNCT  - None\n",
            "\"Innumerables  - ADJ__Number=Plur  - ADJ  - None\n",
            "pruebas  - NOUN__Gender=Fem|Number=Plur  - NOUN  - None\n",
            "de  - ADP__AdpType=Prep  - ADP  - None\n",
            "que  - SCONJ___  - SCONJ  - None\n",
            "nació  - VERB__Mood=Ind|Number=Sing|Person=3|Tense=Past|VerbForm=Fin  - VERB  - None\n",
            "en  - ADP__AdpType=Prep  - ADP  - None\n",
            "Colombia\"La  - PROPN___  - PROPN  - None\n",
            "Federación  - PROPN___  - PROPN  - None\n",
            "de  - ADP__AdpType=Prep  - ADP  - None\n",
            "Chile  - PROPN___  - PROPN  - None\n",
            "denunció  - VERB__Mood=Ind|Number=Sing|Person=3|Tense=Past|VerbForm=Fin  - VERB  - None\n",
            "el  - DET__Definite=Def|Gender=Masc|Number=Sing|PronType=Art  - DET  - None\n",
            "pasado  - ADJ__Gender=Masc|Number=Sing|VerbForm=Part  - ADJ  - None\n",
            "día  - NOUN___  - NOUN  - None\n",
            "5  - NUM__NumForm=Digit|NumType=Card  - NUM  - None\n",
            "que  - PRON__PronType=Rel  - PRON  - None\n",
            "hay  - AUX__Mood=Ind|Number=Sing|Person=3|Tense=Pres|VerbForm=Fin  - AUX  - None\n",
            "\"  - PUNCT__PunctType=Quot  - PUNCT  - None\n",
            "innumerables  - ADJ__Number=Plur  - ADJ  - None\n",
            "pruebas  - NOUN__Gender=Fem|Number=Plur  - NOUN  - None\n",
            "de  - ADP__AdpType=Prep  - ADP  - None\n",
            "que  - SCONJ___  - SCONJ  - None\n",
            "el  - DET__Definite=Def|Gender=Masc|Number=Sing|PronType=Art  - DET  - None\n",
            "jugador  - NOUN__Gender=Masc|Number=Sing  - NOUN  - None\n",
            "nació  - VERB__Mood=Ind|Number=Sing|Person=3|Tense=Past|VerbForm=Fin  - VERB  - None\n",
            "en  - ADP__AdpType=Prep  - ADP  - None\n",
            "Colombia\"  - PROPN___  - PROPN  - None\n",
            ".  - PUNCT__PunctType=Peri  - PUNCT  - None\n",
            "\"Las  - NUM__NumForm=Digit  - NUM  - None\n",
            "investigaciones  - NOUN__Gender=Fem|Number=Plur  - NOUN  - None\n",
            "realizadas  - ADJ__Gender=Fem|Number=Plur|VerbForm=Part  - ADJ  - None\n",
            "en  - ADP__AdpType=Prep  - ADP  - None\n",
            "Ecuador  - PROPN___  - PROPN  - None\n",
            ",  - PUNCT__PunctType=Comm  - PUNCT  - None\n",
            "entre  - ADP__AdpType=Prep  - ADP  - None\n",
            "ellas  - PRON__Gender=Fem|Number=Plur|Person=3|PronType=Prs  - PRON  - None\n",
            ",  - PUNCT__PunctType=Comm  - PUNCT  - None\n",
            "un  - DET__Definite=Ind|Gender=Masc|Number=Sing|PronType=Art  - DET  - None\n",
            "informe  - NOUN__Gender=Masc|Number=Sing  - NOUN  - None\n",
            "jurídico  - ADJ__Gender=Masc|Number=Sing  - ADJ  - None\n",
            "de  - ADP__AdpType=Prep  - ADP  - None\n",
            "la  - DET__Definite=Def|Gender=Fem|Number=Sing|PronType=Art  - DET  - None\n",
            "Dirección  - PROPN___  - PROPN  - None\n",
            "Nacional  - PROPN___  - PROPN  - None\n",
            "de  - ADP__AdpType=Prep  - ADP  - None\n",
            "Registro  - PROPN___  - PROPN  - None\n",
            "Civil  - PROPN___  - PROPN  - None\n",
            ",  - PUNCT__PunctType=Comm  - PUNCT  - None\n",
            "declararon  - VERB__Mood=Ind|Number=Plur|Person=3|Tense=Past|VerbForm=Fin  - VERB  - None\n",
            "la  - DET__Definite=Def|Gender=Fem|Number=Sing|PronType=Art  - DET  - None\n",
            "existencia  - NOUN__Gender=Fem|Number=Sing  - NOUN  - None\n",
            "de  - ADP__AdpType=Prep  - ADP  - None\n",
            "inconsistencias  - NOUN__Gender=Fem|Number=Plur  - NOUN  - None\n",
            "en  - ADP__AdpType=Prep  - ADP  - None\n",
            "el  - DET__Definite=Def|Gender=Masc|Number=Sing|PronType=Art  - DET  - None\n",
            "certificado  - NOUN__Gender=Masc|Number=Sing  - NOUN  - None\n",
            "de  - ADP__AdpType=Prep  - ADP  - None\n",
            "nacimiento  - NOUN__Gender=Masc|Number=Sing  - NOUN  - None\n",
            "presentado  - ADJ__Gender=Masc|Number=Sing|VerbForm=Part  - ADJ  - None\n",
            "por  - ADP__AdpType=Prep  - ADP  - None\n",
            "el  - DET__Definite=Def|Gender=Masc|Number=Sing|PronType=Art  - DET  - None\n",
            "jugador  - NOUN__Gender=Masc|Number=Sing  - NOUN  - None\n",
            "\"  - PUNCT__PunctType=Quot  - PUNCT  - None\n",
            ",  - PUNCT__PunctType=Comm  - PUNCT  - None\n",
            "afirmó  - VERB__Mood=Ind|Number=Sing|Person=3|Tense=Past|VerbForm=Fin  - VERB  - None\n",
            "este  - DET__Gender=Masc|Number=Sing|PronType=Dem  - DET  - None\n",
            "organismo  - NOUN__Gender=Masc|Number=Sing  - NOUN  - None\n",
            ",  - PUNCT__PunctType=Comm  - PUNCT  - None\n",
            "que  - PRON__PronType=Rel  - PRON  - None\n",
            "acusó  - VERB__Mood=Ind|Number=Sing|Person=3|Tense=Past|VerbForm=Fin  - VERB  - None\n",
            "a  - ADP__AdpType=Prep  - ADP  - None\n",
            "la  - DET__Definite=Def|Gender=Fem|Number=Sing|PronType=Art  - DET  - None\n",
            "Federación  - PROPN___  - PROPN  - None\n",
            "Ecuatoriana  - PROPN___  - PROPN  - None\n",
            "de  - ADP__AdpType=Prep  - ADP  - None\n",
            "tener  - VERB__VerbForm=Inf  - VERB  - None\n",
            "\"  - PUNCT__PunctType=Quot  - PUNCT  - None\n",
            "total  - ADJ__Number=Sing  - ADJ  - None\n",
            "conocimiento  - NOUN__Gender=Masc|Number=Sing  - NOUN  - None\n",
            "\"  - PUNCT__PunctType=Quot  - PUNCT  - None\n",
            "de  - ADP__AdpType=Prep  - ADP  - None\n",
            "las  - DET__Definite=Def|Gender=Fem|Number=Plur|PronType=Art  - DET  - None\n",
            "irregularidades  - NOUN__Gender=Fem|Number=Plur  - NOUN  - None\n",
            ".  - PUNCT__PunctType=Peri  - PUNCT  - None\n",
            "Una  - DET__Definite=Ind|Gender=Fem|Number=Sing|PronType=Art  - DET  - None\n",
            "posible  - ADJ__Number=Sing  - ADJ  - None\n",
            "sanción  - NOUN__Gender=Fem|Number=Sing  - NOUN  - None\n",
            "de  - ADP__AdpType=Prep  - ADP  - None\n",
            "la  - DET__Definite=Def|Gender=Fem|Number=Sing|PronType=Art  - DET  - None\n",
            "FIFA  - PROPN___  - PROPN  - None\n",
            "podría  - AUX__Mood=Cnd|Number=Sing|Person=3|VerbForm=Fin  - AUX  - None\n",
            "implicar  - VERB__VerbForm=Inf  - VERB  - None\n",
            "la  - DET__Definite=Def|Gender=Fem|Number=Sing|PronType=Art  - DET  - None\n",
            "resta  - NOUN__Gender=Fem|Number=Sing  - NOUN  - None\n",
            "de  - ADP__AdpType=Prep  - ADP  - None\n",
            "puntos  - NOUN__Gender=Masc|Number=Plur  - NOUN  - None\n",
            "a  - ADP__AdpType=Prep  - ADP  - None\n",
            "Ecuador  - PROPN___  - PROPN  - None\n",
            "por  - ADP__AdpType=Prep  - ADP  - None\n",
            "los  - DET__Definite=Def|Gender=Masc|Number=Plur|PronType=Art  - DET  - None\n",
            "partidos  - NOUN__Gender=Masc|Number=Plur  - NOUN  - None\n",
            "que  - PRON__PronType=Rel  - PRON  - None\n",
            "Castillo  - PROPN___  - PROPN  - None\n",
            "jugó  - VERB__Mood=Ind|Number=Sing|Person=3|Tense=Past|VerbForm=Fin  - VERB  - None\n",
            ",  - PUNCT__PunctType=Comm  - PUNCT  - None\n",
            "lo  - DET__Definite=Def|Number=Sing|PronType=Art  - DET  - None\n",
            "que  - PRON__PronType=Rel  - PRON  - None\n",
            "alteraría  - VERB__Mood=Cnd|Number=Sing|Person=3|VerbForm=Fin  - VERB  - None\n",
            "la  - DET__Definite=Def|Gender=Fem|Number=Sing|PronType=Art  - DET  - None\n",
            "nómina  - NOUN__Gender=Fem|Number=Sing  - NOUN  - None\n",
            "de  - ADP__AdpType=Prep  - ADP  - None\n",
            "clasificados  - NOUN__Gender=Masc|Number=Plur  - NOUN  - None\n",
            ".  - PUNCT__PunctType=Peri  - PUNCT  - None\n",
            "Un  - DET__Definite=Ind|Gender=Masc|Number=Sing|PronType=Art  - DET  - None\n",
            "informe  - NOUN__Gender=Masc|Number=Sing  - NOUN  - None\n",
            "técnico  - ADJ__Gender=Masc|Number=Sing  - ADJ  - None\n",
            "jurídico  - ADJ__Gender=Masc|Number=Sing  - ADJ  - None\n",
            "de  - ADP__AdpType=Prep  - ADP  - None\n",
            "la  - DET__Definite=Def|Gender=Fem|Number=Sing|PronType=Art  - DET  - None\n",
            "dirección  - PROPN___  - PROPN  - None\n",
            "nacional  - PROPN___  - PROPN  - None\n",
            "del  - ADP__AdpType=Preppron|Gender=Masc|Number=Sing  - ADP  - None\n",
            "registro  - PROPN___  - PROPN  - None\n",
            "civil  - ADJ__Number=Sing  - ADJ  - None\n",
            "de  - ADP__AdpType=Prep  - ADP  - None\n",
            "Ecuador  - PROPN___  - PROPN  - None\n",
            "afirma  - VERB__Mood=Ind|Number=Sing|Person=3|Tense=Pres|VerbForm=Fin  - VERB  - None\n",
            "que  - SCONJ___  - SCONJ  - None\n",
            "la  - DET__Definite=Def|Gender=Fem|Number=Sing|PronType=Art  - DET  - None\n",
            "inscripción  - NOUN__Gender=Fem|Number=Sing  - NOUN  - None\n",
            "de  - ADP__AdpType=Prep  - ADP  - None\n",
            "nacimiento  - NOUN__Gender=Masc|Number=Sing  - NOUN  - None\n",
            "de  - ADP__AdpType=Prep  - ADP  - None\n",
            "Byron  - PROPN___  - PROPN  - None\n",
            "Castillo  - PROPN___  - PROPN  - None\n",
            "en  - ADP__AdpType=Prep  - ADP  - None\n",
            "la  - DET__Definite=Def|Gender=Fem|Number=Sing|PronType=Art  - DET  - None\n",
            "ciudad  - NOUN__Gender=Fem|Number=Sing  - NOUN  - None\n",
            "ecuatoriana  - ADJ__Gender=Fem|Number=Sing  - ADJ  - None\n",
            "de  - ADP__AdpType=Prep  - ADP  - None\n",
            "Guayas  - PROPN___  - PROPN  - None\n",
            "no  - ADV__Polarity=Neg  - ADV  - None\n",
            "consta  - VERB__Mood=Ind|Number=Sing|Person=3|Tense=Pres|VerbForm=Fin  - VERB  - None\n",
            "en  - ADP__AdpType=Prep  - ADP  - None\n",
            "el  - DET__Definite=Def|Gender=Masc|Number=Sing|PronType=Art  - DET  - None\n",
            "tomo  - NOUN__Gender=Masc|Number=Sing  - NOUN  - None\n",
            ",  - PUNCT__PunctType=Comm  - PUNCT  - None\n",
            "la  - DET__Definite=Def|Gender=Fem|Number=Sing|PronType=Art  - DET  - None\n",
            "página  - NOUN__Gender=Fem|Number=Sing  - NOUN  - None\n",
            "y  - CCONJ___  - CONJ  - None\n",
            "el  - DET__Definite=Def|Gender=Masc|Number=Sing|PronType=Art  - DET  - None\n",
            "acta  - NOUN__Gender=Masc|Number=Sing  - NOUN  - None\n",
            "solicitado  - ADJ__Gender=Masc|Number=Sing|VerbForm=Part  - ADJ  - None\n",
            ",  - PUNCT__PunctType=Comm  - PUNCT  - None\n",
            "según  - ADP__AdpType=Prep  - ADP  - None\n",
            "un  - DET__Definite=Ind|Gender=Masc|Number=Sing|PronType=Art  - DET  - None\n",
            "documento  - NOUN__Gender=Masc|Number=Sing  - NOUN  - None\n",
            "oficial  - ADJ__Number=Sing  - ADJ  - None\n",
            ".  - PUNCT__PunctType=Peri  - PUNCT  - None\n"
          ]
        }
      ]
    },
    {
      "cell_type": "markdown",
      "source": [
        "1. tag_ listas las estructuras finas del POS\n",
        "2. pos_ lista la estructuras gruesas del POS\n",
        "3. spacy.explain da los detalles descriptivos sobre un POS particular"
      ],
      "metadata": {
        "id": "A9U1VToeTcGl"
      }
    },
    {
      "cell_type": "code",
      "source": [
        "nouns=[]\n",
        "adjectives=[]\n",
        "for token in doc:\n",
        "  if token.pos_ =='NOUN':\n",
        "    nouns.append(token)\n",
        "  if token.pos_ =='ADJ':\n",
        "    adjectives.append(token)\n",
        "print(nouns)\n",
        "print(adjectives)"
      ],
      "metadata": {
        "colab": {
          "base_uri": "https://localhost:8080/"
        },
        "id": "ePn4C2N_ToHG",
        "outputId": "df093f04-ee60-4f07-f1c6-c6d61653ef4b"
      },
      "execution_count": null,
      "outputs": [
        {
          "output_type": "stream",
          "name": "stdout",
          "text": [
            "[denuncia, alegaciones, falsificación, documentos, nacionalidad, selección, forma, contrario, combinado, ecuatoriano, repesca, defensa, seleccionador, partidos, ocasión, partidos, clave, equipo, cupos, pruebas, día, pruebas, jugador, investigaciones, informe, existencia, inconsistencias, certificado, nacimiento, jugador, organismo, conocimiento, irregularidades, sanción, resta, puntos, partidos, nómina, clasificados, informe, inscripción, nacimiento, ciudad, tomo, página, acta, documento]\n",
            "[interpuesta, posible, ecuatoriana, directa, junto, peruano, quinto, ecuatoriano, directos, \"Innumerables, pasado, innumerables, realizadas, jurídico, presentado, total, posible, técnico, jurídico, civil, ecuatoriana, solicitado, oficial]\n"
          ]
        }
      ]
    },
    {
      "cell_type": "markdown",
      "source": [
        "# Visualizacion usando spaCY"
      ],
      "metadata": {
        "id": "asrthaXMT1j0"
      }
    },
    {
      "cell_type": "code",
      "source": [
        "from spacy import displacy\n",
        "texto = ('el se encuentra interesado en aprender Procesamiento de Lenguaje Natural')\n",
        "t = nlp(texto)\n",
        "displacy.render(t, style='dep',jupyter=True)"
      ],
      "metadata": {
        "colab": {
          "base_uri": "https://localhost:8080/",
          "height": 354
        },
        "id": "67YSTloeT3Ou",
        "outputId": "9d9d409c-4475-45d8-bbc1-654576b1678a"
      },
      "execution_count": null,
      "outputs": [
        {
          "output_type": "display_data",
          "data": {
            "text/plain": [
              "<IPython.core.display.HTML object>"
            ],
            "text/html": [
              "<span class=\"tex2jax_ignore\"><svg xmlns=\"http://www.w3.org/2000/svg\" xmlns:xlink=\"http://www.w3.org/1999/xlink\" xml:lang=\"es\" id=\"fcdfce4726f241aa9ce9e158854d1b98-0\" class=\"displacy\" width=\"1800\" height=\"312.0\" direction=\"ltr\" style=\"max-width: none; height: 312.0px; color: #000000; background: #ffffff; font-family: Arial; direction: ltr\">\n",
              "<text class=\"displacy-token\" fill=\"currentColor\" text-anchor=\"middle\" y=\"222.0\">\n",
              "    <tspan class=\"displacy-word\" fill=\"currentColor\" x=\"50\">el</tspan>\n",
              "    <tspan class=\"displacy-tag\" dy=\"2em\" fill=\"currentColor\" x=\"50\">DET</tspan>\n",
              "</text>\n",
              "\n",
              "<text class=\"displacy-token\" fill=\"currentColor\" text-anchor=\"middle\" y=\"222.0\">\n",
              "    <tspan class=\"displacy-word\" fill=\"currentColor\" x=\"225\">se</tspan>\n",
              "    <tspan class=\"displacy-tag\" dy=\"2em\" fill=\"currentColor\" x=\"225\">PRON</tspan>\n",
              "</text>\n",
              "\n",
              "<text class=\"displacy-token\" fill=\"currentColor\" text-anchor=\"middle\" y=\"222.0\">\n",
              "    <tspan class=\"displacy-word\" fill=\"currentColor\" x=\"400\">encuentra</tspan>\n",
              "    <tspan class=\"displacy-tag\" dy=\"2em\" fill=\"currentColor\" x=\"400\">AUX</tspan>\n",
              "</text>\n",
              "\n",
              "<text class=\"displacy-token\" fill=\"currentColor\" text-anchor=\"middle\" y=\"222.0\">\n",
              "    <tspan class=\"displacy-word\" fill=\"currentColor\" x=\"575\">interesado</tspan>\n",
              "    <tspan class=\"displacy-tag\" dy=\"2em\" fill=\"currentColor\" x=\"575\">ADJ</tspan>\n",
              "</text>\n",
              "\n",
              "<text class=\"displacy-token\" fill=\"currentColor\" text-anchor=\"middle\" y=\"222.0\">\n",
              "    <tspan class=\"displacy-word\" fill=\"currentColor\" x=\"750\">en</tspan>\n",
              "    <tspan class=\"displacy-tag\" dy=\"2em\" fill=\"currentColor\" x=\"750\">ADP</tspan>\n",
              "</text>\n",
              "\n",
              "<text class=\"displacy-token\" fill=\"currentColor\" text-anchor=\"middle\" y=\"222.0\">\n",
              "    <tspan class=\"displacy-word\" fill=\"currentColor\" x=\"925\">aprender</tspan>\n",
              "    <tspan class=\"displacy-tag\" dy=\"2em\" fill=\"currentColor\" x=\"925\">VERB</tspan>\n",
              "</text>\n",
              "\n",
              "<text class=\"displacy-token\" fill=\"currentColor\" text-anchor=\"middle\" y=\"222.0\">\n",
              "    <tspan class=\"displacy-word\" fill=\"currentColor\" x=\"1100\">Procesamiento</tspan>\n",
              "    <tspan class=\"displacy-tag\" dy=\"2em\" fill=\"currentColor\" x=\"1100\">PROPN</tspan>\n",
              "</text>\n",
              "\n",
              "<text class=\"displacy-token\" fill=\"currentColor\" text-anchor=\"middle\" y=\"222.0\">\n",
              "    <tspan class=\"displacy-word\" fill=\"currentColor\" x=\"1275\">de</tspan>\n",
              "    <tspan class=\"displacy-tag\" dy=\"2em\" fill=\"currentColor\" x=\"1275\">ADP</tspan>\n",
              "</text>\n",
              "\n",
              "<text class=\"displacy-token\" fill=\"currentColor\" text-anchor=\"middle\" y=\"222.0\">\n",
              "    <tspan class=\"displacy-word\" fill=\"currentColor\" x=\"1450\">Lenguaje</tspan>\n",
              "    <tspan class=\"displacy-tag\" dy=\"2em\" fill=\"currentColor\" x=\"1450\">NOUN</tspan>\n",
              "</text>\n",
              "\n",
              "<text class=\"displacy-token\" fill=\"currentColor\" text-anchor=\"middle\" y=\"222.0\">\n",
              "    <tspan class=\"displacy-word\" fill=\"currentColor\" x=\"1625\">Natural</tspan>\n",
              "    <tspan class=\"displacy-tag\" dy=\"2em\" fill=\"currentColor\" x=\"1625\">PROPN</tspan>\n",
              "</text>\n",
              "\n",
              "<g class=\"displacy-arrow\">\n",
              "    <path class=\"displacy-arc\" id=\"arrow-fcdfce4726f241aa9ce9e158854d1b98-0-0\" stroke-width=\"2px\" d=\"M70,177.0 C70,89.5 220.0,89.5 220.0,177.0\" fill=\"none\" stroke=\"currentColor\"/>\n",
              "    <text dy=\"1.25em\" style=\"font-size: 0.8em; letter-spacing: 1px\">\n",
              "        <textPath xlink:href=\"#arrow-fcdfce4726f241aa9ce9e158854d1b98-0-0\" class=\"displacy-label\" startOffset=\"50%\" side=\"left\" fill=\"currentColor\" text-anchor=\"middle\">det</textPath>\n",
              "    </text>\n",
              "    <path class=\"displacy-arrowhead\" d=\"M70,179.0 L62,167.0 78,167.0\" fill=\"currentColor\"/>\n",
              "</g>\n",
              "\n",
              "<g class=\"displacy-arrow\">\n",
              "    <path class=\"displacy-arc\" id=\"arrow-fcdfce4726f241aa9ce9e158854d1b98-0-1\" stroke-width=\"2px\" d=\"M245,177.0 C245,89.5 395.0,89.5 395.0,177.0\" fill=\"none\" stroke=\"currentColor\"/>\n",
              "    <text dy=\"1.25em\" style=\"font-size: 0.8em; letter-spacing: 1px\">\n",
              "        <textPath xlink:href=\"#arrow-fcdfce4726f241aa9ce9e158854d1b98-0-1\" class=\"displacy-label\" startOffset=\"50%\" side=\"left\" fill=\"currentColor\" text-anchor=\"middle\">obj</textPath>\n",
              "    </text>\n",
              "    <path class=\"displacy-arrowhead\" d=\"M245,179.0 L237,167.0 253,167.0\" fill=\"currentColor\"/>\n",
              "</g>\n",
              "\n",
              "<g class=\"displacy-arrow\">\n",
              "    <path class=\"displacy-arc\" id=\"arrow-fcdfce4726f241aa9ce9e158854d1b98-0-2\" stroke-width=\"2px\" d=\"M420,177.0 C420,89.5 570.0,89.5 570.0,177.0\" fill=\"none\" stroke=\"currentColor\"/>\n",
              "    <text dy=\"1.25em\" style=\"font-size: 0.8em; letter-spacing: 1px\">\n",
              "        <textPath xlink:href=\"#arrow-fcdfce4726f241aa9ce9e158854d1b98-0-2\" class=\"displacy-label\" startOffset=\"50%\" side=\"left\" fill=\"currentColor\" text-anchor=\"middle\">cop</textPath>\n",
              "    </text>\n",
              "    <path class=\"displacy-arrowhead\" d=\"M420,179.0 L412,167.0 428,167.0\" fill=\"currentColor\"/>\n",
              "</g>\n",
              "\n",
              "<g class=\"displacy-arrow\">\n",
              "    <path class=\"displacy-arc\" id=\"arrow-fcdfce4726f241aa9ce9e158854d1b98-0-3\" stroke-width=\"2px\" d=\"M770,177.0 C770,89.5 920.0,89.5 920.0,177.0\" fill=\"none\" stroke=\"currentColor\"/>\n",
              "    <text dy=\"1.25em\" style=\"font-size: 0.8em; letter-spacing: 1px\">\n",
              "        <textPath xlink:href=\"#arrow-fcdfce4726f241aa9ce9e158854d1b98-0-3\" class=\"displacy-label\" startOffset=\"50%\" side=\"left\" fill=\"currentColor\" text-anchor=\"middle\">mark</textPath>\n",
              "    </text>\n",
              "    <path class=\"displacy-arrowhead\" d=\"M770,179.0 L762,167.0 778,167.0\" fill=\"currentColor\"/>\n",
              "</g>\n",
              "\n",
              "<g class=\"displacy-arrow\">\n",
              "    <path class=\"displacy-arc\" id=\"arrow-fcdfce4726f241aa9ce9e158854d1b98-0-4\" stroke-width=\"2px\" d=\"M595,177.0 C595,2.0 925.0,2.0 925.0,177.0\" fill=\"none\" stroke=\"currentColor\"/>\n",
              "    <text dy=\"1.25em\" style=\"font-size: 0.8em; letter-spacing: 1px\">\n",
              "        <textPath xlink:href=\"#arrow-fcdfce4726f241aa9ce9e158854d1b98-0-4\" class=\"displacy-label\" startOffset=\"50%\" side=\"left\" fill=\"currentColor\" text-anchor=\"middle\">xcomp</textPath>\n",
              "    </text>\n",
              "    <path class=\"displacy-arrowhead\" d=\"M925.0,179.0 L933.0,167.0 917.0,167.0\" fill=\"currentColor\"/>\n",
              "</g>\n",
              "\n",
              "<g class=\"displacy-arrow\">\n",
              "    <path class=\"displacy-arc\" id=\"arrow-fcdfce4726f241aa9ce9e158854d1b98-0-5\" stroke-width=\"2px\" d=\"M945,177.0 C945,89.5 1095.0,89.5 1095.0,177.0\" fill=\"none\" stroke=\"currentColor\"/>\n",
              "    <text dy=\"1.25em\" style=\"font-size: 0.8em; letter-spacing: 1px\">\n",
              "        <textPath xlink:href=\"#arrow-fcdfce4726f241aa9ce9e158854d1b98-0-5\" class=\"displacy-label\" startOffset=\"50%\" side=\"left\" fill=\"currentColor\" text-anchor=\"middle\">obj</textPath>\n",
              "    </text>\n",
              "    <path class=\"displacy-arrowhead\" d=\"M1095.0,179.0 L1103.0,167.0 1087.0,167.0\" fill=\"currentColor\"/>\n",
              "</g>\n",
              "\n",
              "<g class=\"displacy-arrow\">\n",
              "    <path class=\"displacy-arc\" id=\"arrow-fcdfce4726f241aa9ce9e158854d1b98-0-6\" stroke-width=\"2px\" d=\"M1295,177.0 C1295,89.5 1445.0,89.5 1445.0,177.0\" fill=\"none\" stroke=\"currentColor\"/>\n",
              "    <text dy=\"1.25em\" style=\"font-size: 0.8em; letter-spacing: 1px\">\n",
              "        <textPath xlink:href=\"#arrow-fcdfce4726f241aa9ce9e158854d1b98-0-6\" class=\"displacy-label\" startOffset=\"50%\" side=\"left\" fill=\"currentColor\" text-anchor=\"middle\">case</textPath>\n",
              "    </text>\n",
              "    <path class=\"displacy-arrowhead\" d=\"M1295,179.0 L1287,167.0 1303,167.0\" fill=\"currentColor\"/>\n",
              "</g>\n",
              "\n",
              "<g class=\"displacy-arrow\">\n",
              "    <path class=\"displacy-arc\" id=\"arrow-fcdfce4726f241aa9ce9e158854d1b98-0-7\" stroke-width=\"2px\" d=\"M1120,177.0 C1120,2.0 1450.0,2.0 1450.0,177.0\" fill=\"none\" stroke=\"currentColor\"/>\n",
              "    <text dy=\"1.25em\" style=\"font-size: 0.8em; letter-spacing: 1px\">\n",
              "        <textPath xlink:href=\"#arrow-fcdfce4726f241aa9ce9e158854d1b98-0-7\" class=\"displacy-label\" startOffset=\"50%\" side=\"left\" fill=\"currentColor\" text-anchor=\"middle\">nmod</textPath>\n",
              "    </text>\n",
              "    <path class=\"displacy-arrowhead\" d=\"M1450.0,179.0 L1458.0,167.0 1442.0,167.0\" fill=\"currentColor\"/>\n",
              "</g>\n",
              "\n",
              "<g class=\"displacy-arrow\">\n",
              "    <path class=\"displacy-arc\" id=\"arrow-fcdfce4726f241aa9ce9e158854d1b98-0-8\" stroke-width=\"2px\" d=\"M1470,177.0 C1470,89.5 1620.0,89.5 1620.0,177.0\" fill=\"none\" stroke=\"currentColor\"/>\n",
              "    <text dy=\"1.25em\" style=\"font-size: 0.8em; letter-spacing: 1px\">\n",
              "        <textPath xlink:href=\"#arrow-fcdfce4726f241aa9ce9e158854d1b98-0-8\" class=\"displacy-label\" startOffset=\"50%\" side=\"left\" fill=\"currentColor\" text-anchor=\"middle\">flat</textPath>\n",
              "    </text>\n",
              "    <path class=\"displacy-arrowhead\" d=\"M1620.0,179.0 L1628.0,167.0 1612.0,167.0\" fill=\"currentColor\"/>\n",
              "</g>\n",
              "</svg></span>"
            ]
          },
          "metadata": {}
        }
      ]
    },
    {
      "cell_type": "markdown",
      "source": [
        "# Caso aplicado: ¿Cómo podemos predecir el sentimiento asociado con una interacción con el cliente?"
      ],
      "metadata": {
        "id": "Tkpc-IyM6Vv7"
      }
    },
    {
      "cell_type": "code",
      "source": [
        "import os\n",
        "from collections import Counter\n",
        "\n",
        "import matplotlib.pyplot as plt\n",
        "import nltk\n",
        "import numpy as np\n",
        "import pandas as pd\n",
        "\n",
        "from pylab import rcParams\n",
        "from wordcloud import WordCloud\n",
        "from nltk import word_tokenize\n",
        "\n",
        "from sklearn.feature_extraction.text import CountVectorizer\n",
        "from sklearn.model_selection import train_test_split\n",
        "from sklearn.linear_model import LogisticRegression\n",
        "from sklearn.metrics import accuracy_score\n",
        "from sklearn.metrics import f1_score\n",
        "from sklearn.ensemble import RandomForestClassifier\n",
        "from sklearn.feature_extraction.text import TfidfVectorizer\n",
        "\n",
        "rcParams['figure.figsize'] = 30, 60\n",
        "%matplotlib inline"
      ],
      "metadata": {
        "id": "eY8dg6Hc6e4m"
      },
      "execution_count": null,
      "outputs": []
    },
    {
      "cell_type": "markdown",
      "source": [
        "# Metas\n",
        "\n",
        "Después de trabajar en este caso, debería poder aplicar el análisis de sentimientos a los problemas comerciales. Comprenderá cómo utilizar técnicas de clasificación de texto para crear un modelo de análisis de opiniones y podrá aplicar modelos de opiniones a datos del mundo real.\n",
        "\n",
        "Habrá adquirido experiencia en el uso de varias técnicas diferentes de vectorización y creación de modelos, utilizando bibliotecas populares de Python como scikit-learn y gensim. Habrá utilizado tanto vectorizaciones basadas en conteo como incrustaciones de palabras, y comprenderá los pros y los contras de cada una."
      ],
      "metadata": {
        "id": "3wPhXiFl6kbd"
      }
    },
    {
      "cell_type": "markdown",
      "source": [
        "# Introducción\n",
        "**Contexto empresarial**. Eres un científico de datos para una gran empresa de comercio electrónico. Tienes decenas de miles de clientes que escriben reseñas sobre productos cada día. Cada revisión contiene comentarios textuales junto con un sistema de calificación de 1 a 5 estrellas (siendo 1 la menos satisfecha y 5 la más satisfecha). \n",
        "\n",
        "También tiene un equipo de atención al cliente que interactúa con los clientes a través de servicios de llamadas y mensajes. Su empresa también recopila comentarios sobre las experiencias de sus clientes con la interacción del sitio web después de cada compra. Ni este comentario ni el servicio de mensajería tienen un número de calificación. La empresa quiere cuantificar la satisfacción del cliente proveniente de estas interacciones no calificadas para ayudar con futuras decisiones comerciales (por ejemplo, determinar qué tan bien se están desempeñando sus diversos agentes de servicio al cliente).\n",
        "\n",
        "**Problema de negocio** Su tarea es construir modelos que puedan identificar el sentimiento (positivo o negativo) de cada una de estas interacciones no calificadas.\n",
        "\n",
        "**Contexto analitico** Los datos son un conjunto de reseñas en formato de archivo CSV. Combinaremos lo que aprendimos sobre el procesamiento de texto y los modelos de clasificación para desarrollar algoritmos capaces de clasificar las interacciones por sentimiento.\n",
        "\n",
        "El caso está estructurado de la siguiente manera: 1) leerá y analizará los datos del texto de entrada y las variables de respuesta correspondientes (calificaciones); 2) realizara un preprocesamiento básico para preparar los datos para el modelado; 3) aprendera y aplicara varias formas de caracterizar el texto de reseñas; y finalmente 4) construira modelos de aprendizaje automático para clasificar el texto como mostrando un sentimiento positivo o negativo (1 o 0)."
      ],
      "metadata": {
        "id": "KMDBHuy06rc1"
      }
    },
    {
      "cell_type": "markdown",
      "source": [
        "# Lectura de datos y analisis basico"
      ],
      "metadata": {
        "id": "hhEWNyxp7J9a"
      }
    },
    {
      "cell_type": "code",
      "source": [
        "from google.colab import drive\n",
        "import os\n",
        "drive.mount('/content/gdrive')\n",
        "# Establecer ruta de acceso en dr\n",
        "import os\n",
        "print(os.getcwd())\n",
        "os.chdir(\"/content/gdrive/My Drive\")"
      ],
      "metadata": {
        "colab": {
          "base_uri": "https://localhost:8080/"
        },
        "id": "CQFxWy6n7Wda",
        "outputId": "02a015f7-e18f-4eaf-d6c3-e3eaf49c6974"
      },
      "execution_count": null,
      "outputs": [
        {
          "output_type": "stream",
          "name": "stdout",
          "text": [
            "Mounted at /content/gdrive\n",
            "/content\n"
          ]
        }
      ]
    },
    {
      "cell_type": "code",
      "source": [
        "import pandas as pd\n",
        "amazon_reviews = pd.read_csv('Reviews.csv')\n",
        "# Seleccionando solo los primeros 10,000 registros para calculo mas rapido\n",
        "#amazon_reviews = amazon_reviews[:10000]\n",
        "amazon_reviews.head()"
      ],
      "metadata": {
        "colab": {
          "base_uri": "https://localhost:8080/",
          "height": 337
        },
        "id": "zp73tMGp6haN",
        "outputId": "aa85f9ba-db9d-46e3-d875-e47102e3f291"
      },
      "execution_count": null,
      "outputs": [
        {
          "output_type": "execute_result",
          "data": {
            "text/plain": [
              "   Id   ProductId          UserId                      ProfileName  \\\n",
              "0   1  B001E4KFG0  A3SGXH7AUHU8GW                       delmartian   \n",
              "1   2  B00813GRG4  A1D87F6ZCVE5NK                           dll pa   \n",
              "2   3  B000LQOCH0   ABXLMWJIXXAIN  Natalia Corres \"Natalia Corres\"   \n",
              "3   4  B000UA0QIQ  A395BORC6FGVXV                             Karl   \n",
              "4   5  B006K2ZZ7K  A1UQRSCLF8GW1T    Michael D. Bigham \"M. Wassir\"   \n",
              "\n",
              "   HelpfulnessNumerator  HelpfulnessDenominator  Score        Time  \\\n",
              "0                     1                       1      5  1303862400   \n",
              "1                     0                       0      1  1346976000   \n",
              "2                     1                       1      4  1219017600   \n",
              "3                     3                       3      2  1307923200   \n",
              "4                     0                       0      5  1350777600   \n",
              "\n",
              "                 Summary                                               Text  \n",
              "0  Good Quality Dog Food  I have bought several of the Vitality canned d...  \n",
              "1      Not as Advertised  Product arrived labeled as Jumbo Salted Peanut...  \n",
              "2  \"Delight\" says it all  This is a confection that has been around a fe...  \n",
              "3         Cough Medicine  If you are looking for the secret ingredient i...  \n",
              "4            Great taffy  Great taffy at a great price.  There was a wid...  "
            ],
            "text/html": [
              "\n",
              "  <div id=\"df-c5ffd1ba-d779-433d-9e58-7a85772103a0\">\n",
              "    <div class=\"colab-df-container\">\n",
              "      <div>\n",
              "<style scoped>\n",
              "    .dataframe tbody tr th:only-of-type {\n",
              "        vertical-align: middle;\n",
              "    }\n",
              "\n",
              "    .dataframe tbody tr th {\n",
              "        vertical-align: top;\n",
              "    }\n",
              "\n",
              "    .dataframe thead th {\n",
              "        text-align: right;\n",
              "    }\n",
              "</style>\n",
              "<table border=\"1\" class=\"dataframe\">\n",
              "  <thead>\n",
              "    <tr style=\"text-align: right;\">\n",
              "      <th></th>\n",
              "      <th>Id</th>\n",
              "      <th>ProductId</th>\n",
              "      <th>UserId</th>\n",
              "      <th>ProfileName</th>\n",
              "      <th>HelpfulnessNumerator</th>\n",
              "      <th>HelpfulnessDenominator</th>\n",
              "      <th>Score</th>\n",
              "      <th>Time</th>\n",
              "      <th>Summary</th>\n",
              "      <th>Text</th>\n",
              "    </tr>\n",
              "  </thead>\n",
              "  <tbody>\n",
              "    <tr>\n",
              "      <th>0</th>\n",
              "      <td>1</td>\n",
              "      <td>B001E4KFG0</td>\n",
              "      <td>A3SGXH7AUHU8GW</td>\n",
              "      <td>delmartian</td>\n",
              "      <td>1</td>\n",
              "      <td>1</td>\n",
              "      <td>5</td>\n",
              "      <td>1303862400</td>\n",
              "      <td>Good Quality Dog Food</td>\n",
              "      <td>I have bought several of the Vitality canned d...</td>\n",
              "    </tr>\n",
              "    <tr>\n",
              "      <th>1</th>\n",
              "      <td>2</td>\n",
              "      <td>B00813GRG4</td>\n",
              "      <td>A1D87F6ZCVE5NK</td>\n",
              "      <td>dll pa</td>\n",
              "      <td>0</td>\n",
              "      <td>0</td>\n",
              "      <td>1</td>\n",
              "      <td>1346976000</td>\n",
              "      <td>Not as Advertised</td>\n",
              "      <td>Product arrived labeled as Jumbo Salted Peanut...</td>\n",
              "    </tr>\n",
              "    <tr>\n",
              "      <th>2</th>\n",
              "      <td>3</td>\n",
              "      <td>B000LQOCH0</td>\n",
              "      <td>ABXLMWJIXXAIN</td>\n",
              "      <td>Natalia Corres \"Natalia Corres\"</td>\n",
              "      <td>1</td>\n",
              "      <td>1</td>\n",
              "      <td>4</td>\n",
              "      <td>1219017600</td>\n",
              "      <td>\"Delight\" says it all</td>\n",
              "      <td>This is a confection that has been around a fe...</td>\n",
              "    </tr>\n",
              "    <tr>\n",
              "      <th>3</th>\n",
              "      <td>4</td>\n",
              "      <td>B000UA0QIQ</td>\n",
              "      <td>A395BORC6FGVXV</td>\n",
              "      <td>Karl</td>\n",
              "      <td>3</td>\n",
              "      <td>3</td>\n",
              "      <td>2</td>\n",
              "      <td>1307923200</td>\n",
              "      <td>Cough Medicine</td>\n",
              "      <td>If you are looking for the secret ingredient i...</td>\n",
              "    </tr>\n",
              "    <tr>\n",
              "      <th>4</th>\n",
              "      <td>5</td>\n",
              "      <td>B006K2ZZ7K</td>\n",
              "      <td>A1UQRSCLF8GW1T</td>\n",
              "      <td>Michael D. Bigham \"M. Wassir\"</td>\n",
              "      <td>0</td>\n",
              "      <td>0</td>\n",
              "      <td>5</td>\n",
              "      <td>1350777600</td>\n",
              "      <td>Great taffy</td>\n",
              "      <td>Great taffy at a great price.  There was a wid...</td>\n",
              "    </tr>\n",
              "  </tbody>\n",
              "</table>\n",
              "</div>\n",
              "      <button class=\"colab-df-convert\" onclick=\"convertToInteractive('df-c5ffd1ba-d779-433d-9e58-7a85772103a0')\"\n",
              "              title=\"Convert this dataframe to an interactive table.\"\n",
              "              style=\"display:none;\">\n",
              "        \n",
              "  <svg xmlns=\"http://www.w3.org/2000/svg\" height=\"24px\"viewBox=\"0 0 24 24\"\n",
              "       width=\"24px\">\n",
              "    <path d=\"M0 0h24v24H0V0z\" fill=\"none\"/>\n",
              "    <path d=\"M18.56 5.44l.94 2.06.94-2.06 2.06-.94-2.06-.94-.94-2.06-.94 2.06-2.06.94zm-11 1L8.5 8.5l.94-2.06 2.06-.94-2.06-.94L8.5 2.5l-.94 2.06-2.06.94zm10 10l.94 2.06.94-2.06 2.06-.94-2.06-.94-.94-2.06-.94 2.06-2.06.94z\"/><path d=\"M17.41 7.96l-1.37-1.37c-.4-.4-.92-.59-1.43-.59-.52 0-1.04.2-1.43.59L10.3 9.45l-7.72 7.72c-.78.78-.78 2.05 0 2.83L4 21.41c.39.39.9.59 1.41.59.51 0 1.02-.2 1.41-.59l7.78-7.78 2.81-2.81c.8-.78.8-2.07 0-2.86zM5.41 20L4 18.59l7.72-7.72 1.47 1.35L5.41 20z\"/>\n",
              "  </svg>\n",
              "      </button>\n",
              "      \n",
              "  <style>\n",
              "    .colab-df-container {\n",
              "      display:flex;\n",
              "      flex-wrap:wrap;\n",
              "      gap: 12px;\n",
              "    }\n",
              "\n",
              "    .colab-df-convert {\n",
              "      background-color: #E8F0FE;\n",
              "      border: none;\n",
              "      border-radius: 50%;\n",
              "      cursor: pointer;\n",
              "      display: none;\n",
              "      fill: #1967D2;\n",
              "      height: 32px;\n",
              "      padding: 0 0 0 0;\n",
              "      width: 32px;\n",
              "    }\n",
              "\n",
              "    .colab-df-convert:hover {\n",
              "      background-color: #E2EBFA;\n",
              "      box-shadow: 0px 1px 2px rgba(60, 64, 67, 0.3), 0px 1px 3px 1px rgba(60, 64, 67, 0.15);\n",
              "      fill: #174EA6;\n",
              "    }\n",
              "\n",
              "    [theme=dark] .colab-df-convert {\n",
              "      background-color: #3B4455;\n",
              "      fill: #D2E3FC;\n",
              "    }\n",
              "\n",
              "    [theme=dark] .colab-df-convert:hover {\n",
              "      background-color: #434B5C;\n",
              "      box-shadow: 0px 1px 3px 1px rgba(0, 0, 0, 0.15);\n",
              "      filter: drop-shadow(0px 1px 2px rgba(0, 0, 0, 0.3));\n",
              "      fill: #FFFFFF;\n",
              "    }\n",
              "  </style>\n",
              "\n",
              "      <script>\n",
              "        const buttonEl =\n",
              "          document.querySelector('#df-c5ffd1ba-d779-433d-9e58-7a85772103a0 button.colab-df-convert');\n",
              "        buttonEl.style.display =\n",
              "          google.colab.kernel.accessAllowed ? 'block' : 'none';\n",
              "\n",
              "        async function convertToInteractive(key) {\n",
              "          const element = document.querySelector('#df-c5ffd1ba-d779-433d-9e58-7a85772103a0');\n",
              "          const dataTable =\n",
              "            await google.colab.kernel.invokeFunction('convertToInteractive',\n",
              "                                                     [key], {});\n",
              "          if (!dataTable) return;\n",
              "\n",
              "          const docLinkHtml = 'Like what you see? Visit the ' +\n",
              "            '<a target=\"_blank\" href=https://colab.research.google.com/notebooks/data_table.ipynb>data table notebook</a>'\n",
              "            + ' to learn more about interactive tables.';\n",
              "          element.innerHTML = '';\n",
              "          dataTable['output_type'] = 'display_data';\n",
              "          await google.colab.output.renderOutput(dataTable, element);\n",
              "          const docLink = document.createElement('div');\n",
              "          docLink.innerHTML = docLinkHtml;\n",
              "          element.appendChild(docLink);\n",
              "        }\n",
              "      </script>\n",
              "    </div>\n",
              "  </div>\n",
              "  "
            ]
          },
          "metadata": {},
          "execution_count": 3
        }
      ]
    },
    {
      "cell_type": "code",
      "source": [
        "amazon_reviews.shape"
      ],
      "metadata": {
        "colab": {
          "base_uri": "https://localhost:8080/"
        },
        "id": "zJSLM18R0Ytm",
        "outputId": "d96039e1-e30a-4f57-8d2d-eed5afec4f1c"
      },
      "execution_count": null,
      "outputs": [
        {
          "output_type": "execute_result",
          "data": {
            "text/plain": [
              "(568454, 10)"
            ]
          },
          "metadata": {},
          "execution_count": 4
        }
      ]
    },
    {
      "cell_type": "markdown",
      "source": [
        "Columnas del dataset:\n",
        "\n",
        "- **ID**: valor unico para cada fila\n",
        "- **ProductId**: una referencia del producto sobre la reseña\n",
        "- **UserId**: una referencia del usuario que dejo el review\n",
        "- **HelpfulnessNumerator**: numero de lectores que han indicado que la reseña ayuda o es interesante\n",
        "- **HelpfulnessDenominator**: numero total de personas que han dado una indicacion de si la reseña ha sido util o no \n",
        "- **Score**:  rating (1-5)\n",
        "- **Time**: fecha formato timestamp que indica cuando se creo la revision \n",
        "- **Summary**: El resumen escrito por el usuario de lo que trata la reseña\n",
        "- **Text**: la revisión escrita por el usuario"
      ],
      "metadata": {
        "id": "IsuNvQ957m-W"
      }
    },
    {
      "cell_type": "markdown",
      "source": [
        "Miremos la distribucion del numero de palabras por review"
      ],
      "metadata": {
        "id": "dq6TigUN8Zxy"
      }
    },
    {
      "cell_type": "code",
      "source": [
        "words_per_review = amazon_reviews.Text.apply(lambda x: len(x.split(\" \")))\n",
        "words_per_review.hist(bins = 100)\n",
        "plt.title('Numero de palabras por revision')\n",
        "plt.xlabel('Palabras')\n",
        "plt.ylabel('Frecuencia')"
      ],
      "metadata": {
        "colab": {
          "base_uri": "https://localhost:8080/",
          "height": 312
        },
        "id": "FRoXoAfh8cUJ",
        "outputId": "383dc4ee-a6ba-42c8-9d08-288c9c92e3e6"
      },
      "execution_count": null,
      "outputs": [
        {
          "output_type": "execute_result",
          "data": {
            "text/plain": [
              "Text(0, 0.5, 'Frecuencia')"
            ]
          },
          "metadata": {},
          "execution_count": 7
        },
        {
          "output_type": "display_data",
          "data": {
            "text/plain": [
              "<Figure size 432x288 with 1 Axes>"
            ],
            "image/png": "[encoded data removed]"
          },
          "metadata": {
            "needs_background": "light"
          }
        }
      ]
    },
    {
      "cell_type": "code",
      "source": [
        "words_per_review.mean()"
      ],
      "metadata": {
        "colab": {
          "base_uri": "https://localhost:8080/"
        },
        "id": "7mcYXdhd8f1Z",
        "outputId": "d9c2e6ec-4c61-4e9d-fc56-a78f25339f7c"
      },
      "execution_count": null,
      "outputs": [
        {
          "output_type": "execute_result",
          "data": {
            "text/plain": [
              "82.00552199474363"
            ]
          },
          "metadata": {},
          "execution_count": 8
        }
      ]
    },
    {
      "cell_type": "markdown",
      "source": [
        "Distrobucion de los ratings"
      ],
      "metadata": {
        "id": "rRCyuNQ38gmB"
      }
    },
    {
      "cell_type": "code",
      "source": [
        "amazon_reviews.Score.value_counts()"
      ],
      "metadata": {
        "colab": {
          "base_uri": "https://localhost:8080/"
        },
        "id": "CIio-PLz8iHJ",
        "outputId": "50333a0b-a863-435d-d704-08ac133c0b5c"
      },
      "execution_count": null,
      "outputs": [
        {
          "output_type": "execute_result",
          "data": {
            "text/plain": [
              "5    363122\n",
              "4     80655\n",
              "1     52268\n",
              "3     42640\n",
              "2     29769\n",
              "Name: Score, dtype: int64"
            ]
          },
          "metadata": {},
          "execution_count": 9
        }
      ]
    },
    {
      "cell_type": "code",
      "source": [
        "percent_val = 100 * amazon_reviews.Score.value_counts()/amazon_reviews.shape[0]\n",
        "percent_val"
      ],
      "metadata": {
        "colab": {
          "base_uri": "https://localhost:8080/"
        },
        "id": "wWAVP9ad8jSL",
        "outputId": "6b87f690-8603-4e97-96ad-a9c42eb561ff"
      },
      "execution_count": null,
      "outputs": [
        {
          "output_type": "execute_result",
          "data": {
            "text/plain": [
              "5    63.878871\n",
              "4    14.188483\n",
              "1     9.194763\n",
              "3     7.501047\n",
              "2     5.236835\n",
              "Name: Score, dtype: float64"
            ]
          },
          "metadata": {},
          "execution_count": 10
        }
      ]
    },
    {
      "cell_type": "code",
      "source": [
        "percent_val.plot.bar()\n",
        "plt.title('Revisiones por scores')\n",
        "plt.xlabel('Score')\n",
        "plt.ylabel('Porcentaje (%)')"
      ],
      "metadata": {
        "colab": {
          "base_uri": "https://localhost:8080/",
          "height": 309
        },
        "id": "GUlRhwhj8lEa",
        "outputId": "02a602e1-029b-43c2-82ce-8b01f03e8f19"
      },
      "execution_count": null,
      "outputs": [
        {
          "output_type": "execute_result",
          "data": {
            "text/plain": [
              "Text(0, 0.5, 'Porcentaje (%)')"
            ]
          },
          "metadata": {},
          "execution_count": 11
        },
        {
          "output_type": "display_data",
          "data": {
            "text/plain": [
              "<Figure size 432x288 with 1 Axes>"
            ],
            "image/png": "[encoded data removed]"
          },
          "metadata": {
            "needs_background": "light"
          }
        }
      ]
    },
    {
      "cell_type": "markdown",
      "source": [
        "la distribucion es asimetrica, con un gran valor para los ratings de 5s y pocos par 3,2 y 1"
      ],
      "metadata": {
        "id": "jJMFaoaW8oE7"
      }
    },
    {
      "cell_type": "markdown",
      "source": [
        "# Wordcloud"
      ],
      "metadata": {
        "id": "z6JfoGI18uT2"
      }
    },
    {
      "cell_type": "code",
      "source": [
        "word_cloud_text = ''.join(amazon_reviews.Text)\n",
        "print(len(word_cloud_text))\n",
        "\n",
        "wordcloud = WordCloud(\n",
        "    max_font_size=100,\n",
        "    max_words=100,\n",
        "    background_color=\"white\",\n",
        "    scale=10,\n",
        "    width=800,\n",
        "    height=400\n",
        ").generate(word_cloud_text)\n",
        "\n",
        "plt.figure(figsize=(12,6))\n",
        "plt.imshow(wordcloud, interpolation=\"bilinear\")\n",
        "plt.axis(\"off\")\n",
        "plt.show()"
      ],
      "metadata": {
        "colab": {
          "base_uri": "https://localhost:8080/",
          "height": 374
        },
        "id": "p4T2z4H-8vat",
        "outputId": "ae7d7034-a376-4fcf-a86f-9cdc1c9a6a14"
      },
      "execution_count": null,
      "outputs": [
        {
          "output_type": "stream",
          "name": "stdout",
          "text": [
            "247972188\n"
          ]
        },
        {
          "output_type": "display_data",
          "data": {
            "text/plain": [
              "<Figure size 864x432 with 1 Axes>"
            ],
            "image/png": "[encoded data removed]"
          },
          "metadata": {
            "needs_background": "light"
          }
        }
      ]
    },
    {
      "cell_type": "markdown",
      "source": [
        "El wordcloud muestra que hat muchos reviews que hablan sobre temas de comida (cafe, sabores, sabor, bebidas), tambien se observan otras palabras como bueno, amor y el mejor"
      ],
      "metadata": {
        "id": "qQK8Ykur80AZ"
      }
    },
    {
      "cell_type": "markdown",
      "source": [
        "# Estandarizacion de ratings para analisis de sentimiento"
      ],
      "metadata": {
        "id": "oCIjwyvX9DnC"
      }
    },
    {
      "cell_type": "markdown",
      "source": [
        "Para propositos del analisis de sentimiento convertiremos todos los ratings en valores binarios con las siguientes reglas:\n",
        "- ratings de 4 o 5 seran convertidos a 1 (positivo)\n",
        "- ratings de 1 o 2 seran convertidos a 0 (negativo)\n",
        "- ratings de 3 seran removidos del analisis"
      ],
      "metadata": {
        "id": "CFpvV3IP9HPt"
      }
    },
    {
      "cell_type": "code",
      "source": [
        "amazon_reviews['Sentiment_rating'] = np.where(amazon_reviews.Score > 3, 1, 0)\n",
        "amazon_reviews['Sentiment_rating'].value_counts()"
      ],
      "metadata": {
        "colab": {
          "base_uri": "https://localhost:8080/"
        },
        "id": "XE3s2uHi9W0t",
        "outputId": "374ce431-7b43-47ad-ce0e-aa252ab4a443"
      },
      "execution_count": null,
      "outputs": [
        {
          "output_type": "execute_result",
          "data": {
            "text/plain": [
              "1    443777\n",
              "0    124677\n",
              "Name: Sentiment_rating, dtype: int64"
            ]
          },
          "metadata": {},
          "execution_count": 13
        }
      ]
    },
    {
      "cell_type": "code",
      "source": [
        "# removiendo neutrales\n",
        "amazon_reviews = amazon_reviews[amazon_reviews.Score != 3]"
      ],
      "metadata": {
        "id": "Ne9ciavE9Gp-"
      },
      "execution_count": null,
      "outputs": []
    },
    {
      "cell_type": "code",
      "source": [
        "#rcParams['figure.figsize'] = 8, 5\n",
        "amazon_reviews.Sentiment_rating.value_counts().plot.bar()\n",
        "plt.title('Scores luego de estandarizacion')\n",
        "plt.xlabel('Score')\n",
        "plt.ylabel('Frecuencia')"
      ],
      "metadata": {
        "colab": {
          "base_uri": "https://localhost:8080/",
          "height": 309
        },
        "id": "7EFLK3p69ajb",
        "outputId": "4756d0bc-3398-4ab0-a469-fa5ed8a0a356"
      },
      "execution_count": null,
      "outputs": [
        {
          "output_type": "execute_result",
          "data": {
            "text/plain": [
              "Text(0, 0.5, 'Frecuencia')"
            ]
          },
          "metadata": {},
          "execution_count": 16
        },
        {
          "output_type": "display_data",
          "data": {
            "text/plain": [
              "<Figure size 432x288 with 1 Axes>"
            ],
            "image/png": "[encoded data removed]"
          },
          "metadata": {
            "needs_background": "light"
          }
        }
      ]
    },
    {
      "cell_type": "markdown",
      "source": [
        "## voy por aqui!!!"
      ],
      "metadata": {
        "id": "1WI1bJFu3St2"
      }
    },
    {
      "cell_type": "markdown",
      "source": [
        "# Preprocesamiento"
      ],
      "metadata": {
        "id": "yQHkuA0Y9e2q"
      }
    },
    {
      "cell_type": "markdown",
      "source": [
        "Recordemos que el preprocesamiento de texto y la normalizacion es crucial antes de desarrollar un modelo de NLP, algunos pasos importantes son:\n",
        "1. Convertir palabras a minusculas\n",
        "2. remover caracteres especiales\n",
        "3. remover stopwords y palabras de alta frecuencia\n",
        "4. Stemming y lemantizacion\n",
        "\n",
        "Procedamos con la primera fase"
      ],
      "metadata": {
        "id": "DqxWLz1PAfer"
      }
    },
    {
      "cell_type": "code",
      "source": [
        "amazon_reviews['reviews_text_new'] = amazon_reviews.Text.apply(lambda x: x.lower())"
      ],
      "metadata": {
        "id": "nqPMAWzaAzWk"
      },
      "execution_count": null,
      "outputs": []
    },
    {
      "cell_type": "markdown",
      "source": [
        "Las siguientes fases:"
      ],
      "metadata": {
        "id": "417Vf1C4A1oI"
      }
    },
    {
      "cell_type": "code",
      "source": [
        "from nltk import word_tokenize\n",
        "import nltk\n",
        "\n",
        "nltk.download('punkt')\n",
        "\n",
        "token_lists = [word_tokenize(each) for each in amazon_reviews.Text]\n",
        "tokens = [item for sublist in token_lists for item in sublist]\n",
        "print(\"Numero de tokens unicos antes: \", len(set(tokens)))\n",
        "\n",
        "token_lists_lower = [word_tokenize(each) for each in amazon_reviews.reviews_text_new]\n",
        "tokens_lower = [item for sublist in token_lists_lower for item in sublist]\n",
        "print(\"Numero de tokens unicos nuevos: \", len(set(tokens_lower)))"
      ],
      "metadata": {
        "colab": {
          "base_uri": "https://localhost:8080/"
        },
        "id": "zC_-ZELYA3Iz",
        "outputId": "a462dd5e-1d0e-4e8c-e9f5-f2ef5843ec86"
      },
      "execution_count": null,
      "outputs": [
        {
          "output_type": "stream",
          "name": "stdout",
          "text": [
            "[nltk_data] Downloading package punkt to /root/nltk_data...\n",
            "[nltk_data]   Unzipping tokenizers/punkt.zip.\n",
            "Numero de tokens unicos antes:  27899\n",
            "Numero de tokens unicos nuevos:  22865\n"
          ]
        }
      ]
    },
    {
      "cell_type": "code",
      "source": [
        "(22865-27899)/27899"
      ],
      "metadata": {
        "colab": {
          "base_uri": "https://localhost:8080/"
        },
        "id": "2Ixj5AbQBFaN",
        "outputId": "d001f26a-bb9d-4ed9-ee98-5d0435746927"
      },
      "execution_count": null,
      "outputs": [
        {
          "output_type": "execute_result",
          "data": {
            "text/plain": [
              "-0.18043657478762679"
            ]
          },
          "metadata": {},
          "execution_count": 18
        }
      ]
    },
    {
      "cell_type": "markdown",
      "source": [
        "El numero de tokens han bajado en cerca del 18% con la normalizacion"
      ],
      "metadata": {
        "id": "EQBzVKWlA_-0"
      }
    },
    {
      "cell_type": "markdown",
      "source": [
        "¿Es la eliminación de caracteres especiales incluso una buena idea? ¿Cuáles son algunos ejemplos de caracteres que probablemente sería seguro eliminar y cuáles no?"
      ],
      "metadata": {
        "id": "uIH8nmc8BMav"
      }
    },
    {
      "cell_type": "markdown",
      "source": [
        "Eliminar caracteres especiales es una decisión subjetiva, especialmente en casos como este. Las personas a menudo usan caracteres especiales para expresar sus emociones y pueden dejar una reseña como \"¡¡¡Este producto es el peor!!!\", mientras que una reseña positiva podría ser \"Este producto es el mejor\". ¡Me encantó!' Aquí, la presencia de signos de exclamación indica claramente algo sobre el sentimiento subyacente, por lo que eliminarlos puede no ser una buena idea.\n",
        "\n",
        "Por otro lado, eliminar la puntuación sin carga emocional, como las comas, los puntos y el punto y coma, probablemente sea seguro.\n",
        "\n",
        "En aras de la simplicidad, procederemos eliminando todos los caracteres especiales; sin embargo, vale la pena tener en cuenta que esto es algo para revisar dependiendo de los resultados que obtengamos más adelante. Lo siguiente da una lista de todos los caracteres especiales en nuestro conjunto de datos:"
      ],
      "metadata": {
        "id": "8SnPc7g6BV9N"
      }
    },
    {
      "cell_type": "code",
      "source": [
        "# Seleccionando los caracteres no alfa numericos que no son espacios\n",
        "special_chars = amazon_reviews.reviews_text_new.apply(lambda x: [each for each in list(x) if not each.isalnum() and each != ' '])\n",
        "\n",
        "# obtener una lista de listas\n",
        "flat_list = [item for sublist in special_chars for item in sublist]\n",
        "\n",
        "# caracteres especiales unicos \n",
        "print(set(flat_list))"
      ],
      "metadata": {
        "colab": {
          "base_uri": "https://localhost:8080/"
        },
        "id": "33IALa4i9gB8",
        "outputId": "eddb3dd7-38e8-4a07-be73-205eb699d350"
      },
      "execution_count": null,
      "outputs": [
        {
          "output_type": "stream",
          "name": "stdout",
          "text": [
            "{')', '`', '§', '^', '~', \"'\", '[', ';', '.', '\"', '<', '{', '(', '#', '}', '®', '&', '@', '-', ':', '>', '=', '_', '!', '%', ',', '?', ']', '+', '$', '*', '/'}\n"
          ]
        }
      ]
    },
    {
      "cell_type": "markdown",
      "source": [
        "Ahora removamos los caracteres especiales de los reviews"
      ],
      "metadata": {
        "id": "kJeTZCmfBrX8"
      }
    },
    {
      "cell_type": "code",
      "source": [
        "import re\n",
        "review_backup = amazon_reviews.reviews_text_new.copy()\n",
        "amazon_reviews.reviews_text_new = amazon_reviews.reviews_text_new.apply(\n",
        "    lambda x: re.sub('[^A-Za-z0-9 ]+', ' ', x)\n",
        ")"
      ],
      "metadata": {
        "id": "tI1Zh8MiBuZw"
      },
      "execution_count": null,
      "outputs": []
    },
    {
      "cell_type": "markdown",
      "source": [
        "Miremos como se ven algunos de los resultados luego de remover esto"
      ],
      "metadata": {
        "id": "btC5RULGBxLX"
      }
    },
    {
      "cell_type": "code",
      "source": [
        "print(\"Review anterior:\")\n",
        "review_backup.values[6]"
      ],
      "metadata": {
        "colab": {
          "base_uri": "https://localhost:8080/",
          "height": 105
        },
        "id": "wITFs61CB0cx",
        "outputId": "e35044b9-2529-40b2-d67c-dbd297c43c4a"
      },
      "execution_count": null,
      "outputs": [
        {
          "output_type": "stream",
          "name": "stdout",
          "text": [
            "Review anterior:\n"
          ]
        },
        {
          "output_type": "execute_result",
          "data": {
            "text/plain": [
              "\"this saltwater taffy had great flavors and was very soft and chewy.  each candy was individually wrapped well.  none of the candies were stuck together, which did happen in the expensive version, fralinger's.  would highly recommend this candy!  i served it at a beach-themed party and everyone loved it!\""
            ],
            "application/vnd.google.colaboratory.intrinsic+json": {
              "type": "string"
            }
          },
          "metadata": {},
          "execution_count": 21
        }
      ]
    },
    {
      "cell_type": "code",
      "source": [
        "print(\"Review nuevo:\")\n",
        "amazon_reviews.reviews_text_new[6]"
      ],
      "metadata": {
        "colab": {
          "base_uri": "https://localhost:8080/",
          "height": 105
        },
        "id": "E8K8haC9B29Y",
        "outputId": "4c697f4b-7fe5-4038-a660-f7611313e536"
      },
      "execution_count": null,
      "outputs": [
        {
          "output_type": "stream",
          "name": "stdout",
          "text": [
            "Review nuevo:\n"
          ]
        },
        {
          "output_type": "execute_result",
          "data": {
            "text/plain": [
              "'this saltwater taffy had great flavors and was very soft and chewy   each candy was individually wrapped well   none of the candies were stuck together  which did happen in the expensive version  fralinger s   would highly recommend this candy   i served it at a beach themed party and everyone loved it '"
            ],
            "application/vnd.google.colaboratory.intrinsic+json": {
              "type": "string"
            }
          },
          "metadata": {},
          "execution_count": 22
        }
      ]
    },
    {
      "cell_type": "markdown",
      "source": [
        "El numero de tokens unicos que se han borrado son"
      ],
      "metadata": {
        "id": "viiMJcdXB9fA"
      }
    },
    {
      "cell_type": "code",
      "source": [
        "token_lists = [word_tokenize(each) for each in amazon_reviews.Text]\n",
        "tokens = [item for sublist in token_lists for item in sublist]\n",
        "print(\"Numero de token unicos antes: \", len(set(tokens)))\n",
        "\n",
        "token_lists = [word_tokenize(each) for each in amazon_reviews.reviews_text_new]\n",
        "tokens = [item for sublist in token_lists for item in sublist]\n",
        "print(\"Numero de tokens unicos despues: \", len(set(tokens)))"
      ],
      "metadata": {
        "colab": {
          "base_uri": "https://localhost:8080/"
        },
        "id": "HkwuWkWZB8oz",
        "outputId": "a494a9f9-6de7-404f-c5b8-af28dd218897"
      },
      "execution_count": null,
      "outputs": [
        {
          "output_type": "stream",
          "name": "stdout",
          "text": [
            "Numero de token unicos antes:  27899\n",
            "Numero de tokens unicos despues:  18039\n"
          ]
        }
      ]
    },
    {
      "cell_type": "markdown",
      "source": [
        "## stopwords y palabras de alta/baja frecuencia\n",
        "\n",
        "Vamos a remover estas palabras"
      ],
      "metadata": {
        "id": "-EKO6f24CIbg"
      }
    },
    {
      "cell_type": "code",
      "source": [
        "import nltk\n",
        "nltk.download('stopwords')\n",
        "\n",
        "noise_words = []\n",
        "stopwords_corpus = nltk.corpus.stopwords\n",
        "eng_stop_words = stopwords_corpus.words('english')\n",
        "noise_words.extend(eng_stop_words)\n",
        "print(len(noise_words))\n",
        "noise_words"
      ],
      "metadata": {
        "colab": {
          "base_uri": "https://localhost:8080/"
        },
        "id": "Z6uhTzzVCPB2",
        "outputId": "a4b74b78-0ea3-448e-8360-0df805d17a4c"
      },
      "execution_count": null,
      "outputs": [
        {
          "output_type": "stream",
          "name": "stdout",
          "text": [
            "[nltk_data] Downloading package stopwords to /root/nltk_data...\n",
            "[nltk_data]   Unzipping corpora/stopwords.zip.\n",
            "179\n"
          ]
        },
        {
          "output_type": "execute_result",
          "data": {
            "text/plain": [
              "['i',\n",
              " 'me',\n",
              " 'my',\n",
              " 'myself',\n",
              " 'we',\n",
              " 'our',\n",
              " 'ours',\n",
              " 'ourselves',\n",
              " 'you',\n",
              " \"you're\",\n",
              " \"you've\",\n",
              " \"you'll\",\n",
              " \"you'd\",\n",
              " 'your',\n",
              " 'yours',\n",
              " 'yourself',\n",
              " 'yourselves',\n",
              " 'he',\n",
              " 'him',\n",
              " 'his',\n",
              " 'himself',\n",
              " 'she',\n",
              " \"she's\",\n",
              " 'her',\n",
              " 'hers',\n",
              " 'herself',\n",
              " 'it',\n",
              " \"it's\",\n",
              " 'its',\n",
              " 'itself',\n",
              " 'they',\n",
              " 'them',\n",
              " 'their',\n",
              " 'theirs',\n",
              " 'themselves',\n",
              " 'what',\n",
              " 'which',\n",
              " 'who',\n",
              " 'whom',\n",
              " 'this',\n",
              " 'that',\n",
              " \"that'll\",\n",
              " 'these',\n",
              " 'those',\n",
              " 'am',\n",
              " 'is',\n",
              " 'are',\n",
              " 'was',\n",
              " 'were',\n",
              " 'be',\n",
              " 'been',\n",
              " 'being',\n",
              " 'have',\n",
              " 'has',\n",
              " 'had',\n",
              " 'having',\n",
              " 'do',\n",
              " 'does',\n",
              " 'did',\n",
              " 'doing',\n",
              " 'a',\n",
              " 'an',\n",
              " 'the',\n",
              " 'and',\n",
              " 'but',\n",
              " 'if',\n",
              " 'or',\n",
              " 'because',\n",
              " 'as',\n",
              " 'until',\n",
              " 'while',\n",
              " 'of',\n",
              " 'at',\n",
              " 'by',\n",
              " 'for',\n",
              " 'with',\n",
              " 'about',\n",
              " 'against',\n",
              " 'between',\n",
              " 'into',\n",
              " 'through',\n",
              " 'during',\n",
              " 'before',\n",
              " 'after',\n",
              " 'above',\n",
              " 'below',\n",
              " 'to',\n",
              " 'from',\n",
              " 'up',\n",
              " 'down',\n",
              " 'in',\n",
              " 'out',\n",
              " 'on',\n",
              " 'off',\n",
              " 'over',\n",
              " 'under',\n",
              " 'again',\n",
              " 'further',\n",
              " 'then',\n",
              " 'once',\n",
              " 'here',\n",
              " 'there',\n",
              " 'when',\n",
              " 'where',\n",
              " 'why',\n",
              " 'how',\n",
              " 'all',\n",
              " 'any',\n",
              " 'both',\n",
              " 'each',\n",
              " 'few',\n",
              " 'more',\n",
              " 'most',\n",
              " 'other',\n",
              " 'some',\n",
              " 'such',\n",
              " 'no',\n",
              " 'nor',\n",
              " 'not',\n",
              " 'only',\n",
              " 'own',\n",
              " 'same',\n",
              " 'so',\n",
              " 'than',\n",
              " 'too',\n",
              " 'very',\n",
              " 's',\n",
              " 't',\n",
              " 'can',\n",
              " 'will',\n",
              " 'just',\n",
              " 'don',\n",
              " \"don't\",\n",
              " 'should',\n",
              " \"should've\",\n",
              " 'now',\n",
              " 'd',\n",
              " 'll',\n",
              " 'm',\n",
              " 'o',\n",
              " 're',\n",
              " 've',\n",
              " 'y',\n",
              " 'ain',\n",
              " 'aren',\n",
              " \"aren't\",\n",
              " 'couldn',\n",
              " \"couldn't\",\n",
              " 'didn',\n",
              " \"didn't\",\n",
              " 'doesn',\n",
              " \"doesn't\",\n",
              " 'hadn',\n",
              " \"hadn't\",\n",
              " 'hasn',\n",
              " \"hasn't\",\n",
              " 'haven',\n",
              " \"haven't\",\n",
              " 'isn',\n",
              " \"isn't\",\n",
              " 'ma',\n",
              " 'mightn',\n",
              " \"mightn't\",\n",
              " 'mustn',\n",
              " \"mustn't\",\n",
              " 'needn',\n",
              " \"needn't\",\n",
              " 'shan',\n",
              " \"shan't\",\n",
              " 'shouldn',\n",
              " \"shouldn't\",\n",
              " 'wasn',\n",
              " \"wasn't\",\n",
              " 'weren',\n",
              " \"weren't\",\n",
              " 'won',\n",
              " \"won't\",\n",
              " 'wouldn',\n",
              " \"wouldn't\"]"
            ]
          },
          "metadata": {},
          "execution_count": 24
        }
      ]
    },
    {
      "cell_type": "markdown",
      "source": [
        "Encontremos las palabras de alta y baja frecuencia, que definiremos como el 1 % de las palabras que aparecen con más frecuencia en las reseñas, así como el 1 % de las palabras que aparecen con menos frecuencia en las reseñas (después de ajustar por mayúsculas y minúsculas y caracteres especiales)."
      ],
      "metadata": {
        "id": "oonZd40DCRnt"
      }
    },
    {
      "cell_type": "code",
      "source": [
        "one_percentile = int(len(set(tokens)) * 0.01)\n",
        "top_1_percentile = Counter(tokens).most_common(one_percentile)\n",
        "top_1_percentile[:10]"
      ],
      "metadata": {
        "colab": {
          "base_uri": "https://localhost:8080/"
        },
        "id": "phySUXSpCb7N",
        "outputId": "2525fa21-3767-4d51-d9a2-407d55de420a"
      },
      "execution_count": null,
      "outputs": [
        {
          "output_type": "execute_result",
          "data": {
            "text/plain": [
              "[('the', 28122),\n",
              " ('i', 25705),\n",
              " ('and', 19980),\n",
              " ('a', 18505),\n",
              " ('it', 16143),\n",
              " ('to', 15137),\n",
              " ('of', 12067),\n",
              " ('is', 11063),\n",
              " ('this', 10530),\n",
              " ('br', 9361)]"
            ]
          },
          "metadata": {},
          "execution_count": 25
        }
      ]
    },
    {
      "cell_type": "code",
      "source": [
        "pd.DataFrame(top_1_percentile[:10], columns=['Palabras','Frecuencia']).set_index('Palabras').plot(kind='bar')\n",
        "plt.title('Percentil 1 de palabras mas frecuentes')\n",
        "plt.xlabel('Palabras')\n",
        "plt.ylabel('Frecuencia')"
      ],
      "metadata": {
        "colab": {
          "base_uri": "https://localhost:8080/",
          "height": 376
        },
        "id": "cIogh--ct3CJ",
        "outputId": "091a5833-1592-4e74-8ce8-869c308a64df"
      },
      "execution_count": null,
      "outputs": [
        {
          "output_type": "execute_result",
          "data": {
            "text/plain": [
              "Text(0, 0.5, 'Frecuencia')"
            ]
          },
          "metadata": {},
          "execution_count": 35
        },
        {
          "output_type": "display_data",
          "data": {
            "text/plain": [
              "<Figure size 576x360 with 1 Axes>"
            ],
            "image/png": "[encoded data removed]"
          },
          "metadata": {
            "needs_background": "light"
          }
        }
      ]
    },
    {
      "cell_type": "code",
      "source": [
        "bottom_1_percentile = Counter(tokens).most_common()[-one_percentile:]\n",
        "bottom_1_percentile[:10]"
      ],
      "metadata": {
        "colab": {
          "base_uri": "https://localhost:8080/"
        },
        "id": "lnFGqSCTCdU5",
        "outputId": "f13d499a-643d-4cad-800b-7a5487c00a37"
      },
      "execution_count": null,
      "outputs": [
        {
          "output_type": "execute_result",
          "data": {
            "text/plain": [
              "[('pruchase', 1),\n",
              " ('slick', 1),\n",
              " ('cloured', 1),\n",
              " ('innocuous', 1),\n",
              " ('espensive', 1),\n",
              " ('marketer', 1),\n",
              " ('strofoam', 1),\n",
              " ('destroyers', 1),\n",
              " ('ruth', 1),\n",
              " ('gleaning', 1)]"
            ]
          },
          "metadata": {},
          "execution_count": 36
        }
      ]
    },
    {
      "cell_type": "code",
      "source": [
        "noise_words.extend([word for word,val in top_1_percentile])\n",
        "noise_words.extend([word for word,val in bottom_1_percentile])"
      ],
      "metadata": {
        "id": "g-A1HtiWCfH2"
      },
      "execution_count": null,
      "outputs": []
    },
    {
      "cell_type": "markdown",
      "source": [
        "Las stopwords y las palabras de alta/baja frecuencia ahora se han agregado a noise_words, que se eliminarán de las revisiones antes de entrenar los modelos de aprendizaje automático. \n",
        "\n",
        "Es poco probable que las stopwords sean tan útiles, ya que esperamos que aparezcan con la misma frecuencia en las críticas positivas y negativas. Las palabras poco comunes pueden ser más significativas y, en teoría, podrían indicar el sentimiento de la revisión"
      ],
      "metadata": {
        "id": "n51bDGhkCiQF"
      }
    },
    {
      "cell_type": "markdown",
      "source": [
        "# Stemming y Lemantizacion\n",
        "\n",
        "Si quieren profundizar en los conceptos de [stemming](http://www.nltk.org/api/nltk.stem.html?highlight=lemmatizer), y[lemmatization](http://www.nltk.org/api/nltk.stem.html?highlight=lemmatizer#module-nltk.stem.wordnet) y otros tipos de normalizaciones pueden encontrar una buena introduccion en: https://nlp.stanford.edu/IR-book/html/htmledition/stemming-and-lemmatization-1.html."
      ],
      "metadata": {
        "id": "TFmioUxSCtCO"
      }
    },
    {
      "cell_type": "code",
      "source": [
        "from nltk.stem import PorterStemmer, WordNetLemmatizer, LancasterStemmer\n",
        "\n",
        "nltk.download('wordnet')\n",
        "\n",
        "from nltk.corpus import wordnet\n",
        "\n",
        "porter = PorterStemmer()\n",
        "lancaster = LancasterStemmer()\n",
        "lemmatizer = WordNetLemmatizer()"
      ],
      "metadata": {
        "colab": {
          "base_uri": "https://localhost:8080/"
        },
        "id": "uWkdbiEtC8Qc",
        "outputId": "7d673d45-6f69-4e6c-b741-b6e1e33d734e"
      },
      "execution_count": null,
      "outputs": [
        {
          "output_type": "stream",
          "name": "stdout",
          "text": [
            "[nltk_data] Downloading package wordnet to /root/nltk_data...\n",
            "[nltk_data]   Unzipping corpora/wordnet.zip.\n"
          ]
        }
      ]
    },
    {
      "cell_type": "markdown",
      "source": [
        "Los algoritmos de **Stemming** funcionan cortando el final o el principio de la palabra, teniendo en cuenta una lista de prefijos y sufijos comunes que se pueden encontrar.\n",
        "\n",
        "Por otro lado, la **lematización** toma en consideración el análisis morfológico de las palabras. Por lo tanto, la **lematización** tiene en cuenta la gramática de la palabra e intenta encontrar la palabra raíz en lugar de simplemente llegar a la palabra raíz mediante métodos de fuerza bruta."
      ],
      "metadata": {
        "id": "OWrUPKFfC9sa"
      }
    },
    {
      "cell_type": "code",
      "source": [
        "print(\"Lancaster Stemmer\")\n",
        "print(lancaster.stem(\"trouble\"))\n",
        "print(lancaster.stem(\"troubling\"))\n",
        "print(lancaster.stem(\"troubled\"))\n",
        "\n",
        "# Proveer una palabra que sera lemantizada\n",
        "print(\"WordNet Lemmatizer\")\n",
        "print(lemmatizer.lemmatize(\"trouble\", wordnet.NOUN))\n",
        "print(lemmatizer.lemmatize(\"troubling\", wordnet.VERB))\n",
        "print(lemmatizer.lemmatize(\"troubled\", wordnet.VERB))"
      ],
      "metadata": {
        "colab": {
          "base_uri": "https://localhost:8080/"
        },
        "id": "CzTULvebDJgV",
        "outputId": "e091a299-d51c-4af8-c5c4-5142c9ead3fd"
      },
      "execution_count": null,
      "outputs": [
        {
          "output_type": "stream",
          "name": "stdout",
          "text": [
            "Lancaster Stemmer\n",
            "troubl\n",
            "troubl\n",
            "troubl\n",
            "WordNet Lemmatizer\n",
            "trouble\n",
            "trouble\n",
            "trouble\n"
          ]
        }
      ]
    },
    {
      "cell_type": "markdown",
      "source": [
        "Se puede ver que obtenemos una raíz de significado de Lemmatizer, mientras que Stemmer simplemente recorta y extrae la primera parte importante de la palabra."
      ],
      "metadata": {
        "id": "MfnEC2oUDQc5"
      }
    },
    {
      "cell_type": "markdown",
      "source": [
        "# Creacion de modelo de ML"
      ],
      "metadata": {
        "id": "EKYImfc-DSu4"
      }
    },
    {
      "cell_type": "code",
      "source": [
        "amazon_reviews[['Text','Score','Sentiment_rating']].head(5)"
      ],
      "metadata": {
        "colab": {
          "base_uri": "https://localhost:8080/",
          "height": 206
        },
        "id": "fdRlAQcWDWEf",
        "outputId": "a61604b0-1910-45c1-8e1b-1327aaaea8ce"
      },
      "execution_count": null,
      "outputs": [
        {
          "output_type": "execute_result",
          "data": {
            "text/plain": [
              "                                                Text  Score  Sentiment_rating\n",
              "0  I have bought several of the Vitality canned d...      5                 1\n",
              "1  Product arrived labeled as Jumbo Salted Peanut...      1                 0\n",
              "2  This is a confection that has been around a fe...      4                 1\n",
              "3  If you are looking for the secret ingredient i...      2                 0\n",
              "4  Great taffy at a great price.  There was a wid...      5                 1"
            ],
            "text/html": [
              "\n",
              "  <div id=\"df-fc3ceceb-b7bc-4630-80c9-5e17db194fd5\">\n",
              "    <div class=\"colab-df-container\">\n",
              "      <div>\n",
              "<style scoped>\n",
              "    .dataframe tbody tr th:only-of-type {\n",
              "        vertical-align: middle;\n",
              "    }\n",
              "\n",
              "    .dataframe tbody tr th {\n",
              "        vertical-align: top;\n",
              "    }\n",
              "\n",
              "    .dataframe thead th {\n",
              "        text-align: right;\n",
              "    }\n",
              "</style>\n",
              "<table border=\"1\" class=\"dataframe\">\n",
              "  <thead>\n",
              "    <tr style=\"text-align: right;\">\n",
              "      <th></th>\n",
              "      <th>Text</th>\n",
              "      <th>Score</th>\n",
              "      <th>Sentiment_rating</th>\n",
              "    </tr>\n",
              "  </thead>\n",
              "  <tbody>\n",
              "    <tr>\n",
              "      <th>0</th>\n",
              "      <td>I have bought several of the Vitality canned d...</td>\n",
              "      <td>5</td>\n",
              "      <td>1</td>\n",
              "    </tr>\n",
              "    <tr>\n",
              "      <th>1</th>\n",
              "      <td>Product arrived labeled as Jumbo Salted Peanut...</td>\n",
              "      <td>1</td>\n",
              "      <td>0</td>\n",
              "    </tr>\n",
              "    <tr>\n",
              "      <th>2</th>\n",
              "      <td>This is a confection that has been around a fe...</td>\n",
              "      <td>4</td>\n",
              "      <td>1</td>\n",
              "    </tr>\n",
              "    <tr>\n",
              "      <th>3</th>\n",
              "      <td>If you are looking for the secret ingredient i...</td>\n",
              "      <td>2</td>\n",
              "      <td>0</td>\n",
              "    </tr>\n",
              "    <tr>\n",
              "      <th>4</th>\n",
              "      <td>Great taffy at a great price.  There was a wid...</td>\n",
              "      <td>5</td>\n",
              "      <td>1</td>\n",
              "    </tr>\n",
              "  </tbody>\n",
              "</table>\n",
              "</div>\n",
              "      <button class=\"colab-df-convert\" onclick=\"convertToInteractive('df-fc3ceceb-b7bc-4630-80c9-5e17db194fd5')\"\n",
              "              title=\"Convert this dataframe to an interactive table.\"\n",
              "              style=\"display:none;\">\n",
              "        \n",
              "  <svg xmlns=\"http://www.w3.org/2000/svg\" height=\"24px\"viewBox=\"0 0 24 24\"\n",
              "       width=\"24px\">\n",
              "    <path d=\"M0 0h24v24H0V0z\" fill=\"none\"/>\n",
              "    <path d=\"M18.56 5.44l.94 2.06.94-2.06 2.06-.94-2.06-.94-.94-2.06-.94 2.06-2.06.94zm-11 1L8.5 8.5l.94-2.06 2.06-.94-2.06-.94L8.5 2.5l-.94 2.06-2.06.94zm10 10l.94 2.06.94-2.06 2.06-.94-2.06-.94-.94-2.06-.94 2.06-2.06.94z\"/><path d=\"M17.41 7.96l-1.37-1.37c-.4-.4-.92-.59-1.43-.59-.52 0-1.04.2-1.43.59L10.3 9.45l-7.72 7.72c-.78.78-.78 2.05 0 2.83L4 21.41c.39.39.9.59 1.41.59.51 0 1.02-.2 1.41-.59l7.78-7.78 2.81-2.81c.8-.78.8-2.07 0-2.86zM5.41 20L4 18.59l7.72-7.72 1.47 1.35L5.41 20z\"/>\n",
              "  </svg>\n",
              "      </button>\n",
              "      \n",
              "  <style>\n",
              "    .colab-df-container {\n",
              "      display:flex;\n",
              "      flex-wrap:wrap;\n",
              "      gap: 12px;\n",
              "    }\n",
              "\n",
              "    .colab-df-convert {\n",
              "      background-color: #E8F0FE;\n",
              "      border: none;\n",
              "      border-radius: 50%;\n",
              "      cursor: pointer;\n",
              "      display: none;\n",
              "      fill: #1967D2;\n",
              "      height: 32px;\n",
              "      padding: 0 0 0 0;\n",
              "      width: 32px;\n",
              "    }\n",
              "\n",
              "    .colab-df-convert:hover {\n",
              "      background-color: #E2EBFA;\n",
              "      box-shadow: 0px 1px 2px rgba(60, 64, 67, 0.3), 0px 1px 3px 1px rgba(60, 64, 67, 0.15);\n",
              "      fill: #174EA6;\n",
              "    }\n",
              "\n",
              "    [theme=dark] .colab-df-convert {\n",
              "      background-color: #3B4455;\n",
              "      fill: #D2E3FC;\n",
              "    }\n",
              "\n",
              "    [theme=dark] .colab-df-convert:hover {\n",
              "      background-color: #434B5C;\n",
              "      box-shadow: 0px 1px 3px 1px rgba(0, 0, 0, 0.15);\n",
              "      filter: drop-shadow(0px 1px 2px rgba(0, 0, 0, 0.3));\n",
              "      fill: #FFFFFF;\n",
              "    }\n",
              "  </style>\n",
              "\n",
              "      <script>\n",
              "        const buttonEl =\n",
              "          document.querySelector('#df-fc3ceceb-b7bc-4630-80c9-5e17db194fd5 button.colab-df-convert');\n",
              "        buttonEl.style.display =\n",
              "          google.colab.kernel.accessAllowed ? 'block' : 'none';\n",
              "\n",
              "        async function convertToInteractive(key) {\n",
              "          const element = document.querySelector('#df-fc3ceceb-b7bc-4630-80c9-5e17db194fd5');\n",
              "          const dataTable =\n",
              "            await google.colab.kernel.invokeFunction('convertToInteractive',\n",
              "                                                     [key], {});\n",
              "          if (!dataTable) return;\n",
              "\n",
              "          const docLinkHtml = 'Like what you see? Visit the ' +\n",
              "            '<a target=\"_blank\" href=https://colab.research.google.com/notebooks/data_table.ipynb>data table notebook</a>'\n",
              "            + ' to learn more about interactive tables.';\n",
              "          element.innerHTML = '';\n",
              "          dataTable['output_type'] = 'display_data';\n",
              "          await google.colab.output.renderOutput(dataTable, element);\n",
              "          const docLink = document.createElement('div');\n",
              "          docLink.innerHTML = docLinkHtml;\n",
              "          element.appendChild(docLink);\n",
              "        }\n",
              "      </script>\n",
              "    </div>\n",
              "  </div>\n",
              "  "
            ]
          },
          "metadata": {},
          "execution_count": 29
        }
      ]
    },
    {
      "cell_type": "markdown",
      "source": [
        "Las variables independientes o características del modelo se derivan del texto de revisión. Previamente, discutimos cómo podemos usar **n-grams** para crear características, y específicamente cómo la bolsa de palabras es la interpretación más simple de estos n-gramas, sin tener en cuenta el orden y el contexto por completo y solo enfocándonos en la frecuencia/recuento. Usemos eso como punto de partida."
      ],
      "metadata": {
        "id": "I-0HWHdbDYwZ"
      }
    },
    {
      "cell_type": "markdown",
      "source": [
        "# Bag of words\n",
        "\n",
        "CountVectorizer es una clase de Python que da cuenta automáticamente de ciertos pasos de preprocesamiento, como la eliminación de palabras vacías, la derivación, la creación de n-gramas y la tokenización de palabras:"
      ],
      "metadata": {
        "id": "qENuMxTvDen5"
      }
    },
    {
      "cell_type": "code",
      "source": [
        "# Creacion de metodo para stemming\n",
        "from nltk.stem import PorterStemmer\n",
        "\n",
        "stemmer = PorterStemmer()\n",
        "analyzer = CountVectorizer().build_analyzer()\n",
        "\n",
        "def stemmed_words(doc):\n",
        "    return (stemmer.stem(w) for w in analyzer(doc))"
      ],
      "metadata": {
        "id": "esyrY_TqDdst"
      },
      "execution_count": null,
      "outputs": []
    },
    {
      "cell_type": "markdown",
      "source": [
        "Usemos esto para crear una bolsa de palabras de las reseñas, excluyendo las palabras irrelevantes que identificamos anteriormente:"
      ],
      "metadata": {
        "id": "8OHClEiJDr9_"
      }
    },
    {
      "cell_type": "code",
      "source": [
        "# Creacion de un objeto tipo CountVectorizer\n",
        "bow_counts = CountVectorizer(\n",
        "    tokenizer=word_tokenize,\n",
        "    stop_words=noise_words,\n",
        "    ngram_range=(1, 1)\n",
        ")"
      ],
      "metadata": {
        "id": "7wV6wAd8DupW"
      },
      "execution_count": null,
      "outputs": []
    },
    {
      "cell_type": "markdown",
      "source": [
        "Una vez que se prepara la bolsa de palabras, el conjunto de datos debe dividirse en conjuntos de entrenamiento y de prueba. También podríamos dividir los datos después de vectorizarlos, pero es útil dividir los datos lo antes posible en el proceso. Esto significa que una vez que hemos generado nuestras predicciones, podemos compararlas más fácilmente con los textos originales, antes de que hayan sido preprocesadas y vectorizadas."
      ],
      "metadata": {
        "id": "0I--fC0SDz3o"
      }
    },
    {
      "cell_type": "code",
      "source": [
        "reviews_train, reviews_test = train_test_split(amazon_reviews, test_size=0.2, random_state=0)"
      ],
      "metadata": {
        "id": "3-D0n379D5_G"
      },
      "execution_count": null,
      "outputs": []
    },
    {
      "cell_type": "code",
      "source": [
        "X_train_bow = bow_counts.fit_transform(reviews_train.reviews_text_new)\n",
        "X_test_bow = bow_counts.transform(reviews_test.reviews_text_new)"
      ],
      "metadata": {
        "colab": {
          "base_uri": "https://localhost:8080/"
        },
        "id": "3EkmtCUeD7Tu",
        "outputId": "6cc420e5-bf80-4b42-d98a-e6af702a4ad5"
      },
      "execution_count": null,
      "outputs": [
        {
          "output_type": "stream",
          "name": "stderr",
          "text": [
            "/usr/local/lib/python3.7/dist-packages/sklearn/feature_extraction/text.py:401: UserWarning: Your stop_words may be inconsistent with your preprocessing. Tokenizing the stop words generated tokens [\"'d\", \"'ll\", \"'re\", \"'s\", \"'ve\", 'might', 'must', \"n't\", 'need', 'sha', 'wo'] not in stop_words.\n",
            "  % sorted(inconsistent)\n"
          ]
        }
      ]
    },
    {
      "cell_type": "markdown",
      "source": [
        "Tengan en cuenta que llamamos a ```fit_transform``` para vectorizar nuestro conjunto de entrenamiento y ```transform``` para vectorizar nuestro conjunto de prueba. Esto genera las asignaciones de vectorización solo en los datos del conjunto de entrenamiento, que es una restricción a la que nos enfrentaríamos en un problema del mundo real (no tener acceso a los datos de prueba durante el tiempo de entrenamiento).\n",
        "\n",
        "Por lo tanto, puede haber algunas palabras en el conjunto de prueba que no sabemos cómo vectorizar y se omitirán."
      ],
      "metadata": {
        "id": "8q-tk94fD_Vu"
      }
    },
    {
      "cell_type": "code",
      "source": [
        "y_train_bow = reviews_train['Sentiment_rating']\n",
        "y_test_bow = reviews_test['Sentiment_rating']"
      ],
      "metadata": {
        "id": "mu-ClINID76n"
      },
      "execution_count": null,
      "outputs": []
    },
    {
      "cell_type": "code",
      "source": [
        "y_test_bow.value_counts() / y_test_bow.shape[0]"
      ],
      "metadata": {
        "colab": {
          "base_uri": "https://localhost:8080/"
        },
        "id": "KE-P_hwcEJzc",
        "outputId": "88d11217-3aa5-488f-bfce-48456300cca0"
      },
      "execution_count": null,
      "outputs": [
        {
          "output_type": "execute_result",
          "data": {
            "text/plain": [
              "1    0.847921\n",
              "0    0.152079\n",
              "Name: Sentiment_rating, dtype: float64"
            ]
          },
          "metadata": {},
          "execution_count": 35
        }
      ]
    },
    {
      "cell_type": "markdown",
      "source": [
        "Los datos de prueba contienen 84% de opiniones positivas. El modelo de predicción más simple que podríamos pensar sería uno que prediga \"positivo\" para cada entrada. Llamaríamos a esto un modelo \"ingenuo\", y constituye una línea de base útil. En este caso, dicho modelo obtendría un 84 % de precisión, por lo que podemos considerarlo como una puntuación de referencia que nuestro modelo de aprendizaje automático debe superar."
      ],
      "metadata": {
        "id": "i3RSbM62ENeq"
      }
    },
    {
      "cell_type": "markdown",
      "source": [
        "## Modelo de regresion logistica"
      ],
      "metadata": {
        "id": "b5GGWWW3EYyR"
      }
    },
    {
      "cell_type": "code",
      "source": [
        "# Entrenar el modelo\n",
        "lr_model_all = LogisticRegression(C=1, solver=\"liblinear\")\n",
        "lr_model_all.fit(X_train_bow, y_train_bow)\n",
        "\n",
        "# Predecir el output\n",
        "test_pred_lr_prob = lr_model_all.predict_proba(X_test_bow)\n",
        "test_pred_lr_all = lr_model_all.predict(X_test_bow)\n",
        "\n",
        "print(\"F1 score: \", f1_score(y_test_bow, test_pred_lr_all))\n",
        "print(\"Accuracy: \", accuracy_score(y_test_bow, test_pred_lr_all) * 100)"
      ],
      "metadata": {
        "colab": {
          "base_uri": "https://localhost:8080/"
        },
        "id": "_H_xrYMjEcBs",
        "outputId": "148a6c87-bee1-460a-9c15-b4a781a1bdf4"
      },
      "execution_count": null,
      "outputs": [
        {
          "output_type": "stream",
          "name": "stdout",
          "text": [
            "F1 score:  0.942550505050505\n",
            "Accuracy:  90.04376367614879\n"
          ]
        }
      ]
    },
    {
      "cell_type": "code",
      "source": [
        "test_pred_lr_prob"
      ],
      "metadata": {
        "colab": {
          "base_uri": "https://localhost:8080/"
        },
        "id": "B9g9Z2AFEijY",
        "outputId": "00e19690-216e-4b4a-fb8d-7057e46345aa"
      },
      "execution_count": null,
      "outputs": [
        {
          "output_type": "execute_result",
          "data": {
            "text/plain": [
              "array([[7.97531898e-01, 2.02468102e-01],\n",
              "       [2.70697065e-09, 9.99999997e-01],\n",
              "       [5.15753584e-02, 9.48424642e-01],\n",
              "       ...,\n",
              "       [1.23713200e-04, 9.99876287e-01],\n",
              "       [9.96585322e-01, 3.41467779e-03],\n",
              "       [9.18040817e-02, 9.08195918e-01]])"
            ]
          },
          "metadata": {},
          "execution_count": 38
        }
      ]
    },
    {
      "cell_type": "code",
      "source": [
        "probabilities = [each[1] for each in test_pred_lr_prob]"
      ],
      "metadata": {
        "id": "c3pDuetkEmfq"
      },
      "execution_count": null,
      "outputs": []
    },
    {
      "cell_type": "code",
      "source": [
        "predictions = pd.DataFrame()\n",
        "predictions['Text'] = reviews_test['Text']\n",
        "predictions['Actual_Score'] = reviews_test['Score']\n",
        "predictions['Sentiment_rating'] = reviews_test['Sentiment_rating']\n",
        "predictions['Predicted_sentiment'] = test_pred_lr_all\n",
        "predictions['Predicted_probability'] = probabilities"
      ],
      "metadata": {
        "id": "yhK1q_skEoqv"
      },
      "execution_count": null,
      "outputs": []
    },
    {
      "cell_type": "code",
      "source": [
        "predictions.head(5)"
      ],
      "metadata": {
        "colab": {
          "base_uri": "https://localhost:8080/",
          "height": 424
        },
        "id": "tk36qT2QEruF",
        "outputId": "327719ad-3e1f-48f7-f1a5-f47f3e37a27e"
      },
      "execution_count": null,
      "outputs": [
        {
          "output_type": "execute_result",
          "data": {
            "text/plain": [
              "                                                   Text  Actual_Score  \\\n",
              "7419  These truffles are not as great as they are ma...             2   \n",
              "4315  Ok--I just bought BIsquick GF and the first th...             4   \n",
              "1781  I love these chips so much... and I can't get ...             5   \n",
              "962   I purchased this because I read that it was a ...             2   \n",
              "7289  I do like the idea of these crackers for glute...             2   \n",
              "\n",
              "      Sentiment_rating  Predicted_sentiment  Predicted_probability  \n",
              "7419                 0                    0               0.202468  \n",
              "4315                 1                    1               1.000000  \n",
              "1781                 1                    1               0.948425  \n",
              "962                  0                    0               0.363864  \n",
              "7289                 0                    1               0.954062  "
            ],
            "text/html": [
              "\n",
              "  <div id=\"df-44e682fa-7121-409c-a50f-156bf8df5a36\">\n",
              "    <div class=\"colab-df-container\">\n",
              "      <div>\n",
              "<style scoped>\n",
              "    .dataframe tbody tr th:only-of-type {\n",
              "        vertical-align: middle;\n",
              "    }\n",
              "\n",
              "    .dataframe tbody tr th {\n",
              "        vertical-align: top;\n",
              "    }\n",
              "\n",
              "    .dataframe thead th {\n",
              "        text-align: right;\n",
              "    }\n",
              "</style>\n",
              "<table border=\"1\" class=\"dataframe\">\n",
              "  <thead>\n",
              "    <tr style=\"text-align: right;\">\n",
              "      <th></th>\n",
              "      <th>Text</th>\n",
              "      <th>Actual_Score</th>\n",
              "      <th>Sentiment_rating</th>\n",
              "      <th>Predicted_sentiment</th>\n",
              "      <th>Predicted_probability</th>\n",
              "    </tr>\n",
              "  </thead>\n",
              "  <tbody>\n",
              "    <tr>\n",
              "      <th>7419</th>\n",
              "      <td>These truffles are not as great as they are ma...</td>\n",
              "      <td>2</td>\n",
              "      <td>0</td>\n",
              "      <td>0</td>\n",
              "      <td>0.202468</td>\n",
              "    </tr>\n",
              "    <tr>\n",
              "      <th>4315</th>\n",
              "      <td>Ok--I just bought BIsquick GF and the first th...</td>\n",
              "      <td>4</td>\n",
              "      <td>1</td>\n",
              "      <td>1</td>\n",
              "      <td>1.000000</td>\n",
              "    </tr>\n",
              "    <tr>\n",
              "      <th>1781</th>\n",
              "      <td>I love these chips so much... and I can't get ...</td>\n",
              "      <td>5</td>\n",
              "      <td>1</td>\n",
              "      <td>1</td>\n",
              "      <td>0.948425</td>\n",
              "    </tr>\n",
              "    <tr>\n",
              "      <th>962</th>\n",
              "      <td>I purchased this because I read that it was a ...</td>\n",
              "      <td>2</td>\n",
              "      <td>0</td>\n",
              "      <td>0</td>\n",
              "      <td>0.363864</td>\n",
              "    </tr>\n",
              "    <tr>\n",
              "      <th>7289</th>\n",
              "      <td>I do like the idea of these crackers for glute...</td>\n",
              "      <td>2</td>\n",
              "      <td>0</td>\n",
              "      <td>1</td>\n",
              "      <td>0.954062</td>\n",
              "    </tr>\n",
              "  </tbody>\n",
              "</table>\n",
              "</div>\n",
              "      <button class=\"colab-df-convert\" onclick=\"convertToInteractive('df-44e682fa-7121-409c-a50f-156bf8df5a36')\"\n",
              "              title=\"Convert this dataframe to an interactive table.\"\n",
              "              style=\"display:none;\">\n",
              "        \n",
              "  <svg xmlns=\"http://www.w3.org/2000/svg\" height=\"24px\"viewBox=\"0 0 24 24\"\n",
              "       width=\"24px\">\n",
              "    <path d=\"M0 0h24v24H0V0z\" fill=\"none\"/>\n",
              "    <path d=\"M18.56 5.44l.94 2.06.94-2.06 2.06-.94-2.06-.94-.94-2.06-.94 2.06-2.06.94zm-11 1L8.5 8.5l.94-2.06 2.06-.94-2.06-.94L8.5 2.5l-.94 2.06-2.06.94zm10 10l.94 2.06.94-2.06 2.06-.94-2.06-.94-.94-2.06-.94 2.06-2.06.94z\"/><path d=\"M17.41 7.96l-1.37-1.37c-.4-.4-.92-.59-1.43-.59-.52 0-1.04.2-1.43.59L10.3 9.45l-7.72 7.72c-.78.78-.78 2.05 0 2.83L4 21.41c.39.39.9.59 1.41.59.51 0 1.02-.2 1.41-.59l7.78-7.78 2.81-2.81c.8-.78.8-2.07 0-2.86zM5.41 20L4 18.59l7.72-7.72 1.47 1.35L5.41 20z\"/>\n",
              "  </svg>\n",
              "      </button>\n",
              "      \n",
              "  <style>\n",
              "    .colab-df-container {\n",
              "      display:flex;\n",
              "      flex-wrap:wrap;\n",
              "      gap: 12px;\n",
              "    }\n",
              "\n",
              "    .colab-df-convert {\n",
              "      background-color: #E8F0FE;\n",
              "      border: none;\n",
              "      border-radius: 50%;\n",
              "      cursor: pointer;\n",
              "      display: none;\n",
              "      fill: #1967D2;\n",
              "      height: 32px;\n",
              "      padding: 0 0 0 0;\n",
              "      width: 32px;\n",
              "    }\n",
              "\n",
              "    .colab-df-convert:hover {\n",
              "      background-color: #E2EBFA;\n",
              "      box-shadow: 0px 1px 2px rgba(60, 64, 67, 0.3), 0px 1px 3px 1px rgba(60, 64, 67, 0.15);\n",
              "      fill: #174EA6;\n",
              "    }\n",
              "\n",
              "    [theme=dark] .colab-df-convert {\n",
              "      background-color: #3B4455;\n",
              "      fill: #D2E3FC;\n",
              "    }\n",
              "\n",
              "    [theme=dark] .colab-df-convert:hover {\n",
              "      background-color: #434B5C;\n",
              "      box-shadow: 0px 1px 3px 1px rgba(0, 0, 0, 0.15);\n",
              "      filter: drop-shadow(0px 1px 2px rgba(0, 0, 0, 0.3));\n",
              "      fill: #FFFFFF;\n",
              "    }\n",
              "  </style>\n",
              "\n",
              "      <script>\n",
              "        const buttonEl =\n",
              "          document.querySelector('#df-44e682fa-7121-409c-a50f-156bf8df5a36 button.colab-df-convert');\n",
              "        buttonEl.style.display =\n",
              "          google.colab.kernel.accessAllowed ? 'block' : 'none';\n",
              "\n",
              "        async function convertToInteractive(key) {\n",
              "          const element = document.querySelector('#df-44e682fa-7121-409c-a50f-156bf8df5a36');\n",
              "          const dataTable =\n",
              "            await google.colab.kernel.invokeFunction('convertToInteractive',\n",
              "                                                     [key], {});\n",
              "          if (!dataTable) return;\n",
              "\n",
              "          const docLinkHtml = 'Like what you see? Visit the ' +\n",
              "            '<a target=\"_blank\" href=https://colab.research.google.com/notebooks/data_table.ipynb>data table notebook</a>'\n",
              "            + ' to learn more about interactive tables.';\n",
              "          element.innerHTML = '';\n",
              "          dataTable['output_type'] = 'display_data';\n",
              "          await google.colab.output.renderOutput(dataTable, element);\n",
              "          const docLink = document.createElement('div');\n",
              "          docLink.innerHTML = docLinkHtml;\n",
              "          element.appendChild(docLink);\n",
              "        }\n",
              "      </script>\n",
              "    </div>\n",
              "  </div>\n",
              "  "
            ]
          },
          "metadata": {},
          "execution_count": 41
        }
      ]
    },
    {
      "cell_type": "code",
      "source": [
        "accuracy_score(predictions['Sentiment_rating'], predictions['Predicted_sentiment'])"
      ],
      "metadata": {
        "colab": {
          "base_uri": "https://localhost:8080/"
        },
        "id": "yOp3mDlXEuJA",
        "outputId": "628f8ea3-bc69-403e-9b1c-f3ca2bc99a74"
      },
      "execution_count": null,
      "outputs": [
        {
          "output_type": "execute_result",
          "data": {
            "text/plain": [
              "0.9004376367614879"
            ]
          },
          "metadata": {},
          "execution_count": 42
        }
      ]
    },
    {
      "cell_type": "markdown",
      "source": [
        "En la columna ```Predicted_probability```, puede ver la confianza que tenía el modelo en sus predicciones, siendo las probabilidades muy cercanas a 0 predicciones de sentimientos negativos muy confiables y las probabilidades muy cercanas a 1, predicciones de sentimientos positivos muy confiables.\n",
        "\n",
        "Utilice esta información para encontrar el caso en el que el modelo tenía más confianza al predecir que una reseña tenía un sentimiento negativo cuando la puntuación real era positiva.\n",
        "\n",
        "Mire el texto y escriba algunas oraciones de análisis sobre por qué cree que el modelo se equivocó"
      ],
      "metadata": {
        "id": "OBKZYoZtF4qw"
      }
    },
    {
      "cell_type": "code",
      "source": [
        "predictions[\n",
        "    predictions['Predicted_sentiment'] != predictions['Sentiment_rating']\n",
        "].sort_values(by=[\"Predicted_probability\"]).head(3)"
      ],
      "metadata": {
        "colab": {
          "base_uri": "https://localhost:8080/",
          "height": 292
        },
        "id": "VN0O6ei8GuOS",
        "outputId": "634e4f98-9049-4b75-b963-ead16bd8e03b"
      },
      "execution_count": null,
      "outputs": [
        {
          "output_type": "execute_result",
          "data": {
            "text/plain": [
              "                                                   Text  Actual_Score  \\\n",
              "7692  My little girl (6 months) can't stomach any fo...             5   \n",
              "4166  The first time I tried this product to make pa...             4   \n",
              "6612  When I opened the package, I only found 11 pac...             4   \n",
              "\n",
              "      Sentiment_rating  Predicted_sentiment  Predicted_probability  \n",
              "7692                 1                    0               0.000719  \n",
              "4166                 1                    0               0.002114  \n",
              "6612                 1                    0               0.006040  "
            ],
            "text/html": [
              "\n",
              "  <div id=\"df-b15b069e-cd77-466e-ae7a-637583430f2d\">\n",
              "    <div class=\"colab-df-container\">\n",
              "      <div>\n",
              "<style scoped>\n",
              "    .dataframe tbody tr th:only-of-type {\n",
              "        vertical-align: middle;\n",
              "    }\n",
              "\n",
              "    .dataframe tbody tr th {\n",
              "        vertical-align: top;\n",
              "    }\n",
              "\n",
              "    .dataframe thead th {\n",
              "        text-align: right;\n",
              "    }\n",
              "</style>\n",
              "<table border=\"1\" class=\"dataframe\">\n",
              "  <thead>\n",
              "    <tr style=\"text-align: right;\">\n",
              "      <th></th>\n",
              "      <th>Text</th>\n",
              "      <th>Actual_Score</th>\n",
              "      <th>Sentiment_rating</th>\n",
              "      <th>Predicted_sentiment</th>\n",
              "      <th>Predicted_probability</th>\n",
              "    </tr>\n",
              "  </thead>\n",
              "  <tbody>\n",
              "    <tr>\n",
              "      <th>7692</th>\n",
              "      <td>My little girl (6 months) can't stomach any fo...</td>\n",
              "      <td>5</td>\n",
              "      <td>1</td>\n",
              "      <td>0</td>\n",
              "      <td>0.000719</td>\n",
              "    </tr>\n",
              "    <tr>\n",
              "      <th>4166</th>\n",
              "      <td>The first time I tried this product to make pa...</td>\n",
              "      <td>4</td>\n",
              "      <td>1</td>\n",
              "      <td>0</td>\n",
              "      <td>0.002114</td>\n",
              "    </tr>\n",
              "    <tr>\n",
              "      <th>6612</th>\n",
              "      <td>When I opened the package, I only found 11 pac...</td>\n",
              "      <td>4</td>\n",
              "      <td>1</td>\n",
              "      <td>0</td>\n",
              "      <td>0.006040</td>\n",
              "    </tr>\n",
              "  </tbody>\n",
              "</table>\n",
              "</div>\n",
              "      <button class=\"colab-df-convert\" onclick=\"convertToInteractive('df-b15b069e-cd77-466e-ae7a-637583430f2d')\"\n",
              "              title=\"Convert this dataframe to an interactive table.\"\n",
              "              style=\"display:none;\">\n",
              "        \n",
              "  <svg xmlns=\"http://www.w3.org/2000/svg\" height=\"24px\"viewBox=\"0 0 24 24\"\n",
              "       width=\"24px\">\n",
              "    <path d=\"M0 0h24v24H0V0z\" fill=\"none\"/>\n",
              "    <path d=\"M18.56 5.44l.94 2.06.94-2.06 2.06-.94-2.06-.94-.94-2.06-.94 2.06-2.06.94zm-11 1L8.5 8.5l.94-2.06 2.06-.94-2.06-.94L8.5 2.5l-.94 2.06-2.06.94zm10 10l.94 2.06.94-2.06 2.06-.94-2.06-.94-.94-2.06-.94 2.06-2.06.94z\"/><path d=\"M17.41 7.96l-1.37-1.37c-.4-.4-.92-.59-1.43-.59-.52 0-1.04.2-1.43.59L10.3 9.45l-7.72 7.72c-.78.78-.78 2.05 0 2.83L4 21.41c.39.39.9.59 1.41.59.51 0 1.02-.2 1.41-.59l7.78-7.78 2.81-2.81c.8-.78.8-2.07 0-2.86zM5.41 20L4 18.59l7.72-7.72 1.47 1.35L5.41 20z\"/>\n",
              "  </svg>\n",
              "      </button>\n",
              "      \n",
              "  <style>\n",
              "    .colab-df-container {\n",
              "      display:flex;\n",
              "      flex-wrap:wrap;\n",
              "      gap: 12px;\n",
              "    }\n",
              "\n",
              "    .colab-df-convert {\n",
              "      background-color: #E8F0FE;\n",
              "      border: none;\n",
              "      border-radius: 50%;\n",
              "      cursor: pointer;\n",
              "      display: none;\n",
              "      fill: #1967D2;\n",
              "      height: 32px;\n",
              "      padding: 0 0 0 0;\n",
              "      width: 32px;\n",
              "    }\n",
              "\n",
              "    .colab-df-convert:hover {\n",
              "      background-color: #E2EBFA;\n",
              "      box-shadow: 0px 1px 2px rgba(60, 64, 67, 0.3), 0px 1px 3px 1px rgba(60, 64, 67, 0.15);\n",
              "      fill: #174EA6;\n",
              "    }\n",
              "\n",
              "    [theme=dark] .colab-df-convert {\n",
              "      background-color: #3B4455;\n",
              "      fill: #D2E3FC;\n",
              "    }\n",
              "\n",
              "    [theme=dark] .colab-df-convert:hover {\n",
              "      background-color: #434B5C;\n",
              "      box-shadow: 0px 1px 3px 1px rgba(0, 0, 0, 0.15);\n",
              "      filter: drop-shadow(0px 1px 2px rgba(0, 0, 0, 0.3));\n",
              "      fill: #FFFFFF;\n",
              "    }\n",
              "  </style>\n",
              "\n",
              "      <script>\n",
              "        const buttonEl =\n",
              "          document.querySelector('#df-b15b069e-cd77-466e-ae7a-637583430f2d button.colab-df-convert');\n",
              "        buttonEl.style.display =\n",
              "          google.colab.kernel.accessAllowed ? 'block' : 'none';\n",
              "\n",
              "        async function convertToInteractive(key) {\n",
              "          const element = document.querySelector('#df-b15b069e-cd77-466e-ae7a-637583430f2d');\n",
              "          const dataTable =\n",
              "            await google.colab.kernel.invokeFunction('convertToInteractive',\n",
              "                                                     [key], {});\n",
              "          if (!dataTable) return;\n",
              "\n",
              "          const docLinkHtml = 'Like what you see? Visit the ' +\n",
              "            '<a target=\"_blank\" href=https://colab.research.google.com/notebooks/data_table.ipynb>data table notebook</a>'\n",
              "            + ' to learn more about interactive tables.';\n",
              "          element.innerHTML = '';\n",
              "          dataTable['output_type'] = 'display_data';\n",
              "          await google.colab.output.renderOutput(dataTable, element);\n",
              "          const docLink = document.createElement('div');\n",
              "          docLink.innerHTML = docLinkHtml;\n",
              "          element.appendChild(docLink);\n",
              "        }\n",
              "      </script>\n",
              "    </div>\n",
              "  </div>\n",
              "  "
            ]
          },
          "metadata": {},
          "execution_count": 43
        }
      ]
    },
    {
      "cell_type": "code",
      "source": [
        "predictions.loc[7692].values"
      ],
      "metadata": {
        "colab": {
          "base_uri": "https://localhost:8080/"
        },
        "id": "S-G3sENDGu_i",
        "outputId": "e759240a-10d6-4421-8a25-7530360a980e"
      },
      "execution_count": null,
      "outputs": [
        {
          "output_type": "execute_result",
          "data": {
            "text/plain": [
              "array([\"My little girl (6 months) can't stomach any formula.  Even Nutramigen, at $35 per can made her colicky and sick (accompanied with the worst smelling spit up).  The expensive formulas smelled bad, and tasted worse, I hated giving them to her.  Goats milk was recommended to me.  Her doctor's only objection was that it was low in Folic Acid and tended to dehydrate babies.  Well, Meyenberg Powdered Milk  is fortified with Folic Acid, so dilute it with a little extra water and you're in business!  I now have the happiest infant you've ever seen.  Enfamil can take that nasty chemical soup they call formula and shove it, I'll never go back.<br /><br />You can get the formula Recipe at:<br />[...]<br /><br />There have been concerns about arsenic in rice syrup lately, so I have been using Lyle's Golden Syrup, and she likes it fine (Also it's the best pancake syrup you'll ever have).  I am going to try barley malt syrup next, it is chemically more similar to rice syrup.\",\n",
              "       5, 1, 0, 0.0007189017742100002], dtype=object)"
            ]
          },
          "metadata": {},
          "execution_count": 44
        }
      ]
    },
    {
      "cell_type": "markdown",
      "source": [
        "Podemos ver que la reseña tiene un tono muy negativo y utiliza palabras que la modelo probablemente ha aprendido a asociar fuertemente con malas reseñas como \"caro\", \"malo\", \"peor\", \"odiado\", \"desagradable\", \" nunca\". Sin embargo, todos estos en realidad están dirigidos a un producto diferente. El autor dice que después de comprar este producto tiene el \"bebé más feliz\", pero eso no es lo suficientemente fuerte como para contrarrestar todos los aspectos negativos de la reseña."
      ],
      "metadata": {
        "id": "3zbOLxXOGxk_"
      }
    },
    {
      "cell_type": "markdown",
      "source": [
        "Modifique el conjunto de características en el modelo para incluir bigramas, trigramas y 4-grams. No elimine las palabras irrelevantes definidas anteriormente antes de presentarlas. (Sugerencia: establece ngram_range=(1,4).)\n",
        "\n",
        "Al mismo tiempo, experimente con el ajuste de hiperparámetros. Cambie el valor C del clasificador de regresión logística a 0,9."
      ],
      "metadata": {
        "id": "uq3urjaaHMV0"
      }
    },
    {
      "cell_type": "code",
      "source": [
        "# Cambios con respecto al código anterior\n",
        "# 1. Aumentar los n-gramas de solo tener 1 gramo a (1 gramo, 2 gramos, 3 gramos y 4 gramos)\n",
        "# 2. Incluir las palabras vacías en las características de la bolsa de palabras\n",
        "bow_counts = CountVectorizer(\n",
        "    tokenizer=word_tokenize,\n",
        "    ngram_range=(1,4)\n",
        ")\n",
        "\n",
        "X_train_bow = bow_counts.fit_transform(reviews_train.reviews_text_new)\n",
        "X_test_bow = bow_counts.transform(reviews_test.reviews_text_new)"
      ],
      "metadata": {
        "id": "kEqVP5IuHSKk"
      },
      "execution_count": null,
      "outputs": []
    },
    {
      "cell_type": "code",
      "source": [
        "# Observe el aumento de funciones con la inclusión de palabras vacías\n",
        "X_train_bow"
      ],
      "metadata": {
        "colab": {
          "base_uri": "https://localhost:8080/"
        },
        "id": "8IPlWx1OHYKg",
        "outputId": "aed3e843-9871-4f9c-d07f-8712cbdbe6bd"
      },
      "execution_count": null,
      "outputs": [
        {
          "output_type": "execute_result",
          "data": {
            "text/plain": [
              "<7310x1054259 sparse matrix of type '<class 'numpy.int64'>'\n",
              "\twith 2036674 stored elements in Compressed Sparse Row format>"
            ]
          },
          "metadata": {},
          "execution_count": 46
        }
      ]
    },
    {
      "cell_type": "code",
      "source": [
        "# Cambios en la regresión logística\n",
        "# Cambio de la sanción de regularización por defecto de l2 a l1\n",
        "# Cambiando el parámetro de costo C a 0.9\n",
        "lr_model_all_new = LogisticRegression(C=0.9, solver=\"liblinear\")"
      ],
      "metadata": {
        "id": "GatU304PHdRw"
      },
      "execution_count": null,
      "outputs": []
    },
    {
      "cell_type": "code",
      "source": [
        "# Entrenar el modelo\n",
        "lr_model_all_new.fit(X_train_bow, y_train_bow)\n",
        "\n",
        "# Predecir resultados\n",
        "test_pred_lr_prob = lr_model_all_new.predict_proba(X_test_bow)\n",
        "test_pred_lr_all = lr_model_all_new.predict(X_test_bow)\n",
        "\n",
        "print(\"F1 score: \", f1_score(y_test_bow, test_pred_lr_all))\n",
        "print(\"Accuracy: \", accuracy_score(y_test_bow, test_pred_lr_all) * 100)"
      ],
      "metadata": {
        "colab": {
          "base_uri": "https://localhost:8080/"
        },
        "id": "t-9RjVU3HjeM",
        "outputId": "9a7ed7cb-94ec-42eb-b871-2fdc46affd00"
      },
      "execution_count": null,
      "outputs": [
        {
          "output_type": "stream",
          "name": "stdout",
          "text": [
            "F1 score:  0.9554579673776662\n",
            "Accuracy:  92.23194748358861\n"
          ]
        }
      ]
    },
    {
      "cell_type": "markdown",
      "source": [
        "La precisión ha saltado del 90% al 92,2%. Este es un ejemplo de lo que el simple ajuste de hiperparámetros y la modificación de características de entrada pueden hacer en el rendimiento general. Incluso podemos obtener características interpretables de esto en términos de lo que más contribuyó al sentimiento positivo y negativo."
      ],
      "metadata": {
        "id": "AU11TtV5Hp3J"
      }
    },
    {
      "cell_type": "code",
      "source": [
        "lr_weights = pd.DataFrame(list(\n",
        "    zip(\n",
        "        bow_counts.get_feature_names(),\n",
        "        lr_model_all_new.coef_[0])\n",
        "    ),\n",
        "    columns=['words','weights']\n",
        ")\n",
        "\n",
        "lr_weights.sort_values(['weights'],ascending = False)[:15]"
      ],
      "metadata": {
        "colab": {
          "base_uri": "https://localhost:8080/",
          "height": 575
        },
        "id": "1zboEFrIHvC5",
        "outputId": "ee875f03-e61a-4c28-e22a-7efba540a77f"
      },
      "execution_count": null,
      "outputs": [
        {
          "output_type": "stream",
          "name": "stderr",
          "text": [
            "/usr/local/lib/python3.7/dist-packages/sklearn/utils/deprecation.py:87: FutureWarning: Function get_feature_names is deprecated; get_feature_names is deprecated in 1.0 and will be removed in 1.2. Please use get_feature_names_out instead.\n",
            "  warnings.warn(msg, category=FutureWarning)\n"
          ]
        },
        {
          "output_type": "execute_result",
          "data": {
            "text/plain": [
              "             words   weights\n",
              "374800       great  1.382526\n",
              "256072   delicious  0.979694\n",
              "366512        good  0.864971\n",
              "677656     perfect  0.844286\n",
              "299760   excellent  0.838121\n",
              "855190    the best  0.826370\n",
              "534066        love  0.819486\n",
              "143456        best  0.813387\n",
              "593253        nice  0.780972\n",
              "536985       loves  0.660368\n",
              "1034499  wonderful  0.653160\n",
              "777859      smooth  0.642421\n",
              "309549    favorite  0.615238\n",
              "605055     not too  0.587947\n",
              "315915        find  0.585533"
            ],
            "text/html": [
              "\n",
              "  <div id=\"df-39ee2475-2b25-4831-9342-50c7de8a3b19\">\n",
              "    <div class=\"colab-df-container\">\n",
              "      <div>\n",
              "<style scoped>\n",
              "    .dataframe tbody tr th:only-of-type {\n",
              "        vertical-align: middle;\n",
              "    }\n",
              "\n",
              "    .dataframe tbody tr th {\n",
              "        vertical-align: top;\n",
              "    }\n",
              "\n",
              "    .dataframe thead th {\n",
              "        text-align: right;\n",
              "    }\n",
              "</style>\n",
              "<table border=\"1\" class=\"dataframe\">\n",
              "  <thead>\n",
              "    <tr style=\"text-align: right;\">\n",
              "      <th></th>\n",
              "      <th>words</th>\n",
              "      <th>weights</th>\n",
              "    </tr>\n",
              "  </thead>\n",
              "  <tbody>\n",
              "    <tr>\n",
              "      <th>374800</th>\n",
              "      <td>great</td>\n",
              "      <td>1.382526</td>\n",
              "    </tr>\n",
              "    <tr>\n",
              "      <th>256072</th>\n",
              "      <td>delicious</td>\n",
              "      <td>0.979694</td>\n",
              "    </tr>\n",
              "    <tr>\n",
              "      <th>366512</th>\n",
              "      <td>good</td>\n",
              "      <td>0.864971</td>\n",
              "    </tr>\n",
              "    <tr>\n",
              "      <th>677656</th>\n",
              "      <td>perfect</td>\n",
              "      <td>0.844286</td>\n",
              "    </tr>\n",
              "    <tr>\n",
              "      <th>299760</th>\n",
              "      <td>excellent</td>\n",
              "      <td>0.838121</td>\n",
              "    </tr>\n",
              "    <tr>\n",
              "      <th>855190</th>\n",
              "      <td>the best</td>\n",
              "      <td>0.826370</td>\n",
              "    </tr>\n",
              "    <tr>\n",
              "      <th>534066</th>\n",
              "      <td>love</td>\n",
              "      <td>0.819486</td>\n",
              "    </tr>\n",
              "    <tr>\n",
              "      <th>143456</th>\n",
              "      <td>best</td>\n",
              "      <td>0.813387</td>\n",
              "    </tr>\n",
              "    <tr>\n",
              "      <th>593253</th>\n",
              "      <td>nice</td>\n",
              "      <td>0.780972</td>\n",
              "    </tr>\n",
              "    <tr>\n",
              "      <th>536985</th>\n",
              "      <td>loves</td>\n",
              "      <td>0.660368</td>\n",
              "    </tr>\n",
              "    <tr>\n",
              "      <th>1034499</th>\n",
              "      <td>wonderful</td>\n",
              "      <td>0.653160</td>\n",
              "    </tr>\n",
              "    <tr>\n",
              "      <th>777859</th>\n",
              "      <td>smooth</td>\n",
              "      <td>0.642421</td>\n",
              "    </tr>\n",
              "    <tr>\n",
              "      <th>309549</th>\n",
              "      <td>favorite</td>\n",
              "      <td>0.615238</td>\n",
              "    </tr>\n",
              "    <tr>\n",
              "      <th>605055</th>\n",
              "      <td>not too</td>\n",
              "      <td>0.587947</td>\n",
              "    </tr>\n",
              "    <tr>\n",
              "      <th>315915</th>\n",
              "      <td>find</td>\n",
              "      <td>0.585533</td>\n",
              "    </tr>\n",
              "  </tbody>\n",
              "</table>\n",
              "</div>\n",
              "      <button class=\"colab-df-convert\" onclick=\"convertToInteractive('df-39ee2475-2b25-4831-9342-50c7de8a3b19')\"\n",
              "              title=\"Convert this dataframe to an interactive table.\"\n",
              "              style=\"display:none;\">\n",
              "        \n",
              "  <svg xmlns=\"http://www.w3.org/2000/svg\" height=\"24px\"viewBox=\"0 0 24 24\"\n",
              "       width=\"24px\">\n",
              "    <path d=\"M0 0h24v24H0V0z\" fill=\"none\"/>\n",
              "    <path d=\"M18.56 5.44l.94 2.06.94-2.06 2.06-.94-2.06-.94-.94-2.06-.94 2.06-2.06.94zm-11 1L8.5 8.5l.94-2.06 2.06-.94-2.06-.94L8.5 2.5l-.94 2.06-2.06.94zm10 10l.94 2.06.94-2.06 2.06-.94-2.06-.94-.94-2.06-.94 2.06-2.06.94z\"/><path d=\"M17.41 7.96l-1.37-1.37c-.4-.4-.92-.59-1.43-.59-.52 0-1.04.2-1.43.59L10.3 9.45l-7.72 7.72c-.78.78-.78 2.05 0 2.83L4 21.41c.39.39.9.59 1.41.59.51 0 1.02-.2 1.41-.59l7.78-7.78 2.81-2.81c.8-.78.8-2.07 0-2.86zM5.41 20L4 18.59l7.72-7.72 1.47 1.35L5.41 20z\"/>\n",
              "  </svg>\n",
              "      </button>\n",
              "      \n",
              "  <style>\n",
              "    .colab-df-container {\n",
              "      display:flex;\n",
              "      flex-wrap:wrap;\n",
              "      gap: 12px;\n",
              "    }\n",
              "\n",
              "    .colab-df-convert {\n",
              "      background-color: #E8F0FE;\n",
              "      border: none;\n",
              "      border-radius: 50%;\n",
              "      cursor: pointer;\n",
              "      display: none;\n",
              "      fill: #1967D2;\n",
              "      height: 32px;\n",
              "      padding: 0 0 0 0;\n",
              "      width: 32px;\n",
              "    }\n",
              "\n",
              "    .colab-df-convert:hover {\n",
              "      background-color: #E2EBFA;\n",
              "      box-shadow: 0px 1px 2px rgba(60, 64, 67, 0.3), 0px 1px 3px 1px rgba(60, 64, 67, 0.15);\n",
              "      fill: #174EA6;\n",
              "    }\n",
              "\n",
              "    [theme=dark] .colab-df-convert {\n",
              "      background-color: #3B4455;\n",
              "      fill: #D2E3FC;\n",
              "    }\n",
              "\n",
              "    [theme=dark] .colab-df-convert:hover {\n",
              "      background-color: #434B5C;\n",
              "      box-shadow: 0px 1px 3px 1px rgba(0, 0, 0, 0.15);\n",
              "      filter: drop-shadow(0px 1px 2px rgba(0, 0, 0, 0.3));\n",
              "      fill: #FFFFFF;\n",
              "    }\n",
              "  </style>\n",
              "\n",
              "      <script>\n",
              "        const buttonEl =\n",
              "          document.querySelector('#df-39ee2475-2b25-4831-9342-50c7de8a3b19 button.colab-df-convert');\n",
              "        buttonEl.style.display =\n",
              "          google.colab.kernel.accessAllowed ? 'block' : 'none';\n",
              "\n",
              "        async function convertToInteractive(key) {\n",
              "          const element = document.querySelector('#df-39ee2475-2b25-4831-9342-50c7de8a3b19');\n",
              "          const dataTable =\n",
              "            await google.colab.kernel.invokeFunction('convertToInteractive',\n",
              "                                                     [key], {});\n",
              "          if (!dataTable) return;\n",
              "\n",
              "          const docLinkHtml = 'Like what you see? Visit the ' +\n",
              "            '<a target=\"_blank\" href=https://colab.research.google.com/notebooks/data_table.ipynb>data table notebook</a>'\n",
              "            + ' to learn more about interactive tables.';\n",
              "          element.innerHTML = '';\n",
              "          dataTable['output_type'] = 'display_data';\n",
              "          await google.colab.output.renderOutput(dataTable, element);\n",
              "          const docLink = document.createElement('div');\n",
              "          docLink.innerHTML = docLinkHtml;\n",
              "          element.appendChild(docLink);\n",
              "        }\n",
              "      </script>\n",
              "    </div>\n",
              "  </div>\n",
              "  "
            ]
          },
          "metadata": {},
          "execution_count": 49
        }
      ]
    },
    {
      "cell_type": "code",
      "source": [
        "lr_weights.sort_values(['weights'],ascending = False)[-15:]"
      ],
      "metadata": {
        "colab": {
          "base_uri": "https://localhost:8080/",
          "height": 520
        },
        "id": "jFRk5csSHxyj",
        "outputId": "c4d2ae4c-01ea-4e1c-fd77-ffec093df08e"
      },
      "execution_count": null,
      "outputs": [
        {
          "output_type": "execute_result",
          "data": {
            "text/plain": [
              "                     words   weights\n",
              "1037701              worst -0.526030\n",
              "1007881               were -0.529210\n",
              "982174   very disappointed -0.540921\n",
              "120594                away -0.546831\n",
              "730653              return -0.547383\n",
              "801742               stick -0.561657\n",
              "121444               awful -0.570031\n",
              "997363               waste -0.591713\n",
              "265649       disappointing -0.598279\n",
              "820835                   t -0.654783\n",
              "124042                 bad -0.663200\n",
              "1003928               weak -0.702415\n",
              "294693                even -0.782674\n",
              "599002                 not -0.975730\n",
              "265330        disappointed -1.121489"
            ],
            "text/html": [
              "\n",
              "  <div id=\"df-ceea222c-7036-4973-8a4d-89d3a4a5ac1f\">\n",
              "    <div class=\"colab-df-container\">\n",
              "      <div>\n",
              "<style scoped>\n",
              "    .dataframe tbody tr th:only-of-type {\n",
              "        vertical-align: middle;\n",
              "    }\n",
              "\n",
              "    .dataframe tbody tr th {\n",
              "        vertical-align: top;\n",
              "    }\n",
              "\n",
              "    .dataframe thead th {\n",
              "        text-align: right;\n",
              "    }\n",
              "</style>\n",
              "<table border=\"1\" class=\"dataframe\">\n",
              "  <thead>\n",
              "    <tr style=\"text-align: right;\">\n",
              "      <th></th>\n",
              "      <th>words</th>\n",
              "      <th>weights</th>\n",
              "    </tr>\n",
              "  </thead>\n",
              "  <tbody>\n",
              "    <tr>\n",
              "      <th>1037701</th>\n",
              "      <td>worst</td>\n",
              "      <td>-0.526030</td>\n",
              "    </tr>\n",
              "    <tr>\n",
              "      <th>1007881</th>\n",
              "      <td>were</td>\n",
              "      <td>-0.529210</td>\n",
              "    </tr>\n",
              "    <tr>\n",
              "      <th>982174</th>\n",
              "      <td>very disappointed</td>\n",
              "      <td>-0.540921</td>\n",
              "    </tr>\n",
              "    <tr>\n",
              "      <th>120594</th>\n",
              "      <td>away</td>\n",
              "      <td>-0.546831</td>\n",
              "    </tr>\n",
              "    <tr>\n",
              "      <th>730653</th>\n",
              "      <td>return</td>\n",
              "      <td>-0.547383</td>\n",
              "    </tr>\n",
              "    <tr>\n",
              "      <th>801742</th>\n",
              "      <td>stick</td>\n",
              "      <td>-0.561657</td>\n",
              "    </tr>\n",
              "    <tr>\n",
              "      <th>121444</th>\n",
              "      <td>awful</td>\n",
              "      <td>-0.570031</td>\n",
              "    </tr>\n",
              "    <tr>\n",
              "      <th>997363</th>\n",
              "      <td>waste</td>\n",
              "      <td>-0.591713</td>\n",
              "    </tr>\n",
              "    <tr>\n",
              "      <th>265649</th>\n",
              "      <td>disappointing</td>\n",
              "      <td>-0.598279</td>\n",
              "    </tr>\n",
              "    <tr>\n",
              "      <th>820835</th>\n",
              "      <td>t</td>\n",
              "      <td>-0.654783</td>\n",
              "    </tr>\n",
              "    <tr>\n",
              "      <th>124042</th>\n",
              "      <td>bad</td>\n",
              "      <td>-0.663200</td>\n",
              "    </tr>\n",
              "    <tr>\n",
              "      <th>1003928</th>\n",
              "      <td>weak</td>\n",
              "      <td>-0.702415</td>\n",
              "    </tr>\n",
              "    <tr>\n",
              "      <th>294693</th>\n",
              "      <td>even</td>\n",
              "      <td>-0.782674</td>\n",
              "    </tr>\n",
              "    <tr>\n",
              "      <th>599002</th>\n",
              "      <td>not</td>\n",
              "      <td>-0.975730</td>\n",
              "    </tr>\n",
              "    <tr>\n",
              "      <th>265330</th>\n",
              "      <td>disappointed</td>\n",
              "      <td>-1.121489</td>\n",
              "    </tr>\n",
              "  </tbody>\n",
              "</table>\n",
              "</div>\n",
              "      <button class=\"colab-df-convert\" onclick=\"convertToInteractive('df-ceea222c-7036-4973-8a4d-89d3a4a5ac1f')\"\n",
              "              title=\"Convert this dataframe to an interactive table.\"\n",
              "              style=\"display:none;\">\n",
              "        \n",
              "  <svg xmlns=\"http://www.w3.org/2000/svg\" height=\"24px\"viewBox=\"0 0 24 24\"\n",
              "       width=\"24px\">\n",
              "    <path d=\"M0 0h24v24H0V0z\" fill=\"none\"/>\n",
              "    <path d=\"M18.56 5.44l.94 2.06.94-2.06 2.06-.94-2.06-.94-.94-2.06-.94 2.06-2.06.94zm-11 1L8.5 8.5l.94-2.06 2.06-.94-2.06-.94L8.5 2.5l-.94 2.06-2.06.94zm10 10l.94 2.06.94-2.06 2.06-.94-2.06-.94-.94-2.06-.94 2.06-2.06.94z\"/><path d=\"M17.41 7.96l-1.37-1.37c-.4-.4-.92-.59-1.43-.59-.52 0-1.04.2-1.43.59L10.3 9.45l-7.72 7.72c-.78.78-.78 2.05 0 2.83L4 21.41c.39.39.9.59 1.41.59.51 0 1.02-.2 1.41-.59l7.78-7.78 2.81-2.81c.8-.78.8-2.07 0-2.86zM5.41 20L4 18.59l7.72-7.72 1.47 1.35L5.41 20z\"/>\n",
              "  </svg>\n",
              "      </button>\n",
              "      \n",
              "  <style>\n",
              "    .colab-df-container {\n",
              "      display:flex;\n",
              "      flex-wrap:wrap;\n",
              "      gap: 12px;\n",
              "    }\n",
              "\n",
              "    .colab-df-convert {\n",
              "      background-color: #E8F0FE;\n",
              "      border: none;\n",
              "      border-radius: 50%;\n",
              "      cursor: pointer;\n",
              "      display: none;\n",
              "      fill: #1967D2;\n",
              "      height: 32px;\n",
              "      padding: 0 0 0 0;\n",
              "      width: 32px;\n",
              "    }\n",
              "\n",
              "    .colab-df-convert:hover {\n",
              "      background-color: #E2EBFA;\n",
              "      box-shadow: 0px 1px 2px rgba(60, 64, 67, 0.3), 0px 1px 3px 1px rgba(60, 64, 67, 0.15);\n",
              "      fill: #174EA6;\n",
              "    }\n",
              "\n",
              "    [theme=dark] .colab-df-convert {\n",
              "      background-color: #3B4455;\n",
              "      fill: #D2E3FC;\n",
              "    }\n",
              "\n",
              "    [theme=dark] .colab-df-convert:hover {\n",
              "      background-color: #434B5C;\n",
              "      box-shadow: 0px 1px 3px 1px rgba(0, 0, 0, 0.15);\n",
              "      filter: drop-shadow(0px 1px 2px rgba(0, 0, 0, 0.3));\n",
              "      fill: #FFFFFF;\n",
              "    }\n",
              "  </style>\n",
              "\n",
              "      <script>\n",
              "        const buttonEl =\n",
              "          document.querySelector('#df-ceea222c-7036-4973-8a4d-89d3a4a5ac1f button.colab-df-convert');\n",
              "        buttonEl.style.display =\n",
              "          google.colab.kernel.accessAllowed ? 'block' : 'none';\n",
              "\n",
              "        async function convertToInteractive(key) {\n",
              "          const element = document.querySelector('#df-ceea222c-7036-4973-8a4d-89d3a4a5ac1f');\n",
              "          const dataTable =\n",
              "            await google.colab.kernel.invokeFunction('convertToInteractive',\n",
              "                                                     [key], {});\n",
              "          if (!dataTable) return;\n",
              "\n",
              "          const docLinkHtml = 'Like what you see? Visit the ' +\n",
              "            '<a target=\"_blank\" href=https://colab.research.google.com/notebooks/data_table.ipynb>data table notebook</a>'\n",
              "            + ' to learn more about interactive tables.';\n",
              "          element.innerHTML = '';\n",
              "          dataTable['output_type'] = 'display_data';\n",
              "          await google.colab.output.renderOutput(dataTable, element);\n",
              "          const docLink = document.createElement('div');\n",
              "          docLink.innerHTML = docLinkHtml;\n",
              "          element.appendChild(docLink);\n",
              "        }\n",
              "      </script>\n",
              "    </div>\n",
              "  </div>\n",
              "  "
            ]
          },
          "metadata": {},
          "execution_count": 50
        }
      ]
    },
    {
      "cell_type": "markdown",
      "source": [
        "## Random forest"
      ],
      "metadata": {
        "id": "u4WxBMCnHz-H"
      }
    },
    {
      "cell_type": "code",
      "source": [
        "rf_model_all = RandomForestClassifier(n_estimators=100)\n",
        "\n",
        "# Entrenamiento\n",
        "rf_model_all.fit(X_train_bow, y_train_bow)\n",
        "\n",
        "# predicciones\n",
        "test_pred_lr_prob = rf_model_all.predict_proba(X_test_bow)\n",
        "test_pred_lr_all = rf_model_all.predict(X_test_bow)"
      ],
      "metadata": {
        "id": "8qAvpMnoH2zm"
      },
      "execution_count": null,
      "outputs": []
    },
    {
      "cell_type": "code",
      "source": [
        "print(\"F1 score: \", f1_score(y_test_bow,test_pred_lr_all))\n",
        "print(\"Accuracy: \", accuracy_score(y_test_bow,test_pred_lr_all)* 100)"
      ],
      "metadata": {
        "colab": {
          "base_uri": "https://localhost:8080/"
        },
        "id": "r2Pu1uwZH7Ew",
        "outputId": "e267f797-86f6-4064-9df8-3c30e6906801"
      },
      "execution_count": null,
      "outputs": [
        {
          "output_type": "stream",
          "name": "stdout",
          "text": [
            "F1 score:  0.9281437125748503\n",
            "Accuracy:  86.87089715536105\n"
          ]
        }
      ]
    },
    {
      "cell_type": "markdown",
      "source": [
        "Esto no es tan bueno como la regresión logística. Podemos obtener los n-gramas que fueron más importantes para las predicciones de la siguiente manera:"
      ],
      "metadata": {
        "id": "jpMWiD1gH-d8"
      }
    },
    {
      "cell_type": "code",
      "source": [
        "feature_importances = pd.DataFrame(\n",
        "    rf_model_all.feature_importances_,\n",
        "    index=bow_counts.get_feature_names(),\n",
        "    columns=['importance']\n",
        ")"
      ],
      "metadata": {
        "id": "l-pQMcXKIA3O"
      },
      "execution_count": null,
      "outputs": []
    },
    {
      "cell_type": "code",
      "source": [
        "feature_importances.sort_values(['importance'], ascending=False)[:10]"
      ],
      "metadata": {
        "id": "_PP7hG-3IBXy"
      },
      "execution_count": null,
      "outputs": []
    },
    {
      "cell_type": "markdown",
      "source": [
        "# Modelo TF-IDF\n",
        "\n",
        "Por supuesto, la bolsa de palabras no es la única forma de caracterizar el texto. Otro método, que mencionamos brevemente antes, es el método TF-IDF. Esto evalúa qué tan importante es una palabra para un documento dentro de una gran colección de documentos (es decir, corpus). La importancia aumenta proporcionalmente en función del número de veces que aparece una palabra en el documento, pero se compensa con la frecuencia de la palabra en el corpus.\n",
        "\n",
        "La TF-IDF es el producto de dos términos. El primero calcula la frecuencia de término normalizada (TF); es decir, el número de veces que aparece una palabra en un documento dividido por el número total de palabras en ese documento. El segundo término es la Frecuencia Inversa de Documentos (IDF), calculada como el logaritmo del número de documentos en el corpus dividido por el número de documentos "
      ],
      "metadata": {
        "id": "2jl8v2WlIDHs"
      }
    },
    {
      "cell_type": "markdown",
      "source": [
        "Menos formalmente, ¿qué significa esto?\n",
        "\n",
        "- Si una palabra aparece con mucha frecuencia en un documento específico, es probable que sea significativa.\n",
        "- Si una palabra aparece con mucha frecuencia en casi todos los documentos del corpus, es poco probable que sea significativa.\n",
        "- Por tanto, una palabra que aparece a menudo en un documento pero rara vez en el resto del corpus merece especial atención.\n",
        "\n",
        "TF-IDF no solo cuenta cada palabra, sino que aplica una ponderación para que las palabras comunes reciban menos atención y las palabras raras reciban más.\n",
        "\n",
        "Volvamos a presentar nuestro conjunto original de revisiones basado en TF-IDF y dividamos las funciones resultantes en conjuntos de entrenamiento y prueba:"
      ],
      "metadata": {
        "id": "iaDByDseIdYq"
      }
    },
    {
      "cell_type": "code",
      "source": [
        "# Cree un vectorizador: aún alimentamos nuestras stopwords, aunque\n",
        "# estos son menos relevantes ahora ya que TF-IDF los ponderaría menos\n",
        "# de todas formas.\n",
        "tfidf_counts = TfidfVectorizer(\n",
        "    tokenizer=word_tokenize,\n",
        "    stop_words=noise_words,\n",
        "    ngram_range=(1,1)\n",
        ")\n",
        "\n",
        "X_train_tfidf = tfidf_counts.fit_transform(reviews_train.reviews_text_new)\n",
        "X_test_tfidf = tfidf_counts.transform(reviews_test.reviews_text_new)"
      ],
      "metadata": {
        "colab": {
          "base_uri": "https://localhost:8080/"
        },
        "id": "Qy27CGjZInLg",
        "outputId": "87f0fcfb-49cc-4316-c2ab-2e33c2026f30"
      },
      "execution_count": null,
      "outputs": [
        {
          "output_type": "stream",
          "name": "stderr",
          "text": [
            "/usr/local/lib/python3.7/dist-packages/sklearn/feature_extraction/text.py:401: UserWarning: Your stop_words may be inconsistent with your preprocessing. Tokenizing the stop words generated tokens [\"'d\", \"'ll\", \"'re\", \"'s\", \"'ve\", 'might', 'must', \"n't\", 'need', 'sha', 'wo'] not in stop_words.\n",
            "  % sorted(inconsistent)\n"
          ]
        }
      ]
    },
    {
      "cell_type": "markdown",
      "source": [
        "## Regresion logistica"
      ],
      "metadata": {
        "id": "2mcp31kGIuN4"
      }
    },
    {
      "cell_type": "code",
      "source": [
        "# Crear el clasificador\n",
        "lr_model_tf_idf = LogisticRegression(solver=\"liblinear\")\n",
        "\n",
        "# Entrenar\n",
        "lr_model_tf_idf.fit(X_train_tfidf, y_train_bow)\n",
        "\n",
        "# Predecir\n",
        "test_pred_lr_prob = lr_model_tf_idf.predict_proba(X_test_tfidf)\n",
        "test_pred_lr_all = lr_model_tf_idf.predict(X_test_tfidf)\n",
        "\n",
        "## Evaluar el modelo\n",
        "print(\"F1 score: \",f1_score(y_test_bow, test_pred_lr_all))\n",
        "print(\"Accuracy: \", accuracy_score(y_test_bow, test_pred_lr_all) * 100)"
      ],
      "metadata": {
        "colab": {
          "base_uri": "https://localhost:8080/"
        },
        "id": "h2fKRigVIxBs",
        "outputId": "3372785a-1984-48f5-caff-266ec16bbdb3"
      },
      "execution_count": null,
      "outputs": [
        {
          "output_type": "stream",
          "name": "stdout",
          "text": [
            "F1 score:  0.9343419062027231\n",
            "Accuracy:  88.12910284463895\n"
          ]
        }
      ]
    },
    {
      "cell_type": "markdown",
      "source": [
        "Aquí hemos logrado una precisión del 88 % con TF-IDF en comparación con el 90 % con 1-gram. Es difícil saber exactamente por qué este algoritmo de vectorización más sofisticado conduce a peores resultados, pero podría ser que penalizar palabras que son comunes en todo el corpus genere una desventaja para este conjunto de datos en particular. TF-IDF suele ser útil cuando los datos de prueba son muy diferentes de los datos de entrenamiento, lo que permite que se desprioricen las palabras que solo son comunes en el conjunto de entrenamiento."
      ],
      "metadata": {
        "id": "A4uMiNZmI4Db"
      }
    },
    {
      "cell_type": "markdown",
      "source": [
        "Trate de aumentar la precisión del modelo por\n",
        "\n",
        "- configurando ```ngram_range=(1,4)``` en el Vectorizador\n",
        "- no eliminar las palabras irrelevantes de antemano en el Vectorizador\n",
        "- configurando C=10 en el clasificador LogisticRegression\n",
        "- estableciendo penalización=\"l1\" en el clasificador LogisticRegression"
      ],
      "metadata": {
        "id": "SCsby16EJBGA"
      }
    },
    {
      "cell_type": "code",
      "source": [
        "tfidf_counts = TfidfVectorizer(\n",
        "    tokenizer=word_tokenize,\n",
        "    ngram_range=(1,4)\n",
        ")\n",
        "\n",
        "X_train_tfidf = tfidf_counts.fit_transform(reviews_train.reviews_text_new)\n",
        "X_test_tfidf = tfidf_counts.transform(reviews_test.reviews_text_new)"
      ],
      "metadata": {
        "id": "5UlnsuRcJKwQ"
      },
      "execution_count": null,
      "outputs": []
    },
    {
      "cell_type": "code",
      "source": [
        "# definiendo la clase del modelo\n",
        "lr_model_tf_idf_new = LogisticRegression(solver=\"liblinear\", penalty='l1', C=10)\n",
        "\n",
        "# Entrenar\n",
        "lr_model_tf_idf_new.fit(X_train_tfidf, y_train_bow)\n",
        "\n",
        "# Predecir\n",
        "test_pred_lr_prob = lr_model_tf_idf_new.predict_proba(X_test_tfidf)\n",
        "test_pred_lr_all = lr_model_tf_idf_new.predict(X_test_tfidf)\n",
        "\n",
        "# Evaluar el modelo\n",
        "print(\"F1 score: \",f1_score(y_test_bow, test_pred_lr_all))\n",
        "print(\"Accuracy: \", accuracy_score(y_test_bow, test_pred_lr_all)*100)"
      ],
      "metadata": {
        "colab": {
          "base_uri": "https://localhost:8080/"
        },
        "id": "Ur44xFjOJNqx",
        "outputId": "5dea35f6-3d59-4119-c32e-3355831d7291"
      },
      "execution_count": null,
      "outputs": [
        {
          "output_type": "stream",
          "name": "stdout",
          "text": [
            "F1 score:  0.9470967741935484\n",
            "Accuracy:  91.02844638949672\n"
          ]
        }
      ]
    },
    {
      "cell_type": "markdown",
      "source": [
        "Esta es una mejora con respecto a nuestro resultado anterior, pero hicimos cuatro cambios al mismo tiempo, por lo que no sabemos cuáles ayudaron y cuánto.\n",
        "\n",
        "Probar diferentes hiperparámetros para mejorar su modelo se denomina ajuste de hiperparámetros y es un campo enorme por sí solo. Puede imaginar cómo ejecutar este modelo 16 veces, una vez con cada posible configuración de hiperparámetros que hemos probado, sería un poco complicado de seguir, ¡y esto es solo con 4 hiperparámetros y dos valores para cada uno! Con 100 o 1000 de hiperparámetros y 100 o 1000 de valores para cada uno, las combinaciones totales crecen muy rápidamente.\n",
        "\n",
        "Para ayudar con esto, scikit-learn proporciona la llamada funcionalidad de \"GridSearch\", donde puede configurar una canalización y especificar los rangos de hiperparámetros que desea \"buscar\". Scikit-learn probará cada combinación y entrenará y evaluará el modelo para cada caso, diciéndole cuál funcionó mejor.\n",
        "\n",
        "También podemos encontrar nuestras características más importantes nuevamente, como se muestra a continuación:"
      ],
      "metadata": {
        "id": "VXgj1CPgJYg7"
      }
    },
    {
      "cell_type": "code",
      "source": [
        "lr_weights = pd.DataFrame(\n",
        "    list(\n",
        "        zip(tfidf_counts.get_feature_names(), lr_model_tf_idf_new.coef_[0])\n",
        "    ),\n",
        "    columns=['words','weights']\n",
        ")\n",
        "\n",
        "lr_weights.sort_values(['weights'],ascending = False)[:10]"
      ],
      "metadata": {
        "colab": {
          "base_uri": "https://localhost:8080/",
          "height": 418
        },
        "id": "lOnUb9NiJiEd",
        "outputId": "13471d7e-e549-4648-9870-603cddad4e60"
      },
      "execution_count": null,
      "outputs": [
        {
          "output_type": "stream",
          "name": "stderr",
          "text": [
            "/usr/local/lib/python3.7/dist-packages/sklearn/utils/deprecation.py:87: FutureWarning: Function get_feature_names is deprecated; get_feature_names is deprecated in 1.0 and will be removed in 1.2. Please use get_feature_names_out instead.\n",
            "  warnings.warn(msg, category=FutureWarning)\n"
          ]
        },
        {
          "output_type": "execute_result",
          "data": {
            "text/plain": [
              "                  words    weights\n",
              "374800            great  51.682173\n",
              "677656          perfect  46.173501\n",
              "855190         the best  44.691956\n",
              "256072        delicious  39.746053\n",
              "63261           amazing  38.903587\n",
              "131810  be disappointed  38.802913\n",
              "299760        excellent  37.935929\n",
              "777859           smooth  36.007994\n",
              "685128          pleased  33.385577\n",
              "593253             nice  32.073194"
            ],
            "text/html": [
              "\n",
              "  <div id=\"df-adbebc60-6aa5-4d15-9d93-e8b45b37313c\">\n",
              "    <div class=\"colab-df-container\">\n",
              "      <div>\n",
              "<style scoped>\n",
              "    .dataframe tbody tr th:only-of-type {\n",
              "        vertical-align: middle;\n",
              "    }\n",
              "\n",
              "    .dataframe tbody tr th {\n",
              "        vertical-align: top;\n",
              "    }\n",
              "\n",
              "    .dataframe thead th {\n",
              "        text-align: right;\n",
              "    }\n",
              "</style>\n",
              "<table border=\"1\" class=\"dataframe\">\n",
              "  <thead>\n",
              "    <tr style=\"text-align: right;\">\n",
              "      <th></th>\n",
              "      <th>words</th>\n",
              "      <th>weights</th>\n",
              "    </tr>\n",
              "  </thead>\n",
              "  <tbody>\n",
              "    <tr>\n",
              "      <th>374800</th>\n",
              "      <td>great</td>\n",
              "      <td>51.682173</td>\n",
              "    </tr>\n",
              "    <tr>\n",
              "      <th>677656</th>\n",
              "      <td>perfect</td>\n",
              "      <td>46.173501</td>\n",
              "    </tr>\n",
              "    <tr>\n",
              "      <th>855190</th>\n",
              "      <td>the best</td>\n",
              "      <td>44.691956</td>\n",
              "    </tr>\n",
              "    <tr>\n",
              "      <th>256072</th>\n",
              "      <td>delicious</td>\n",
              "      <td>39.746053</td>\n",
              "    </tr>\n",
              "    <tr>\n",
              "      <th>63261</th>\n",
              "      <td>amazing</td>\n",
              "      <td>38.903587</td>\n",
              "    </tr>\n",
              "    <tr>\n",
              "      <th>131810</th>\n",
              "      <td>be disappointed</td>\n",
              "      <td>38.802913</td>\n",
              "    </tr>\n",
              "    <tr>\n",
              "      <th>299760</th>\n",
              "      <td>excellent</td>\n",
              "      <td>37.935929</td>\n",
              "    </tr>\n",
              "    <tr>\n",
              "      <th>777859</th>\n",
              "      <td>smooth</td>\n",
              "      <td>36.007994</td>\n",
              "    </tr>\n",
              "    <tr>\n",
              "      <th>685128</th>\n",
              "      <td>pleased</td>\n",
              "      <td>33.385577</td>\n",
              "    </tr>\n",
              "    <tr>\n",
              "      <th>593253</th>\n",
              "      <td>nice</td>\n",
              "      <td>32.073194</td>\n",
              "    </tr>\n",
              "  </tbody>\n",
              "</table>\n",
              "</div>\n",
              "      <button class=\"colab-df-convert\" onclick=\"convertToInteractive('df-adbebc60-6aa5-4d15-9d93-e8b45b37313c')\"\n",
              "              title=\"Convert this dataframe to an interactive table.\"\n",
              "              style=\"display:none;\">\n",
              "        \n",
              "  <svg xmlns=\"http://www.w3.org/2000/svg\" height=\"24px\"viewBox=\"0 0 24 24\"\n",
              "       width=\"24px\">\n",
              "    <path d=\"M0 0h24v24H0V0z\" fill=\"none\"/>\n",
              "    <path d=\"M18.56 5.44l.94 2.06.94-2.06 2.06-.94-2.06-.94-.94-2.06-.94 2.06-2.06.94zm-11 1L8.5 8.5l.94-2.06 2.06-.94-2.06-.94L8.5 2.5l-.94 2.06-2.06.94zm10 10l.94 2.06.94-2.06 2.06-.94-2.06-.94-.94-2.06-.94 2.06-2.06.94z\"/><path d=\"M17.41 7.96l-1.37-1.37c-.4-.4-.92-.59-1.43-.59-.52 0-1.04.2-1.43.59L10.3 9.45l-7.72 7.72c-.78.78-.78 2.05 0 2.83L4 21.41c.39.39.9.59 1.41.59.51 0 1.02-.2 1.41-.59l7.78-7.78 2.81-2.81c.8-.78.8-2.07 0-2.86zM5.41 20L4 18.59l7.72-7.72 1.47 1.35L5.41 20z\"/>\n",
              "  </svg>\n",
              "      </button>\n",
              "      \n",
              "  <style>\n",
              "    .colab-df-container {\n",
              "      display:flex;\n",
              "      flex-wrap:wrap;\n",
              "      gap: 12px;\n",
              "    }\n",
              "\n",
              "    .colab-df-convert {\n",
              "      background-color: #E8F0FE;\n",
              "      border: none;\n",
              "      border-radius: 50%;\n",
              "      cursor: pointer;\n",
              "      display: none;\n",
              "      fill: #1967D2;\n",
              "      height: 32px;\n",
              "      padding: 0 0 0 0;\n",
              "      width: 32px;\n",
              "    }\n",
              "\n",
              "    .colab-df-convert:hover {\n",
              "      background-color: #E2EBFA;\n",
              "      box-shadow: 0px 1px 2px rgba(60, 64, 67, 0.3), 0px 1px 3px 1px rgba(60, 64, 67, 0.15);\n",
              "      fill: #174EA6;\n",
              "    }\n",
              "\n",
              "    [theme=dark] .colab-df-convert {\n",
              "      background-color: #3B4455;\n",
              "      fill: #D2E3FC;\n",
              "    }\n",
              "\n",
              "    [theme=dark] .colab-df-convert:hover {\n",
              "      background-color: #434B5C;\n",
              "      box-shadow: 0px 1px 3px 1px rgba(0, 0, 0, 0.15);\n",
              "      filter: drop-shadow(0px 1px 2px rgba(0, 0, 0, 0.3));\n",
              "      fill: #FFFFFF;\n",
              "    }\n",
              "  </style>\n",
              "\n",
              "      <script>\n",
              "        const buttonEl =\n",
              "          document.querySelector('#df-adbebc60-6aa5-4d15-9d93-e8b45b37313c button.colab-df-convert');\n",
              "        buttonEl.style.display =\n",
              "          google.colab.kernel.accessAllowed ? 'block' : 'none';\n",
              "\n",
              "        async function convertToInteractive(key) {\n",
              "          const element = document.querySelector('#df-adbebc60-6aa5-4d15-9d93-e8b45b37313c');\n",
              "          const dataTable =\n",
              "            await google.colab.kernel.invokeFunction('convertToInteractive',\n",
              "                                                     [key], {});\n",
              "          if (!dataTable) return;\n",
              "\n",
              "          const docLinkHtml = 'Like what you see? Visit the ' +\n",
              "            '<a target=\"_blank\" href=https://colab.research.google.com/notebooks/data_table.ipynb>data table notebook</a>'\n",
              "            + ' to learn more about interactive tables.';\n",
              "          element.innerHTML = '';\n",
              "          dataTable['output_type'] = 'display_data';\n",
              "          await google.colab.output.renderOutput(dataTable, element);\n",
              "          const docLink = document.createElement('div');\n",
              "          docLink.innerHTML = docLinkHtml;\n",
              "          element.appendChild(docLink);\n",
              "        }\n",
              "      </script>\n",
              "    </div>\n",
              "  </div>\n",
              "  "
            ]
          },
          "metadata": {},
          "execution_count": 57
        }
      ]
    },
    {
      "cell_type": "code",
      "source": [
        "lr_weights.sort_values(['weights'],ascending = False)[-10:]"
      ],
      "metadata": {
        "colab": {
          "base_uri": "https://localhost:8080/",
          "height": 363
        },
        "id": "GvmARJjeJkG2",
        "outputId": "21600646-cc73-46d8-dc66-f2eeb7cbdc26"
      },
      "execution_count": null,
      "outputs": [
        {
          "output_type": "execute_result",
          "data": {
            "text/plain": [
              "                 words    weights\n",
              "730653          return -34.726053\n",
              "599002             not -35.237744\n",
              "603641   not recommend -35.535403\n",
              "843696       than this -36.479892\n",
              "1037701          worst -37.469519\n",
              "601259         not for -38.382928\n",
              "1053388           yuck -41.851058\n",
              "605704       not worth -44.629182\n",
              "265330    disappointed -45.957117\n",
              "265649   disappointing -49.420275"
            ],
            "text/html": [
              "\n",
              "  <div id=\"df-73aafacf-109c-4459-9b7d-bd5e00195360\">\n",
              "    <div class=\"colab-df-container\">\n",
              "      <div>\n",
              "<style scoped>\n",
              "    .dataframe tbody tr th:only-of-type {\n",
              "        vertical-align: middle;\n",
              "    }\n",
              "\n",
              "    .dataframe tbody tr th {\n",
              "        vertical-align: top;\n",
              "    }\n",
              "\n",
              "    .dataframe thead th {\n",
              "        text-align: right;\n",
              "    }\n",
              "</style>\n",
              "<table border=\"1\" class=\"dataframe\">\n",
              "  <thead>\n",
              "    <tr style=\"text-align: right;\">\n",
              "      <th></th>\n",
              "      <th>words</th>\n",
              "      <th>weights</th>\n",
              "    </tr>\n",
              "  </thead>\n",
              "  <tbody>\n",
              "    <tr>\n",
              "      <th>730653</th>\n",
              "      <td>return</td>\n",
              "      <td>-34.726053</td>\n",
              "    </tr>\n",
              "    <tr>\n",
              "      <th>599002</th>\n",
              "      <td>not</td>\n",
              "      <td>-35.237744</td>\n",
              "    </tr>\n",
              "    <tr>\n",
              "      <th>603641</th>\n",
              "      <td>not recommend</td>\n",
              "      <td>-35.535403</td>\n",
              "    </tr>\n",
              "    <tr>\n",
              "      <th>843696</th>\n",
              "      <td>than this</td>\n",
              "      <td>-36.479892</td>\n",
              "    </tr>\n",
              "    <tr>\n",
              "      <th>1037701</th>\n",
              "      <td>worst</td>\n",
              "      <td>-37.469519</td>\n",
              "    </tr>\n",
              "    <tr>\n",
              "      <th>601259</th>\n",
              "      <td>not for</td>\n",
              "      <td>-38.382928</td>\n",
              "    </tr>\n",
              "    <tr>\n",
              "      <th>1053388</th>\n",
              "      <td>yuck</td>\n",
              "      <td>-41.851058</td>\n",
              "    </tr>\n",
              "    <tr>\n",
              "      <th>605704</th>\n",
              "      <td>not worth</td>\n",
              "      <td>-44.629182</td>\n",
              "    </tr>\n",
              "    <tr>\n",
              "      <th>265330</th>\n",
              "      <td>disappointed</td>\n",
              "      <td>-45.957117</td>\n",
              "    </tr>\n",
              "    <tr>\n",
              "      <th>265649</th>\n",
              "      <td>disappointing</td>\n",
              "      <td>-49.420275</td>\n",
              "    </tr>\n",
              "  </tbody>\n",
              "</table>\n",
              "</div>\n",
              "      <button class=\"colab-df-convert\" onclick=\"convertToInteractive('df-73aafacf-109c-4459-9b7d-bd5e00195360')\"\n",
              "              title=\"Convert this dataframe to an interactive table.\"\n",
              "              style=\"display:none;\">\n",
              "        \n",
              "  <svg xmlns=\"http://www.w3.org/2000/svg\" height=\"24px\"viewBox=\"0 0 24 24\"\n",
              "       width=\"24px\">\n",
              "    <path d=\"M0 0h24v24H0V0z\" fill=\"none\"/>\n",
              "    <path d=\"M18.56 5.44l.94 2.06.94-2.06 2.06-.94-2.06-.94-.94-2.06-.94 2.06-2.06.94zm-11 1L8.5 8.5l.94-2.06 2.06-.94-2.06-.94L8.5 2.5l-.94 2.06-2.06.94zm10 10l.94 2.06.94-2.06 2.06-.94-2.06-.94-.94-2.06-.94 2.06-2.06.94z\"/><path d=\"M17.41 7.96l-1.37-1.37c-.4-.4-.92-.59-1.43-.59-.52 0-1.04.2-1.43.59L10.3 9.45l-7.72 7.72c-.78.78-.78 2.05 0 2.83L4 21.41c.39.39.9.59 1.41.59.51 0 1.02-.2 1.41-.59l7.78-7.78 2.81-2.81c.8-.78.8-2.07 0-2.86zM5.41 20L4 18.59l7.72-7.72 1.47 1.35L5.41 20z\"/>\n",
              "  </svg>\n",
              "      </button>\n",
              "      \n",
              "  <style>\n",
              "    .colab-df-container {\n",
              "      display:flex;\n",
              "      flex-wrap:wrap;\n",
              "      gap: 12px;\n",
              "    }\n",
              "\n",
              "    .colab-df-convert {\n",
              "      background-color: #E8F0FE;\n",
              "      border: none;\n",
              "      border-radius: 50%;\n",
              "      cursor: pointer;\n",
              "      display: none;\n",
              "      fill: #1967D2;\n",
              "      height: 32px;\n",
              "      padding: 0 0 0 0;\n",
              "      width: 32px;\n",
              "    }\n",
              "\n",
              "    .colab-df-convert:hover {\n",
              "      background-color: #E2EBFA;\n",
              "      box-shadow: 0px 1px 2px rgba(60, 64, 67, 0.3), 0px 1px 3px 1px rgba(60, 64, 67, 0.15);\n",
              "      fill: #174EA6;\n",
              "    }\n",
              "\n",
              "    [theme=dark] .colab-df-convert {\n",
              "      background-color: #3B4455;\n",
              "      fill: #D2E3FC;\n",
              "    }\n",
              "\n",
              "    [theme=dark] .colab-df-convert:hover {\n",
              "      background-color: #434B5C;\n",
              "      box-shadow: 0px 1px 3px 1px rgba(0, 0, 0, 0.15);\n",
              "      filter: drop-shadow(0px 1px 2px rgba(0, 0, 0, 0.3));\n",
              "      fill: #FFFFFF;\n",
              "    }\n",
              "  </style>\n",
              "\n",
              "      <script>\n",
              "        const buttonEl =\n",
              "          document.querySelector('#df-73aafacf-109c-4459-9b7d-bd5e00195360 button.colab-df-convert');\n",
              "        buttonEl.style.display =\n",
              "          google.colab.kernel.accessAllowed ? 'block' : 'none';\n",
              "\n",
              "        async function convertToInteractive(key) {\n",
              "          const element = document.querySelector('#df-73aafacf-109c-4459-9b7d-bd5e00195360');\n",
              "          const dataTable =\n",
              "            await google.colab.kernel.invokeFunction('convertToInteractive',\n",
              "                                                     [key], {});\n",
              "          if (!dataTable) return;\n",
              "\n",
              "          const docLinkHtml = 'Like what you see? Visit the ' +\n",
              "            '<a target=\"_blank\" href=https://colab.research.google.com/notebooks/data_table.ipynb>data table notebook</a>'\n",
              "            + ' to learn more about interactive tables.';\n",
              "          element.innerHTML = '';\n",
              "          dataTable['output_type'] = 'display_data';\n",
              "          await google.colab.output.renderOutput(dataTable, element);\n",
              "          const docLink = document.createElement('div');\n",
              "          docLink.innerHTML = docLinkHtml;\n",
              "          element.appendChild(docLink);\n",
              "        }\n",
              "      </script>\n",
              "    </div>\n",
              "  </div>\n",
              "  "
            ]
          },
          "metadata": {},
          "execution_count": 58
        }
      ]
    },
    {
      "cell_type": "markdown",
      "source": [
        "# Modelo Word Embeddings"
      ],
      "metadata": {
        "id": "Pu7WHTrpJl_8"
      }
    },
    {
      "cell_type": "markdown",
      "source": [
        "El tipo final de caracterización que cubriremos son las incrustaciones de palabras (Word Embeddings). Este es un tipo de representación de palabras que permite que palabras con un significado similar tengan una representación similar. Al ser entrenados previamente en datos externos, como Wikipedia, las incrustaciones de palabras saben cuándo los conceptos están relacionados semánticamente; por ejemplo, los vectores para \"rey\" y \"reina\" se ubicarían uno cerca del otro, aunque no hay sintaxis ni similitud en ortografía entre estas palabras.\n",
        "\n",
        "Es este enfoque para representar palabras y documentos el que puede considerarse uno de los avances clave del aprendizaje profundo en los desafiantes problemas de procesamiento del lenguaje natural.\n",
        "\n",
        "Hay muchos conjuntos de datos de incrustaciones de palabras previamente entrenadas que están disponibles gratuitamente, o puede entrenar las suyas propias. Algunos de los avances más importantes en esta área incluyen Word2Vec, que se convirtió en el modelo a seguir de la NPL, y otros enfoques integrados como Glove, ELMo y BERT."
      ],
      "metadata": {
        "id": "cvsz0rEbJrmb"
      }
    },
    {
      "cell_type": "markdown",
      "source": [
        "Existen diferentes métodos para aprender incrustaciones de palabras: Word2Vec, GloVe, FastText. **Word2Vec** utiliza una red neuronal superficial y es de dos tipos; _CBOW_ y _Skip Gram_. **GloVe** es un algoritmo de aprendizaje no supervisado para obtener representaciones vectoriales de palabras. El entrenamiento se realiza en estadísticas globales agregadas de coocurrencia palabra-palabra de un corpus, y las representaciones resultantes muestran subestructuras lineales interesantes del espacio vectorial de palabras. **[fastText](https://fasttext.cc/)** es una biblioteca para aprender incrustaciones de palabras y clasificación de texto creada por el laboratorio de investigación de IA de Facebook."
      ],
      "metadata": {
        "id": "h8N02FZJJ-VF"
      }
    },
    {
      "cell_type": "markdown",
      "source": [
        "**Porque usar Word Embeddings en lugar de Bag of words o TF-IDF**\n",
        "Cada palabra está representada por un vector de valor real, que generalmente tiene decenas o cientos de dimensiones. Esto contrasta con los miles o millones de dimensiones requeridas para las representaciones de palabras dispersas. Por lo tanto, las incrustaciones de palabras pueden reducir drásticamente la cantidad de dimensiones requeridas para representar un documento de texto:"
      ],
      "metadata": {
        "id": "2gzgZC5UKMyS"
      }
    },
    {
      "cell_type": "code",
      "source": [
        "import gensim\n",
        "# Cargar una incrustación de palabras de guante preentrenada que se entrena en un conjunto de datos de Twitter\n",
        "# Esta palabra incrustada tiene 200 dimensiones, lo que significa que cada palabra está representada\n",
        "# por un vector de 200 dimensiones.\n",
        "model = gensim.models.KeyedVectors.load_word2vec_format(\n",
        "    os.path.join(os.getcwd(), 'glove.twitter.27B.200d_out.txt'),\n",
        "    binary=False,\n",
        "    unicode_errors='ignore'\n",
        ")"
      ],
      "metadata": {
        "id": "fWaGepmSKVwl"
      },
      "execution_count": null,
      "outputs": []
    },
    {
      "cell_type": "markdown",
      "source": [
        "Teníamos aproximadamente 18000 tokens distintos para características de 1-grams en la representación de la bolsa de palabras, pero solo tendrán 200 dimensiones en esta inserción de palabras. ¡Esta es una gran diferencia!\n",
        "\n",
        "Además, las incrustaciones de palabras capturan el contexto y la semántica de las oraciones, ya que cada representación de vector de palabra se basa en su significado contextual.\n",
        "\n",
        "A continuación se muestra la representación vectorial de \"comida\" y \"genial\":"
      ],
      "metadata": {
        "id": "OlmzuwOFKjRM"
      }
    },
    {
      "cell_type": "code",
      "source": [
        "print(\"El embedding para food es\", len(model['food']), \"dimensional\")\n",
        "\n",
        "model['food']"
      ],
      "metadata": {
        "colab": {
          "base_uri": "https://localhost:8080/"
        },
        "id": "OCU3QFnmKfXr",
        "outputId": "602a23a0-bcde-44a3-e0b5-d7646b6da310"
      },
      "execution_count": null,
      "outputs": [
        {
          "output_type": "stream",
          "name": "stdout",
          "text": [
            "El embedding para food es 200 dimensional\n"
          ]
        },
        {
          "output_type": "execute_result",
          "data": {
            "text/plain": [
              "array([-6.9175e-01, -1.4259e-01,  3.8653e-01, -2.3141e-01, -2.0408e-01,\n",
              "       -2.1565e-01,  7.7839e-01,  2.2689e-03, -7.2446e-02, -6.0134e-01,\n",
              "       -4.2400e-01, -5.7140e-01, -8.4249e-01,  1.5947e-01, -1.2899e-01,\n",
              "        5.9032e-01, -1.3632e-01, -6.6478e-01, -1.9557e-01, -8.2453e-01,\n",
              "       -1.3177e-01,  1.3514e-01, -7.3214e-01,  4.8200e-01,  4.3505e-01,\n",
              "        1.6676e+00, -1.8275e-01, -1.0007e-01,  3.7003e-01,  1.0411e-01,\n",
              "       -8.8115e-01, -9.7733e-04, -2.9459e-01, -7.3869e-02, -4.0103e-01,\n",
              "       -4.6626e-01,  2.3253e-01,  2.7776e-01,  4.0754e-01, -4.5051e-02,\n",
              "       -1.9468e-01, -2.9230e-01, -3.4642e-01, -4.9286e-01,  1.0467e-01,\n",
              "        7.2143e-01,  5.9596e-01,  5.3495e-01,  3.8788e-02, -1.4406e-01,\n",
              "       -5.2248e-02, -6.8292e-01, -1.0080e-01, -1.2961e-01, -2.6006e-02,\n",
              "        1.4836e-01,  3.2417e-02,  1.3997e-01,  8.3943e-03, -2.3139e-01,\n",
              "       -1.8000e-01, -3.1689e-01,  2.3606e-01,  1.8237e-01,  4.3933e-01,\n",
              "       -3.2313e-01, -2.1512e-03, -4.4172e-01,  4.1011e-01,  1.7174e-01,\n",
              "       -8.6405e-01, -3.9674e-01,  4.4175e-01,  5.9300e-01,  1.8982e-01,\n",
              "       -2.9646e-02, -3.4041e-01, -3.3708e-02,  7.3449e-01,  4.5300e-01,\n",
              "       -2.7855e-02, -1.8993e-02,  3.8107e-01, -5.6606e-02,  1.4864e-02,\n",
              "        3.1518e-01, -3.2304e-01, -2.7439e-01,  6.1900e-02,  3.2886e-01,\n",
              "        1.5138e-01,  5.3268e-01, -1.6616e-01, -2.3076e-01, -9.6515e-02,\n",
              "        4.5991e-01, -5.1475e-01,  1.0297e-01, -4.0225e-02,  5.6679e-01,\n",
              "        3.1027e-01,  1.5679e-01, -2.5897e-01,  4.6312e-01,  2.2561e-01,\n",
              "       -3.9300e-01, -3.9593e-01,  4.4001e-01,  3.7176e-01,  1.4747e-02,\n",
              "       -1.9193e-01, -2.2478e-01, -1.2665e-01, -3.4982e-01,  5.0847e-01,\n",
              "        3.1720e-01,  1.2942e-01, -6.2695e-01,  5.8675e-01,  4.1040e-02,\n",
              "        1.8835e-01, -2.2626e-01, -1.1744e-01,  5.1429e-03,  7.2058e-02,\n",
              "       -4.9525e-01,  4.4159e-01,  8.6225e-01,  7.6765e-02, -9.7908e-02,\n",
              "        6.8383e-02,  3.0596e-01,  3.7980e-01,  1.1563e-01, -6.1020e-01,\n",
              "       -6.8107e-01,  3.2723e-02,  2.5346e-01,  3.5334e-01,  2.5407e-01,\n",
              "       -4.6516e-01,  4.8858e-01,  3.9032e-01, -8.1296e-01, -6.9780e-01,\n",
              "       -1.2542e-01,  7.9234e-02,  1.2918e-01, -1.1048e-01,  8.9312e-03,\n",
              "        3.6999e-01,  3.0116e-01, -4.6578e+00, -4.4493e-03,  2.0313e-02,\n",
              "       -5.0215e-02, -2.0646e-01, -3.7321e-02, -5.1779e-02,  6.6986e-02,\n",
              "       -5.8853e-01,  7.1753e-01,  4.2784e-02,  1.6667e-03, -2.6193e-01,\n",
              "        5.8214e-01, -1.0513e+00, -3.0341e-02,  7.3892e-01, -1.8003e-01,\n",
              "       -1.1104e-01,  3.0846e-01,  4.4027e-01, -8.4080e-02, -2.6251e-01,\n",
              "       -3.8733e-01, -2.6630e-01,  1.9655e-01,  5.3812e-02, -2.4456e-01,\n",
              "       -7.8868e-01, -7.1843e-01,  7.0593e-02, -1.9051e-01,  2.5553e-01,\n",
              "       -1.3786e-01,  1.2942e-01,  4.5864e-01,  5.5462e-01,  8.2104e-01,\n",
              "       -2.5049e-01, -3.3623e-01,  1.8491e-01, -4.8235e-01,  3.1425e-01,\n",
              "        2.4499e-01, -2.4404e-01,  8.0309e-02,  3.4060e-01,  7.0451e-01],\n",
              "      dtype=float32)"
            ]
          },
          "metadata": {},
          "execution_count": 61
        }
      ]
    },
    {
      "cell_type": "code",
      "source": [
        "print(\"El embedding para great es\", len(model['great']), \"dimensional\")\n",
        "\n",
        "model['great']"
      ],
      "metadata": {
        "colab": {
          "base_uri": "https://localhost:8080/"
        },
        "id": "1g4FvfwRKtp5",
        "outputId": "5a9927cf-325c-46d1-b6cc-824796f5e00a"
      },
      "execution_count": null,
      "outputs": [
        {
          "output_type": "stream",
          "name": "stdout",
          "text": [
            "El embedding para great es 200 dimensional\n"
          ]
        },
        {
          "output_type": "execute_result",
          "data": {
            "text/plain": [
              "array([ 1.0751e-01,  1.5958e-01,  1.3332e-01,  1.6642e-01, -3.2737e-02,\n",
              "        1.7592e-01,  7.2395e-01,  1.1713e-01, -3.5036e-01, -4.2937e-01,\n",
              "       -4.0925e-01, -2.5761e-01, -1.0264e+00, -1.0014e-01,  5.5390e-02,\n",
              "        2.0413e-01,  1.2807e-01, -2.6337e-02, -6.9719e-02, -3.6193e-02,\n",
              "       -1.9917e-01,  3.9437e-02, -9.2358e-02,  2.6981e-01, -2.0951e-01,\n",
              "        1.5455e+00, -2.8123e-01,  3.2046e-01,  4.5545e-01, -3.8841e-02,\n",
              "       -1.7369e-01, -2.3251e-01, -5.9551e-02,  2.3250e-01,  4.4214e-01,\n",
              "        3.3666e-01,  3.9352e-02, -1.2462e-01, -2.9317e-01, -4.8857e-02,\n",
              "        6.9021e-01,  7.1279e-02,  1.0252e-01,  1.6122e-01, -2.3536e-01,\n",
              "        6.2724e-02,  2.0222e-01,  5.0234e-02, -1.1611e-01,  2.8909e-02,\n",
              "       -1.1109e-01, -5.0241e-02, -5.9063e-01, -8.8747e-02,  5.1444e-01,\n",
              "       -1.3715e-01,  1.7194e-01, -8.3657e-02,  9.6333e-02, -9.7063e-02,\n",
              "        3.4003e-03, -7.0180e-02, -5.9588e-01, -2.8264e-01,  1.2529e-01,\n",
              "        2.4359e-01, -4.9082e-01, -4.2533e-02,  2.2158e-01, -2.1491e-01,\n",
              "       -4.2101e-02,  2.3359e-01,  3.1978e-01,  3.5063e-01,  6.1748e-01,\n",
              "       -1.0197e-01,  5.3357e-01, -3.6005e-01, -1.7212e-02,  1.6645e-01,\n",
              "        8.9432e-01,  2.7322e-02,  3.0683e-01,  1.9715e-02,  6.0516e-01,\n",
              "        4.1085e-01,  5.5945e-01, -8.4501e-02,  3.5933e-01,  1.0216e-01,\n",
              "        2.6675e-01, -6.0445e-01, -1.0513e-01, -1.9248e-01,  2.9150e-01,\n",
              "       -1.0537e-01,  5.2671e-01,  2.3763e-01, -1.3640e-01, -6.1029e-02,\n",
              "        1.0081e-01,  7.4541e-02, -1.4899e-01, -2.2301e-01, -1.3653e-02,\n",
              "        4.0192e-02,  5.5821e-03, -2.9936e-02,  2.7338e-02,  5.9412e-01,\n",
              "       -1.0302e-01,  9.0319e-02,  3.1055e-01,  6.3336e-01,  2.9762e-01,\n",
              "       -8.4671e-02, -1.2552e-01, -6.3930e-01,  3.8613e-01,  6.6371e-01,\n",
              "        5.1345e-01,  2.0719e-01,  2.1100e-01,  1.4579e-01, -7.3321e-02,\n",
              "       -7.0593e-01, -6.2578e-02, -2.5470e-01,  1.1986e-01,  1.6102e-01,\n",
              "        3.2958e-02, -2.4159e-01, -2.5708e-01,  3.2051e-01, -1.1569e-01,\n",
              "        6.7540e-03, -1.1688e-01, -3.6158e-02, -6.5320e-01,  4.9560e-01,\n",
              "       -3.9429e-02, -1.8395e-01,  2.3295e-01,  5.4128e-01,  2.4568e-02,\n",
              "       -1.9862e-01,  2.1041e-01,  9.3798e-02,  8.3096e-03, -6.1551e-02,\n",
              "        2.3262e-01, -4.2756e-02, -5.3511e+00,  3.0604e-01,  3.3578e-01,\n",
              "       -3.6771e-01,  5.6225e-01, -8.2341e-02,  2.9809e-01,  2.5189e-01,\n",
              "       -4.6203e-01,  1.0452e-01, -3.9540e-01,  3.6961e-01,  1.3093e-01,\n",
              "        1.6653e-01, -3.1915e-01,  1.6974e-01,  4.2575e-01,  3.6420e-01,\n",
              "        3.7175e-01, -1.9450e-01,  6.2702e-02,  4.9775e-01,  3.1842e-02,\n",
              "       -6.4072e-02,  7.6183e-02, -5.9534e-01,  3.1731e-01, -2.8254e-01,\n",
              "        1.5987e-01, -9.2750e-02, -4.1426e-02,  7.5799e-02,  9.5740e-03,\n",
              "       -2.1532e-01, -3.1419e-01, -1.5144e-01, -4.6584e-01, -1.1069e-01,\n",
              "       -4.0130e-01,  3.9266e-02,  8.1880e-01, -4.2955e-02,  2.1698e-01,\n",
              "       -6.0347e-02,  3.3431e-01, -9.9549e-02, -1.8156e-01, -8.5143e-02],\n",
              "      dtype=float32)"
            ]
          },
          "metadata": {},
          "execution_count": 62
        }
      ]
    },
    {
      "cell_type": "markdown",
      "source": [
        "Como discutimos, el poder de las incrustaciones de palabras es que las palabras que tienen un significado similar están más juntas en el espacio vectorial. Podemos demostrar esto mirando la distancia del coseno entre algunos pares de palabras de la siguiente manera:"
      ],
      "metadata": {
        "id": "z6zkIX7UKzlV"
      }
    },
    {
      "cell_type": "code",
      "source": [
        "def print_similarity(word1, word2, model):\n",
        "    v1 = model[word1]\n",
        "    v2 = model[word2]\n",
        "    similarity = np.dot(v1, v2) / (np.linalg.norm(v1) * np.linalg.norm(v2))\n",
        "    print(f\"{word1} y {word2} son {round(similarity * 100)}% similar\")\n",
        "\n",
        "print_similarity(\"cat\", \"dog\", model)\n",
        "print_similarity(\"good\", \"bad\", model)\n",
        "print_similarity(\"great\", \"good\", model)\n",
        "print_similarity(\"grass\", \"model\", model)"
      ],
      "metadata": {
        "colab": {
          "base_uri": "https://localhost:8080/"
        },
        "id": "1LG9xirxK2ET",
        "outputId": "51d1839e-be29-4fd0-a8a8-4645dd785a53"
      },
      "execution_count": null,
      "outputs": [
        {
          "output_type": "stream",
          "name": "stdout",
          "text": [
            "cat y dog son 83% similar\n",
            "good y bad son 80% similar\n",
            "great y good son 87% similar\n",
            "grass y model son 11% similar\n"
          ]
        }
      ]
    },
    {
      "cell_type": "markdown",
      "source": [
        "Aquí, \"significado similar\" se define vagamente como \"usado en contextos similares\". Debido a que hay muchos ejemplos como \"Acaricié a mi gato\" y \"Acaricié a mi perro\" donde estas palabras se usan en contextos similares, se consideran muy similares. También hay muchas oraciones en las que \"bueno\" y \"malo\" pueden intercambiarse y la oración puede seguir siendo válida, por lo que, aunque las consideremos \"opuestas\", nuestro modelo las considerará similares. \"hierba\" y \"modelo\" no tienen casi nada que ver entre sí, por lo que están muy separados.\n",
        "\n",
        "Para encontrar el vector de una reseña completa, obtenemos el vector de cada palabra de la reseña por separado y tomamos un promedio simple"
      ],
      "metadata": {
        "id": "NyPpFZbQK8Ra"
      }
    },
    {
      "cell_type": "markdown",
      "source": [
        "Calcule el vector para cada revisión individual en el conjunto de datos."
      ],
      "metadata": {
        "id": "Axse7IKFLC0v"
      }
    },
    {
      "cell_type": "code",
      "source": [
        "review_embeddings = []\n",
        "\n",
        "for each_review in amazon_reviews.reviews_text_new:\n",
        "    review_average = np.zeros(model.vector_size)\n",
        "    count_val = 0\n",
        "    \n",
        "    for each_word in word_tokenize(each_review):\n",
        "\n",
        "        # Cambiar a \"if True\" para remover stopwords del promedio de embeddings\n",
        "        if False:\n",
        "            if(each_word.lower() in noise_words):\n",
        "                print(each_word.lower())\n",
        "                continue\n",
        "        \n",
        "        if(each_word.lower() in model):\n",
        "            review_average += model[each_word.lower()]\n",
        "            count_val += 1\n",
        "    \n",
        "    review_embeddings.append(list(review_average/count_val))"
      ],
      "metadata": {
        "id": "RQbosshgLHXN"
      },
      "execution_count": null,
      "outputs": []
    },
    {
      "cell_type": "markdown",
      "source": [
        "Cargar sus propios vectores de palabras es excelente para comprender cómo funcionan, pero también existen bibliotecas de nivel superior que abstraen código como el que se muestra arriba. En la industria, una biblioteca de NLP ampliamente utilizada es [SpaCy] (https://spacy.io/). Esta biblioteca le permite extraer de manera eficiente las incrustaciones de palabras de los textos y realizar operaciones de alto nivel sobre ellos.\n",
        "\n",
        "Convirtamos la lista de representaciones vectoriales para cada revisión en un DataFrame y dividámoslo en conjuntos de entrenamiento y prueba:"
      ],
      "metadata": {
        "id": "xeD-CD9zLRqG"
      }
    },
    {
      "cell_type": "code",
      "source": [
        "embedding_data = pd.DataFrame(review_embeddings)\n",
        "embedding_data = embedding_data.fillna(0)"
      ],
      "metadata": {
        "id": "YFztCDMZLWbz"
      },
      "execution_count": null,
      "outputs": []
    },
    {
      "cell_type": "code",
      "source": [
        "X_train_embed, X_test_embed, y_train_embed, y_test_embed =  train_test_split(\n",
        "    embedding_data,\n",
        "    amazon_reviews.Sentiment_rating,\n",
        "    test_size=0.2,\n",
        "    random_state=0\n",
        ")"
      ],
      "metadata": {
        "id": "PKDP6ZYzLX_3"
      },
      "execution_count": null,
      "outputs": []
    },
    {
      "cell_type": "markdown",
      "source": [
        "Ahora apliquemos el modelo de regresion logistica a nuestras word embeddings "
      ],
      "metadata": {
        "id": "SPWhQqYKLZX2"
      }
    },
    {
      "cell_type": "code",
      "source": [
        "lr_model = LogisticRegression(penalty=\"l1\", C=10, solver=\"liblinear\")\n",
        "lr_model.fit(X_train_embed, y_train_embed)\n",
        "test_pred_lr_prob = lr_model.predict_proba(X_test_embed)\n",
        "test_pred_lr_all = lr_model.predict(X_test_embed)\n",
        "\n",
        "print(\"F1 score: \", f1_score(y_test_embed, test_pred_lr_all))\n",
        "print(\"Accuracy: \", accuracy_score(y_test_embed, test_pred_lr_all)*100)"
      ],
      "metadata": {
        "colab": {
          "base_uri": "https://localhost:8080/"
        },
        "id": "ecE_YyKuLc2-",
        "outputId": "edd8451e-0640-4247-d307-692fe0410513"
      },
      "execution_count": null,
      "outputs": [
        {
          "output_type": "stream",
          "name": "stdout",
          "text": [
            "F1 score:  0.9381703470031545\n",
            "Accuracy:  89.27789934354486\n"
          ]
        }
      ]
    },
    {
      "cell_type": "markdown",
      "source": [
        "Desafortunadamente, esto no es tan bueno como las representaciones de bolsa de palabras o TF-IDF. Además, aunque las incrustaciones de palabras fueron realmente efectivas para reducir el número total de dimensiones, adolece del problema de la interpretabilidad. Esto significa que es muy difícil para nosotros incluso diagnosticar qué está causando su bajo rendimiento.\n",
        "\n",
        "Sin embargo, ¿recuerda cómo \"bueno\" y \"malo\" estaban juntos en el espacio vectorial? Esta es una de las razones por las que las incrustaciones de palabras pueden no funcionar tan bien para el análisis de sentimientos en conjuntos de datos más pequeños: las incrustaciones de palabras son buenas para usar \"conocimiento\" del mundo externo (latente en las incrustaciones preentrenadas) para inferir información adicional sobre un conjunto de datos más pequeño, pero en el caso del análisis de sentimientos, esto podría hacer más daño que bien al combinar palabras \"similares\" que en realidad están muy separadas para una tarea de análisis de sentimientos.\n",
        "\n",
        "**En nuestro caso, la creación de características usando TF-IDF nos dio una precisión del 92 % con características muy interpretables. Esta es una buena combinación, por lo que consideramos que este es el mejor modelo para nosotros aquí**.\n",
        "\n",
        "Tenga en cuenta que para un experimento real, habríamos dividido nuestro conjunto de datos en tres partes, no solo en dos. Cuando se ejecuta un experimento varias veces con diferentes parámetros, es casi seguro que algunos resultados serán mejores simplemente por casualidad, y es mala ciencia seleccionar el modelo con mejor desempeño después de docenas o cientos de ejecuciones.\n",
        "\n",
        "Para evitar este problema, los datos deben dividirse en conjuntos de \"entrenamiento\", \"prueba\" y \"validación\". El conjunto de \"prueba\" debe reservarse al comienzo del experimento y nunca mirarse. El modelo debe ajustarse utilizando el conjunto de \"validación\".\n",
        "\n",
        "Solo una vez que el experimentador esté satisfecho con el modelo al mejorar el rendimiento en el conjunto de validación, se debe ejecutar el modelo en el conjunto de prueba y esos resultados finales se toman como los resultados finales del experimento."
      ],
      "metadata": {
        "id": "aLgmytl8LjYx"
      }
    },
    {
      "cell_type": "markdown",
      "source": [
        "# Conclusiones"
      ],
      "metadata": {
        "id": "mACgQsCSLzu9"
      }
    },
    {
      "cell_type": "markdown",
      "source": [
        "En este caso, limpiamos y destacamos un conjunto de datos de reseñas de Amazon y construimos algunos modelos de clasificación en estas características para predecir el sentimiento. Vimos que la bolsa de palabras y TF-IDF brindaban características interpretables, mientras que las incrustaciones de palabras realmente no. Al aumentar el conjunto de n-gramas que usamos de 1-gram a 4-grams, pudimos obtener la precisión de nuestro modelo de regresión logística hasta en un 92 %."
      ],
      "metadata": {
        "id": "hPvVo2MuL04X"
      }
    },
    {
      "cell_type": "markdown",
      "source": [
        "# Para llevar"
      ],
      "metadata": {
        "id": "8IUVh266MA_L"
      }
    },
    {
      "cell_type": "markdown",
      "source": [
        "La construcción de modelos de aprendizaje automático en texto es una disciplina muy complicada. Algunas cosas importantes a tener en cuenta son las siguientes:\n",
        "\n",
        "1. Aunque existen diferentes tipos de preprocesamiento involucrados en los datos textuales, no todo tiene que aplicarse en cada caso. Por ejemplo, cuando se trata de mensajes de texto, los caracteres especiales pueden representar información importante y no es necesario eliminarlos. Además, las mayúsculas pueden significar que alguien está enojado y representan gritos, por lo que las mayúsculas y las minúsculas pueden representar información valiosa. En otras situaciones, es más valioso normalizarlas.\n",
        "\n",
        "2. El ajuste de hiperparámetros en los modelos de aprendizaje automático es un paso muy importante y, si bien los hiperparámetros predeterminados funcionan bien en muchos casos, a menudo se puede obtener un rendimiento adicional al ajustarlos. Se deben probar diferentes conjuntos de parámetros para ver qué contribuye al mejor modelo.\n",
        "\n",
        "3. Cada tarea de clasificación en NLP es diferente, pero el proceso a seguir es similar al que hicimos en este caso:  **discutir los datos -> crear características a partir del texto -> entrenar modelos -> evaluar modelos**."
      ],
      "metadata": {
        "id": "iN7hN-ZNMCUX"
      }
    }
  ]
}